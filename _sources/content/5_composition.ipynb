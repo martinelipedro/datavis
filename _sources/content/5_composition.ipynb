{
  "cells": [
    {
      "cell_type": "markdown",
      "metadata": {},
      "source": [
        "# 5 Composição de Múltiplas Visualizações\n",
        "---"
      ]
    },
    {
      "cell_type": "markdown",
      "metadata": {},
      "source": [
        "Ao visualizar vários campos de dados diferentes, podemos ficar tentados a usar tantos canais de codificação visual quanto pudermos: `x`, `y`, `color`, `size`, `shape` e assim por diante. No entanto, à medida que o número de canais de codificação aumenta, um gráfico pode rapidamente tornar-se desordenado e difícil de ler. Uma alternativa para “sobrecarregar” um único gráfico é, em vez disso, compor vários gráficos de uma forma que facilite comparações rápidas."
      ]
    },
    {
      "cell_type": "markdown",
      "metadata": {},
      "source": [
        "Neste capítulo, examinaremos uma variedade de operações para composição de múltiplas visualizações:\n",
        "\n",
        "\n",
        "\n",
        "*   camada: colocar gráficos compatíveis diretamente uns sobre os outros,\n",
        "*   faceta: particionar dados em múltiplos gráficos, organizados em linhas ou colunas,\n",
        "*   concatenação: posicionar gráficos arbitrários em um layout compartilhado, e\n",
        "*   repetição: pegar uma especificação de gráfico base e aplica-lá a vários campos de dados.\n",
        "\n",
        "\n",
        "\n",
        "\n",
        "Veremos então como essas operações formam uma álgebra de composição de visualizações, em que as operações podem ser combinadas para construir uma variedade de exibições complexas de múltiplas visualizações."
      ]
    },
    {
      "cell_type": "markdown",
      "metadata": {},
      "source": [
        "Este capítulo faz parte do [data visualization curriculum ](https://github.com/uwdata/visualization-curriculum)."
      ]
    },
    {
      "cell_type": "code",
      "execution_count": 2,
      "metadata": {},
      "outputs": [],
      "source": [
        "import pandas as pd\n",
        "import altair as alt"
      ]
    },
    {
      "cell_type": "markdown",
      "metadata": {},
      "source": [
        "## Dados Meteorológicos\n",
        "---"
      ]
    },
    {
      "cell_type": "markdown",
      "metadata": {},
      "source": [
        "Estaremos visualizando estatísticas meteorológicas para as cidades americanas de Seattle e Nova York. Vamos carregar o conjunto de dados e dar uma olhada nas primeiras e últimas 10 linhas:"
      ]
    },
    {
      "cell_type": "code",
      "execution_count": 3,
      "metadata": {},
      "outputs": [],
      "source": [
        "weather = 'https://cdn.jsdelivr.net/npm/vega-datasets@1/data/weather.csv'"
      ]
    },
    {
      "cell_type": "code",
      "execution_count": 4,
      "metadata": {},
      "outputs": [
        {
          "data": {
            "text/html": [
              "<div>\n",
              "<style scoped>\n",
              "    .dataframe tbody tr th:only-of-type {\n",
              "        vertical-align: middle;\n",
              "    }\n",
              "\n",
              "    .dataframe tbody tr th {\n",
              "        vertical-align: top;\n",
              "    }\n",
              "\n",
              "    .dataframe thead th {\n",
              "        text-align: right;\n",
              "    }\n",
              "</style>\n",
              "<table border=\"1\" class=\"dataframe\">\n",
              "  <thead>\n",
              "    <tr style=\"text-align: right;\">\n",
              "      <th></th>\n",
              "      <th>location</th>\n",
              "      <th>date</th>\n",
              "      <th>precipitation</th>\n",
              "      <th>temp_max</th>\n",
              "      <th>temp_min</th>\n",
              "      <th>wind</th>\n",
              "      <th>weather</th>\n",
              "    </tr>\n",
              "  </thead>\n",
              "  <tbody>\n",
              "    <tr>\n",
              "      <th>0</th>\n",
              "      <td>Seattle</td>\n",
              "      <td>2012-01-01</td>\n",
              "      <td>0.0</td>\n",
              "      <td>12.8</td>\n",
              "      <td>5.0</td>\n",
              "      <td>4.7</td>\n",
              "      <td>drizzle</td>\n",
              "    </tr>\n",
              "    <tr>\n",
              "      <th>1</th>\n",
              "      <td>Seattle</td>\n",
              "      <td>2012-01-02</td>\n",
              "      <td>10.9</td>\n",
              "      <td>10.6</td>\n",
              "      <td>2.8</td>\n",
              "      <td>4.5</td>\n",
              "      <td>rain</td>\n",
              "    </tr>\n",
              "    <tr>\n",
              "      <th>2</th>\n",
              "      <td>Seattle</td>\n",
              "      <td>2012-01-03</td>\n",
              "      <td>0.8</td>\n",
              "      <td>11.7</td>\n",
              "      <td>7.2</td>\n",
              "      <td>2.3</td>\n",
              "      <td>rain</td>\n",
              "    </tr>\n",
              "    <tr>\n",
              "      <th>3</th>\n",
              "      <td>Seattle</td>\n",
              "      <td>2012-01-04</td>\n",
              "      <td>20.3</td>\n",
              "      <td>12.2</td>\n",
              "      <td>5.6</td>\n",
              "      <td>4.7</td>\n",
              "      <td>rain</td>\n",
              "    </tr>\n",
              "    <tr>\n",
              "      <th>4</th>\n",
              "      <td>Seattle</td>\n",
              "      <td>2012-01-05</td>\n",
              "      <td>1.3</td>\n",
              "      <td>8.9</td>\n",
              "      <td>2.8</td>\n",
              "      <td>6.1</td>\n",
              "      <td>rain</td>\n",
              "    </tr>\n",
              "    <tr>\n",
              "      <th>5</th>\n",
              "      <td>Seattle</td>\n",
              "      <td>2012-01-06</td>\n",
              "      <td>2.5</td>\n",
              "      <td>4.4</td>\n",
              "      <td>2.2</td>\n",
              "      <td>2.2</td>\n",
              "      <td>rain</td>\n",
              "    </tr>\n",
              "    <tr>\n",
              "      <th>6</th>\n",
              "      <td>Seattle</td>\n",
              "      <td>2012-01-07</td>\n",
              "      <td>0.0</td>\n",
              "      <td>7.2</td>\n",
              "      <td>2.8</td>\n",
              "      <td>2.3</td>\n",
              "      <td>rain</td>\n",
              "    </tr>\n",
              "    <tr>\n",
              "      <th>7</th>\n",
              "      <td>Seattle</td>\n",
              "      <td>2012-01-08</td>\n",
              "      <td>0.0</td>\n",
              "      <td>10.0</td>\n",
              "      <td>2.8</td>\n",
              "      <td>2.0</td>\n",
              "      <td>sun</td>\n",
              "    </tr>\n",
              "    <tr>\n",
              "      <th>8</th>\n",
              "      <td>Seattle</td>\n",
              "      <td>2012-01-09</td>\n",
              "      <td>4.3</td>\n",
              "      <td>9.4</td>\n",
              "      <td>5.0</td>\n",
              "      <td>3.4</td>\n",
              "      <td>rain</td>\n",
              "    </tr>\n",
              "    <tr>\n",
              "      <th>9</th>\n",
              "      <td>Seattle</td>\n",
              "      <td>2012-01-10</td>\n",
              "      <td>1.0</td>\n",
              "      <td>6.1</td>\n",
              "      <td>0.6</td>\n",
              "      <td>3.4</td>\n",
              "      <td>rain</td>\n",
              "    </tr>\n",
              "  </tbody>\n",
              "</table>\n",
              "</div>"
            ],
            "text/plain": [
              "  location        date  precipitation  temp_max  temp_min  wind  weather\n",
              "0  Seattle  2012-01-01            0.0      12.8       5.0   4.7  drizzle\n",
              "1  Seattle  2012-01-02           10.9      10.6       2.8   4.5     rain\n",
              "2  Seattle  2012-01-03            0.8      11.7       7.2   2.3     rain\n",
              "3  Seattle  2012-01-04           20.3      12.2       5.6   4.7     rain\n",
              "4  Seattle  2012-01-05            1.3       8.9       2.8   6.1     rain\n",
              "5  Seattle  2012-01-06            2.5       4.4       2.2   2.2     rain\n",
              "6  Seattle  2012-01-07            0.0       7.2       2.8   2.3     rain\n",
              "7  Seattle  2012-01-08            0.0      10.0       2.8   2.0      sun\n",
              "8  Seattle  2012-01-09            4.3       9.4       5.0   3.4     rain\n",
              "9  Seattle  2012-01-10            1.0       6.1       0.6   3.4     rain"
            ]
          },
          "execution_count": 4,
          "metadata": {},
          "output_type": "execute_result"
        }
      ],
      "source": [
        "df = pd.read_csv(weather)\n",
        "df.head(10)"
      ]
    },
    {
      "cell_type": "code",
      "execution_count": 5,
      "metadata": {},
      "outputs": [
        {
          "data": {
            "text/html": [
              "<div>\n",
              "<style scoped>\n",
              "    .dataframe tbody tr th:only-of-type {\n",
              "        vertical-align: middle;\n",
              "    }\n",
              "\n",
              "    .dataframe tbody tr th {\n",
              "        vertical-align: top;\n",
              "    }\n",
              "\n",
              "    .dataframe thead th {\n",
              "        text-align: right;\n",
              "    }\n",
              "</style>\n",
              "<table border=\"1\" class=\"dataframe\">\n",
              "  <thead>\n",
              "    <tr style=\"text-align: right;\">\n",
              "      <th></th>\n",
              "      <th>location</th>\n",
              "      <th>date</th>\n",
              "      <th>precipitation</th>\n",
              "      <th>temp_max</th>\n",
              "      <th>temp_min</th>\n",
              "      <th>wind</th>\n",
              "      <th>weather</th>\n",
              "    </tr>\n",
              "  </thead>\n",
              "  <tbody>\n",
              "    <tr>\n",
              "      <th>2912</th>\n",
              "      <td>New York</td>\n",
              "      <td>2015-12-22</td>\n",
              "      <td>4.8</td>\n",
              "      <td>15.6</td>\n",
              "      <td>11.1</td>\n",
              "      <td>3.8</td>\n",
              "      <td>fog</td>\n",
              "    </tr>\n",
              "    <tr>\n",
              "      <th>2913</th>\n",
              "      <td>New York</td>\n",
              "      <td>2015-12-23</td>\n",
              "      <td>29.5</td>\n",
              "      <td>17.2</td>\n",
              "      <td>8.9</td>\n",
              "      <td>4.5</td>\n",
              "      <td>fog</td>\n",
              "    </tr>\n",
              "    <tr>\n",
              "      <th>2914</th>\n",
              "      <td>New York</td>\n",
              "      <td>2015-12-24</td>\n",
              "      <td>0.5</td>\n",
              "      <td>20.6</td>\n",
              "      <td>13.9</td>\n",
              "      <td>4.9</td>\n",
              "      <td>fog</td>\n",
              "    </tr>\n",
              "    <tr>\n",
              "      <th>2915</th>\n",
              "      <td>New York</td>\n",
              "      <td>2015-12-25</td>\n",
              "      <td>2.5</td>\n",
              "      <td>17.8</td>\n",
              "      <td>11.1</td>\n",
              "      <td>0.9</td>\n",
              "      <td>fog</td>\n",
              "    </tr>\n",
              "    <tr>\n",
              "      <th>2916</th>\n",
              "      <td>New York</td>\n",
              "      <td>2015-12-26</td>\n",
              "      <td>0.3</td>\n",
              "      <td>15.6</td>\n",
              "      <td>9.4</td>\n",
              "      <td>4.8</td>\n",
              "      <td>drizzle</td>\n",
              "    </tr>\n",
              "    <tr>\n",
              "      <th>2917</th>\n",
              "      <td>New York</td>\n",
              "      <td>2015-12-27</td>\n",
              "      <td>2.0</td>\n",
              "      <td>17.2</td>\n",
              "      <td>8.9</td>\n",
              "      <td>5.5</td>\n",
              "      <td>fog</td>\n",
              "    </tr>\n",
              "    <tr>\n",
              "      <th>2918</th>\n",
              "      <td>New York</td>\n",
              "      <td>2015-12-28</td>\n",
              "      <td>1.3</td>\n",
              "      <td>8.9</td>\n",
              "      <td>1.7</td>\n",
              "      <td>6.3</td>\n",
              "      <td>snow</td>\n",
              "    </tr>\n",
              "    <tr>\n",
              "      <th>2919</th>\n",
              "      <td>New York</td>\n",
              "      <td>2015-12-29</td>\n",
              "      <td>16.8</td>\n",
              "      <td>9.4</td>\n",
              "      <td>1.1</td>\n",
              "      <td>5.3</td>\n",
              "      <td>fog</td>\n",
              "    </tr>\n",
              "    <tr>\n",
              "      <th>2920</th>\n",
              "      <td>New York</td>\n",
              "      <td>2015-12-30</td>\n",
              "      <td>9.4</td>\n",
              "      <td>10.6</td>\n",
              "      <td>5.0</td>\n",
              "      <td>3.0</td>\n",
              "      <td>fog</td>\n",
              "    </tr>\n",
              "    <tr>\n",
              "      <th>2921</th>\n",
              "      <td>New York</td>\n",
              "      <td>2015-12-31</td>\n",
              "      <td>1.5</td>\n",
              "      <td>11.1</td>\n",
              "      <td>6.1</td>\n",
              "      <td>5.5</td>\n",
              "      <td>fog</td>\n",
              "    </tr>\n",
              "  </tbody>\n",
              "</table>\n",
              "</div>"
            ],
            "text/plain": [
              "      location        date  precipitation  temp_max  temp_min  wind  weather\n",
              "2912  New York  2015-12-22            4.8      15.6      11.1   3.8      fog\n",
              "2913  New York  2015-12-23           29.5      17.2       8.9   4.5      fog\n",
              "2914  New York  2015-12-24            0.5      20.6      13.9   4.9      fog\n",
              "2915  New York  2015-12-25            2.5      17.8      11.1   0.9      fog\n",
              "2916  New York  2015-12-26            0.3      15.6       9.4   4.8  drizzle\n",
              "2917  New York  2015-12-27            2.0      17.2       8.9   5.5      fog\n",
              "2918  New York  2015-12-28            1.3       8.9       1.7   6.3     snow\n",
              "2919  New York  2015-12-29           16.8       9.4       1.1   5.3      fog\n",
              "2920  New York  2015-12-30            9.4      10.6       5.0   3.0      fog\n",
              "2921  New York  2015-12-31            1.5      11.1       6.1   5.5      fog"
            ]
          },
          "execution_count": 5,
          "metadata": {},
          "output_type": "execute_result"
        }
      ],
      "source": [
        "df.tail(10)"
      ]
    },
    {
      "cell_type": "markdown",
      "metadata": {},
      "source": [
        "Criaremos exibições de multivisualizações para examinar o clima dentro e fora das cidades."
      ]
    },
    {
      "cell_type": "markdown",
      "metadata": {},
      "source": [
        "## Camada\n",
        "---\n",
        "Uma das formas mais comuns de combinar vários gráficos é *sobrepor* marcas umas sobre as outras. Se os domínios das escalas subjacentes forem compatíveis, podemos mesclá-los para formar *eixos compartilhados*. Se uma das codificações em `x` ou `y` não for compatível, podemos, em vez disso, criar um gráfico de *eixos duplos*, que sobrepõe marcas usando escalas e eixos separados."
      ]
    },
    {
      "cell_type": "markdown",
      "metadata": {},
      "source": [
        "### Eixos Compartilhados\n",
        "Vamos começar plotando as temperaturas médias mínima e máxima por mês:"
      ]
    },
    {
      "cell_type": "code",
      "execution_count": 6,
      "metadata": {},
      "outputs": [
        {
          "data": {
            "text/html": [
              "\n",
              "<style>\n",
              "  #altair-viz-6543c562ab2648a99d59f64da8af053e.vega-embed {\n",
              "    width: 100%;\n",
              "    display: flex;\n",
              "  }\n",
              "\n",
              "  #altair-viz-6543c562ab2648a99d59f64da8af053e.vega-embed details,\n",
              "  #altair-viz-6543c562ab2648a99d59f64da8af053e.vega-embed details summary {\n",
              "    position: relative;\n",
              "  }\n",
              "</style>\n",
              "<div id=\"altair-viz-6543c562ab2648a99d59f64da8af053e\"></div>\n",
              "<script type=\"text/javascript\">\n",
              "  var VEGA_DEBUG = (typeof VEGA_DEBUG == \"undefined\") ? {} : VEGA_DEBUG;\n",
              "  (function(spec, embedOpt){\n",
              "    let outputDiv = document.currentScript.previousElementSibling;\n",
              "    if (outputDiv.id !== \"altair-viz-6543c562ab2648a99d59f64da8af053e\") {\n",
              "      outputDiv = document.getElementById(\"altair-viz-6543c562ab2648a99d59f64da8af053e\");\n",
              "    }\n",
              "\n",
              "    const paths = {\n",
              "      \"vega\": \"https://cdn.jsdelivr.net/npm/vega@5?noext\",\n",
              "      \"vega-lib\": \"https://cdn.jsdelivr.net/npm/vega-lib?noext\",\n",
              "      \"vega-lite\": \"https://cdn.jsdelivr.net/npm/vega-lite@5.20.1?noext\",\n",
              "      \"vega-embed\": \"https://cdn.jsdelivr.net/npm/vega-embed@6?noext\",\n",
              "    };\n",
              "\n",
              "    function maybeLoadScript(lib, version) {\n",
              "      var key = `${lib.replace(\"-\", \"\")}_version`;\n",
              "      return (VEGA_DEBUG[key] == version) ?\n",
              "        Promise.resolve(paths[lib]) :\n",
              "        new Promise(function(resolve, reject) {\n",
              "          var s = document.createElement('script');\n",
              "          document.getElementsByTagName(\"head\")[0].appendChild(s);\n",
              "          s.async = true;\n",
              "          s.onload = () => {\n",
              "            VEGA_DEBUG[key] = version;\n",
              "            return resolve(paths[lib]);\n",
              "          };\n",
              "          s.onerror = () => reject(`Error loading script: ${paths[lib]}`);\n",
              "          s.src = paths[lib];\n",
              "        });\n",
              "    }\n",
              "\n",
              "    function showError(err) {\n",
              "      outputDiv.innerHTML = `<div class=\"error\" style=\"color:red;\">${err}</div>`;\n",
              "      throw err;\n",
              "    }\n",
              "\n",
              "    function displayChart(vegaEmbed) {\n",
              "      vegaEmbed(outputDiv, spec, embedOpt)\n",
              "        .catch(err => showError(`Javascript Error: ${err.message}<br>This usually means there's a typo in your chart specification. See the javascript console for the full traceback.`));\n",
              "    }\n",
              "\n",
              "    if(typeof define === \"function\" && define.amd) {\n",
              "      requirejs.config({paths});\n",
              "      let deps = [\"vega-embed\"];\n",
              "      require(deps, displayChart, err => showError(`Error loading script: ${err.message}`));\n",
              "    } else {\n",
              "      maybeLoadScript(\"vega\", \"5\")\n",
              "        .then(() => maybeLoadScript(\"vega-lite\", \"5.20.1\"))\n",
              "        .then(() => maybeLoadScript(\"vega-embed\", \"6\"))\n",
              "        .catch(showError)\n",
              "        .then(() => displayChart(vegaEmbed));\n",
              "    }\n",
              "  })({\"config\": {\"view\": {\"continuousWidth\": 300, \"continuousHeight\": 300}}, \"data\": {\"url\": \"https://cdn.jsdelivr.net/npm/vega-datasets@1/data/weather.csv\"}, \"mark\": {\"type\": \"area\"}, \"encoding\": {\"x\": {\"field\": \"date\", \"timeUnit\": \"month\", \"type\": \"temporal\"}, \"y\": {\"aggregate\": \"average\", \"field\": \"temp_max\", \"type\": \"quantitative\"}, \"y2\": {\"aggregate\": \"average\", \"field\": \"temp_min\"}}, \"$schema\": \"https://vega.github.io/schema/vega-lite/v5.20.1.json\"}, {\"mode\": \"vega-lite\"});\n",
              "</script>"
            ],
            "text/plain": [
              "alt.Chart(...)"
            ]
          },
          "execution_count": 6,
          "metadata": {},
          "output_type": "execute_result"
        }
      ],
      "source": [
        "alt.Chart(weather).mark_area().encode(\n",
        "  alt.X('month(date):T'),\n",
        "  alt.Y('average(temp_max):Q'),\n",
        "  alt.Y2('average(temp_min):Q')\n",
        ")"
      ]
    },
    {
      "cell_type": "markdown",
      "metadata": {},
      "source": [
        "*O gráfico nos mostra os intervalos de temperatura para cada mês ao longo de todo o nosso conjunto de dados. No entanto, isso pode ser bastante enganoso, pois agrega as medições de Seattle e Nova York!*\n",
        "\n",
        "Vamos subdividir os dados por local usando uma codificação de cor e também ajustar a opacidade das marcas para acomodar as áreas sobrepostas:"
      ]
    },
    {
      "cell_type": "code",
      "execution_count": 7,
      "metadata": {},
      "outputs": [
        {
          "data": {
            "text/html": [
              "\n",
              "<style>\n",
              "  #altair-viz-db67aea434aa4320ae5693fc1d8c7643.vega-embed {\n",
              "    width: 100%;\n",
              "    display: flex;\n",
              "  }\n",
              "\n",
              "  #altair-viz-db67aea434aa4320ae5693fc1d8c7643.vega-embed details,\n",
              "  #altair-viz-db67aea434aa4320ae5693fc1d8c7643.vega-embed details summary {\n",
              "    position: relative;\n",
              "  }\n",
              "</style>\n",
              "<div id=\"altair-viz-db67aea434aa4320ae5693fc1d8c7643\"></div>\n",
              "<script type=\"text/javascript\">\n",
              "  var VEGA_DEBUG = (typeof VEGA_DEBUG == \"undefined\") ? {} : VEGA_DEBUG;\n",
              "  (function(spec, embedOpt){\n",
              "    let outputDiv = document.currentScript.previousElementSibling;\n",
              "    if (outputDiv.id !== \"altair-viz-db67aea434aa4320ae5693fc1d8c7643\") {\n",
              "      outputDiv = document.getElementById(\"altair-viz-db67aea434aa4320ae5693fc1d8c7643\");\n",
              "    }\n",
              "\n",
              "    const paths = {\n",
              "      \"vega\": \"https://cdn.jsdelivr.net/npm/vega@5?noext\",\n",
              "      \"vega-lib\": \"https://cdn.jsdelivr.net/npm/vega-lib?noext\",\n",
              "      \"vega-lite\": \"https://cdn.jsdelivr.net/npm/vega-lite@5.20.1?noext\",\n",
              "      \"vega-embed\": \"https://cdn.jsdelivr.net/npm/vega-embed@6?noext\",\n",
              "    };\n",
              "\n",
              "    function maybeLoadScript(lib, version) {\n",
              "      var key = `${lib.replace(\"-\", \"\")}_version`;\n",
              "      return (VEGA_DEBUG[key] == version) ?\n",
              "        Promise.resolve(paths[lib]) :\n",
              "        new Promise(function(resolve, reject) {\n",
              "          var s = document.createElement('script');\n",
              "          document.getElementsByTagName(\"head\")[0].appendChild(s);\n",
              "          s.async = true;\n",
              "          s.onload = () => {\n",
              "            VEGA_DEBUG[key] = version;\n",
              "            return resolve(paths[lib]);\n",
              "          };\n",
              "          s.onerror = () => reject(`Error loading script: ${paths[lib]}`);\n",
              "          s.src = paths[lib];\n",
              "        });\n",
              "    }\n",
              "\n",
              "    function showError(err) {\n",
              "      outputDiv.innerHTML = `<div class=\"error\" style=\"color:red;\">${err}</div>`;\n",
              "      throw err;\n",
              "    }\n",
              "\n",
              "    function displayChart(vegaEmbed) {\n",
              "      vegaEmbed(outputDiv, spec, embedOpt)\n",
              "        .catch(err => showError(`Javascript Error: ${err.message}<br>This usually means there's a typo in your chart specification. See the javascript console for the full traceback.`));\n",
              "    }\n",
              "\n",
              "    if(typeof define === \"function\" && define.amd) {\n",
              "      requirejs.config({paths});\n",
              "      let deps = [\"vega-embed\"];\n",
              "      require(deps, displayChart, err => showError(`Error loading script: ${err.message}`));\n",
              "    } else {\n",
              "      maybeLoadScript(\"vega\", \"5\")\n",
              "        .then(() => maybeLoadScript(\"vega-lite\", \"5.20.1\"))\n",
              "        .then(() => maybeLoadScript(\"vega-embed\", \"6\"))\n",
              "        .catch(showError)\n",
              "        .then(() => displayChart(vegaEmbed));\n",
              "    }\n",
              "  })({\"config\": {\"view\": {\"continuousWidth\": 300, \"continuousHeight\": 300}}, \"data\": {\"url\": \"https://cdn.jsdelivr.net/npm/vega-datasets@1/data/weather.csv\"}, \"mark\": {\"type\": \"area\", \"opacity\": 0.3}, \"encoding\": {\"color\": {\"field\": \"location\", \"type\": \"nominal\"}, \"x\": {\"field\": \"date\", \"timeUnit\": \"month\", \"type\": \"temporal\"}, \"y\": {\"aggregate\": \"average\", \"field\": \"temp_max\", \"type\": \"quantitative\"}, \"y2\": {\"aggregate\": \"average\", \"field\": \"temp_min\"}}, \"$schema\": \"https://vega.github.io/schema/vega-lite/v5.20.1.json\"}, {\"mode\": \"vega-lite\"});\n",
              "</script>"
            ],
            "text/plain": [
              "alt.Chart(...)"
            ]
          },
          "execution_count": 7,
          "metadata": {},
          "output_type": "execute_result"
        }
      ],
      "source": [
        "alt.Chart(weather).mark_area(opacity=0.3).encode(\n",
        "  alt.X('month(date):T'),\n",
        "  alt.Y('average(temp_max):Q'),\n",
        "  alt.Y2('average(temp_min):Q'),\n",
        "  alt.Color('location:N')\n",
        ")"
      ]
    },
    {
      "cell_type": "markdown",
      "metadata": {},
      "source": [
        "*Podemos ver que Seattle tem um clima mais ameno: é mais quente no inverno e mais fresco no verão.*\n",
        "\n",
        "Neste caso, criamos um gráfico em camadas sem recursos especiais, apenas subdividindo as marcas de área por cor. Embora o gráfico acima nos mostre os intervalos de temperatura, também podemos querer enfatizar o ponto médio desse intervalo.\n",
        "\n",
        "Vamos criar um gráfico de linhas mostrando a temperatura média intermediária. Para isso, usaremos uma transformação de cálculo (`calculate`) para determinar os pontos médios entre as temperaturas mínimas e máximas diárias:"
      ]
    },
    {
      "cell_type": "code",
      "execution_count": 8,
      "metadata": {},
      "outputs": [
        {
          "data": {
            "text/html": [
              "\n",
              "<style>\n",
              "  #altair-viz-ddd0357f75484816a7f9aaee28166bd6.vega-embed {\n",
              "    width: 100%;\n",
              "    display: flex;\n",
              "  }\n",
              "\n",
              "  #altair-viz-ddd0357f75484816a7f9aaee28166bd6.vega-embed details,\n",
              "  #altair-viz-ddd0357f75484816a7f9aaee28166bd6.vega-embed details summary {\n",
              "    position: relative;\n",
              "  }\n",
              "</style>\n",
              "<div id=\"altair-viz-ddd0357f75484816a7f9aaee28166bd6\"></div>\n",
              "<script type=\"text/javascript\">\n",
              "  var VEGA_DEBUG = (typeof VEGA_DEBUG == \"undefined\") ? {} : VEGA_DEBUG;\n",
              "  (function(spec, embedOpt){\n",
              "    let outputDiv = document.currentScript.previousElementSibling;\n",
              "    if (outputDiv.id !== \"altair-viz-ddd0357f75484816a7f9aaee28166bd6\") {\n",
              "      outputDiv = document.getElementById(\"altair-viz-ddd0357f75484816a7f9aaee28166bd6\");\n",
              "    }\n",
              "\n",
              "    const paths = {\n",
              "      \"vega\": \"https://cdn.jsdelivr.net/npm/vega@5?noext\",\n",
              "      \"vega-lib\": \"https://cdn.jsdelivr.net/npm/vega-lib?noext\",\n",
              "      \"vega-lite\": \"https://cdn.jsdelivr.net/npm/vega-lite@5.20.1?noext\",\n",
              "      \"vega-embed\": \"https://cdn.jsdelivr.net/npm/vega-embed@6?noext\",\n",
              "    };\n",
              "\n",
              "    function maybeLoadScript(lib, version) {\n",
              "      var key = `${lib.replace(\"-\", \"\")}_version`;\n",
              "      return (VEGA_DEBUG[key] == version) ?\n",
              "        Promise.resolve(paths[lib]) :\n",
              "        new Promise(function(resolve, reject) {\n",
              "          var s = document.createElement('script');\n",
              "          document.getElementsByTagName(\"head\")[0].appendChild(s);\n",
              "          s.async = true;\n",
              "          s.onload = () => {\n",
              "            VEGA_DEBUG[key] = version;\n",
              "            return resolve(paths[lib]);\n",
              "          };\n",
              "          s.onerror = () => reject(`Error loading script: ${paths[lib]}`);\n",
              "          s.src = paths[lib];\n",
              "        });\n",
              "    }\n",
              "\n",
              "    function showError(err) {\n",
              "      outputDiv.innerHTML = `<div class=\"error\" style=\"color:red;\">${err}</div>`;\n",
              "      throw err;\n",
              "    }\n",
              "\n",
              "    function displayChart(vegaEmbed) {\n",
              "      vegaEmbed(outputDiv, spec, embedOpt)\n",
              "        .catch(err => showError(`Javascript Error: ${err.message}<br>This usually means there's a typo in your chart specification. See the javascript console for the full traceback.`));\n",
              "    }\n",
              "\n",
              "    if(typeof define === \"function\" && define.amd) {\n",
              "      requirejs.config({paths});\n",
              "      let deps = [\"vega-embed\"];\n",
              "      require(deps, displayChart, err => showError(`Error loading script: ${err.message}`));\n",
              "    } else {\n",
              "      maybeLoadScript(\"vega\", \"5\")\n",
              "        .then(() => maybeLoadScript(\"vega-lite\", \"5.20.1\"))\n",
              "        .then(() => maybeLoadScript(\"vega-embed\", \"6\"))\n",
              "        .catch(showError)\n",
              "        .then(() => displayChart(vegaEmbed));\n",
              "    }\n",
              "  })({\"config\": {\"view\": {\"continuousWidth\": 300, \"continuousHeight\": 300}}, \"data\": {\"url\": \"https://cdn.jsdelivr.net/npm/vega-datasets@1/data/weather.csv\"}, \"mark\": {\"type\": \"line\"}, \"encoding\": {\"color\": {\"field\": \"location\", \"type\": \"nominal\"}, \"x\": {\"field\": \"date\", \"timeUnit\": \"month\", \"type\": \"temporal\"}, \"y\": {\"aggregate\": \"average\", \"field\": \"temp_mid\", \"type\": \"quantitative\"}}, \"transform\": [{\"calculate\": \"(+datum.temp_min + +datum.temp_max) / 2\", \"as\": \"temp_mid\"}], \"$schema\": \"https://vega.github.io/schema/vega-lite/v5.20.1.json\"}, {\"mode\": \"vega-lite\"});\n",
              "</script>"
            ],
            "text/plain": [
              "alt.Chart(...)"
            ]
          },
          "execution_count": 8,
          "metadata": {},
          "output_type": "execute_result"
        }
      ],
      "source": [
        "alt.Chart(weather).mark_line().transform_calculate(\n",
        "  temp_mid='(+datum.temp_min + +datum.temp_max) / 2'\n",
        ").encode(\n",
        "  alt.X('month(date):T'),\n",
        "  alt.Y('average(temp_mid):Q'),\n",
        "  alt.Color('location:N')\n",
        ")"
      ]
    },
    {
      "cell_type": "markdown",
      "metadata": {},
      "source": [
        "*Observação*: note o uso de `+datum.temp_min` dentro da transformação de cálculo. Como estamos carregando os dados diretamente de um arquivo CSV sem nenhuma instrução especial de análise, os valores de temperatura podem estar internamente representados como strings. Adicionar o `+` antes do valor força sua interpretação como um número.\n",
        "\n",
        "Agora, queremos combinar esses gráficos sobrepondo as linhas dos pontos médios às áreas de intervalo. Usando a sintaxe `chart1 + chart2`, podemos especificar que queremos um novo gráfico em camadas em que `chart1` é a primeira camada e `chart2` é uma segunda camada desenhada por cima:"
      ]
    },
    {
      "cell_type": "code",
      "execution_count": 9,
      "metadata": {},
      "outputs": [
        {
          "data": {
            "text/html": [
              "\n",
              "<style>\n",
              "  #altair-viz-66294efaf0e343b4b0e11191ff3147fb.vega-embed {\n",
              "    width: 100%;\n",
              "    display: flex;\n",
              "  }\n",
              "\n",
              "  #altair-viz-66294efaf0e343b4b0e11191ff3147fb.vega-embed details,\n",
              "  #altair-viz-66294efaf0e343b4b0e11191ff3147fb.vega-embed details summary {\n",
              "    position: relative;\n",
              "  }\n",
              "</style>\n",
              "<div id=\"altair-viz-66294efaf0e343b4b0e11191ff3147fb\"></div>\n",
              "<script type=\"text/javascript\">\n",
              "  var VEGA_DEBUG = (typeof VEGA_DEBUG == \"undefined\") ? {} : VEGA_DEBUG;\n",
              "  (function(spec, embedOpt){\n",
              "    let outputDiv = document.currentScript.previousElementSibling;\n",
              "    if (outputDiv.id !== \"altair-viz-66294efaf0e343b4b0e11191ff3147fb\") {\n",
              "      outputDiv = document.getElementById(\"altair-viz-66294efaf0e343b4b0e11191ff3147fb\");\n",
              "    }\n",
              "\n",
              "    const paths = {\n",
              "      \"vega\": \"https://cdn.jsdelivr.net/npm/vega@5?noext\",\n",
              "      \"vega-lib\": \"https://cdn.jsdelivr.net/npm/vega-lib?noext\",\n",
              "      \"vega-lite\": \"https://cdn.jsdelivr.net/npm/vega-lite@5.20.1?noext\",\n",
              "      \"vega-embed\": \"https://cdn.jsdelivr.net/npm/vega-embed@6?noext\",\n",
              "    };\n",
              "\n",
              "    function maybeLoadScript(lib, version) {\n",
              "      var key = `${lib.replace(\"-\", \"\")}_version`;\n",
              "      return (VEGA_DEBUG[key] == version) ?\n",
              "        Promise.resolve(paths[lib]) :\n",
              "        new Promise(function(resolve, reject) {\n",
              "          var s = document.createElement('script');\n",
              "          document.getElementsByTagName(\"head\")[0].appendChild(s);\n",
              "          s.async = true;\n",
              "          s.onload = () => {\n",
              "            VEGA_DEBUG[key] = version;\n",
              "            return resolve(paths[lib]);\n",
              "          };\n",
              "          s.onerror = () => reject(`Error loading script: ${paths[lib]}`);\n",
              "          s.src = paths[lib];\n",
              "        });\n",
              "    }\n",
              "\n",
              "    function showError(err) {\n",
              "      outputDiv.innerHTML = `<div class=\"error\" style=\"color:red;\">${err}</div>`;\n",
              "      throw err;\n",
              "    }\n",
              "\n",
              "    function displayChart(vegaEmbed) {\n",
              "      vegaEmbed(outputDiv, spec, embedOpt)\n",
              "        .catch(err => showError(`Javascript Error: ${err.message}<br>This usually means there's a typo in your chart specification. See the javascript console for the full traceback.`));\n",
              "    }\n",
              "\n",
              "    if(typeof define === \"function\" && define.amd) {\n",
              "      requirejs.config({paths});\n",
              "      let deps = [\"vega-embed\"];\n",
              "      require(deps, displayChart, err => showError(`Error loading script: ${err.message}`));\n",
              "    } else {\n",
              "      maybeLoadScript(\"vega\", \"5\")\n",
              "        .then(() => maybeLoadScript(\"vega-lite\", \"5.20.1\"))\n",
              "        .then(() => maybeLoadScript(\"vega-embed\", \"6\"))\n",
              "        .catch(showError)\n",
              "        .then(() => displayChart(vegaEmbed));\n",
              "    }\n",
              "  })({\"config\": {\"view\": {\"continuousWidth\": 300, \"continuousHeight\": 300}}, \"layer\": [{\"mark\": {\"type\": \"area\", \"opacity\": 0.3}, \"encoding\": {\"color\": {\"field\": \"location\", \"type\": \"nominal\"}, \"x\": {\"field\": \"date\", \"timeUnit\": \"month\", \"type\": \"temporal\"}, \"y\": {\"aggregate\": \"average\", \"field\": \"temp_max\", \"type\": \"quantitative\"}, \"y2\": {\"aggregate\": \"average\", \"field\": \"temp_min\"}}}, {\"mark\": {\"type\": \"line\"}, \"encoding\": {\"color\": {\"field\": \"location\", \"type\": \"nominal\"}, \"x\": {\"field\": \"date\", \"timeUnit\": \"month\", \"type\": \"temporal\"}, \"y\": {\"aggregate\": \"average\", \"field\": \"temp_mid\", \"type\": \"quantitative\"}}, \"transform\": [{\"calculate\": \"(+datum.temp_min + +datum.temp_max) / 2\", \"as\": \"temp_mid\"}]}], \"data\": {\"url\": \"https://cdn.jsdelivr.net/npm/vega-datasets@1/data/weather.csv\"}, \"$schema\": \"https://vega.github.io/schema/vega-lite/v5.20.1.json\"}, {\"mode\": \"vega-lite\"});\n",
              "</script>"
            ],
            "text/plain": [
              "alt.LayerChart(...)"
            ]
          },
          "execution_count": 9,
          "metadata": {},
          "output_type": "execute_result"
        }
      ],
      "source": [
        "tempMinMax = alt.Chart(weather).mark_area(opacity=0.3).encode(\n",
        "  alt.X('month(date):T'),\n",
        "  alt.Y('average(temp_max):Q'),\n",
        "  alt.Y2('average(temp_min):Q'),\n",
        "  alt.Color('location:N')\n",
        ")\n",
        "\n",
        "tempMid = alt.Chart(weather).mark_line().transform_calculate(\n",
        "  temp_mid='(+datum.temp_min + +datum.temp_max) / 2'\n",
        ").encode(\n",
        "  alt.X('month(date):T'),\n",
        "  alt.Y('average(temp_mid):Q'),\n",
        "  alt.Color('location:N')\n",
        ")\n",
        "\n",
        "tempMinMax + tempMid"
      ]
    },
    {
      "cell_type": "markdown",
      "metadata": {},
      "source": [
        "*Agora temos um gráfico em várias camadas! No entanto, o título do eixo y (embora informativo) ficou um pouco longo e desorganizado...*\n",
        "\n",
        "Vamos personalizar nossos eixos para melhorar a aparência do gráfico. Se definirmos um título personalizado para o eixo em uma das camadas, ele será automaticamente usado como título compartilhado para todas as camadas:"
      ]
    },
    {
      "cell_type": "code",
      "execution_count": 10,
      "metadata": {},
      "outputs": [
        {
          "data": {
            "text/html": [
              "\n",
              "<style>\n",
              "  #altair-viz-ff57cc6f182a44e296abb97abeb4ac24.vega-embed {\n",
              "    width: 100%;\n",
              "    display: flex;\n",
              "  }\n",
              "\n",
              "  #altair-viz-ff57cc6f182a44e296abb97abeb4ac24.vega-embed details,\n",
              "  #altair-viz-ff57cc6f182a44e296abb97abeb4ac24.vega-embed details summary {\n",
              "    position: relative;\n",
              "  }\n",
              "</style>\n",
              "<div id=\"altair-viz-ff57cc6f182a44e296abb97abeb4ac24\"></div>\n",
              "<script type=\"text/javascript\">\n",
              "  var VEGA_DEBUG = (typeof VEGA_DEBUG == \"undefined\") ? {} : VEGA_DEBUG;\n",
              "  (function(spec, embedOpt){\n",
              "    let outputDiv = document.currentScript.previousElementSibling;\n",
              "    if (outputDiv.id !== \"altair-viz-ff57cc6f182a44e296abb97abeb4ac24\") {\n",
              "      outputDiv = document.getElementById(\"altair-viz-ff57cc6f182a44e296abb97abeb4ac24\");\n",
              "    }\n",
              "\n",
              "    const paths = {\n",
              "      \"vega\": \"https://cdn.jsdelivr.net/npm/vega@5?noext\",\n",
              "      \"vega-lib\": \"https://cdn.jsdelivr.net/npm/vega-lib?noext\",\n",
              "      \"vega-lite\": \"https://cdn.jsdelivr.net/npm/vega-lite@5.20.1?noext\",\n",
              "      \"vega-embed\": \"https://cdn.jsdelivr.net/npm/vega-embed@6?noext\",\n",
              "    };\n",
              "\n",
              "    function maybeLoadScript(lib, version) {\n",
              "      var key = `${lib.replace(\"-\", \"\")}_version`;\n",
              "      return (VEGA_DEBUG[key] == version) ?\n",
              "        Promise.resolve(paths[lib]) :\n",
              "        new Promise(function(resolve, reject) {\n",
              "          var s = document.createElement('script');\n",
              "          document.getElementsByTagName(\"head\")[0].appendChild(s);\n",
              "          s.async = true;\n",
              "          s.onload = () => {\n",
              "            VEGA_DEBUG[key] = version;\n",
              "            return resolve(paths[lib]);\n",
              "          };\n",
              "          s.onerror = () => reject(`Error loading script: ${paths[lib]}`);\n",
              "          s.src = paths[lib];\n",
              "        });\n",
              "    }\n",
              "\n",
              "    function showError(err) {\n",
              "      outputDiv.innerHTML = `<div class=\"error\" style=\"color:red;\">${err}</div>`;\n",
              "      throw err;\n",
              "    }\n",
              "\n",
              "    function displayChart(vegaEmbed) {\n",
              "      vegaEmbed(outputDiv, spec, embedOpt)\n",
              "        .catch(err => showError(`Javascript Error: ${err.message}<br>This usually means there's a typo in your chart specification. See the javascript console for the full traceback.`));\n",
              "    }\n",
              "\n",
              "    if(typeof define === \"function\" && define.amd) {\n",
              "      requirejs.config({paths});\n",
              "      let deps = [\"vega-embed\"];\n",
              "      require(deps, displayChart, err => showError(`Error loading script: ${err.message}`));\n",
              "    } else {\n",
              "      maybeLoadScript(\"vega\", \"5\")\n",
              "        .then(() => maybeLoadScript(\"vega-lite\", \"5.20.1\"))\n",
              "        .then(() => maybeLoadScript(\"vega-embed\", \"6\"))\n",
              "        .catch(showError)\n",
              "        .then(() => displayChart(vegaEmbed));\n",
              "    }\n",
              "  })({\"config\": {\"view\": {\"continuousWidth\": 300, \"continuousHeight\": 300}}, \"layer\": [{\"mark\": {\"type\": \"area\", \"opacity\": 0.3}, \"encoding\": {\"color\": {\"field\": \"location\", \"type\": \"nominal\"}, \"x\": {\"axis\": {\"format\": \"%b\"}, \"field\": \"date\", \"timeUnit\": \"month\", \"title\": null, \"type\": \"temporal\"}, \"y\": {\"aggregate\": \"average\", \"field\": \"temp_max\", \"title\": \"Avg. Temperature \\u00b0C\", \"type\": \"quantitative\"}, \"y2\": {\"aggregate\": \"average\", \"field\": \"temp_min\"}}}, {\"mark\": {\"type\": \"line\"}, \"encoding\": {\"color\": {\"field\": \"location\", \"type\": \"nominal\"}, \"x\": {\"field\": \"date\", \"timeUnit\": \"month\", \"type\": \"temporal\"}, \"y\": {\"aggregate\": \"average\", \"field\": \"temp_mid\", \"type\": \"quantitative\"}}, \"transform\": [{\"calculate\": \"(+datum.temp_min + +datum.temp_max) / 2\", \"as\": \"temp_mid\"}]}], \"data\": {\"url\": \"https://cdn.jsdelivr.net/npm/vega-datasets@1/data/weather.csv\"}, \"$schema\": \"https://vega.github.io/schema/vega-lite/v5.20.1.json\"}, {\"mode\": \"vega-lite\"});\n",
              "</script>"
            ],
            "text/plain": [
              "alt.LayerChart(...)"
            ]
          },
          "execution_count": 10,
          "metadata": {},
          "output_type": "execute_result"
        }
      ],
      "source": [
        "tempMinMax = alt.Chart(weather).mark_area(opacity=0.3).encode(\n",
        "  alt.X('month(date):T', title=None, axis=alt.Axis(format='%b')),\n",
        "  alt.Y('average(temp_max):Q', title='Avg. Temperature °C'),\n",
        "  alt.Y2('average(temp_min):Q'),\n",
        "  alt.Color('location:N')\n",
        ")\n",
        "\n",
        "tempMid = alt.Chart(weather).mark_line().transform_calculate(\n",
        "  temp_mid='(+datum.temp_min + +datum.temp_max) / 2'\n",
        ").encode(\n",
        "  alt.X('month(date):T'),\n",
        "  alt.Y('average(temp_mid):Q'),\n",
        "  alt.Color('location:N')\n",
        ")\n",
        "\n",
        "tempMinMax + tempMid"
      ]
    },
    {
      "cell_type": "markdown",
      "metadata": {},
      "source": [
        "*O que acontece se ambas as camadas tiverem títulos personalizados para o eixo? Modifique o código acima para descobrir...*\n",
        "\n",
        "Acima usamos o operador `+`, uma forma conveniente de escrever o método de camadas (`layer`) do Altair. Podemos gerar um gráfico em camadas idêntico usando diretamente o método `layer`:"
      ]
    },
    {
      "cell_type": "code",
      "execution_count": 11,
      "metadata": {},
      "outputs": [
        {
          "data": {
            "text/html": [
              "\n",
              "<style>\n",
              "  #altair-viz-4f73d6268f5d41888e563dab583fc317.vega-embed {\n",
              "    width: 100%;\n",
              "    display: flex;\n",
              "  }\n",
              "\n",
              "  #altair-viz-4f73d6268f5d41888e563dab583fc317.vega-embed details,\n",
              "  #altair-viz-4f73d6268f5d41888e563dab583fc317.vega-embed details summary {\n",
              "    position: relative;\n",
              "  }\n",
              "</style>\n",
              "<div id=\"altair-viz-4f73d6268f5d41888e563dab583fc317\"></div>\n",
              "<script type=\"text/javascript\">\n",
              "  var VEGA_DEBUG = (typeof VEGA_DEBUG == \"undefined\") ? {} : VEGA_DEBUG;\n",
              "  (function(spec, embedOpt){\n",
              "    let outputDiv = document.currentScript.previousElementSibling;\n",
              "    if (outputDiv.id !== \"altair-viz-4f73d6268f5d41888e563dab583fc317\") {\n",
              "      outputDiv = document.getElementById(\"altair-viz-4f73d6268f5d41888e563dab583fc317\");\n",
              "    }\n",
              "\n",
              "    const paths = {\n",
              "      \"vega\": \"https://cdn.jsdelivr.net/npm/vega@5?noext\",\n",
              "      \"vega-lib\": \"https://cdn.jsdelivr.net/npm/vega-lib?noext\",\n",
              "      \"vega-lite\": \"https://cdn.jsdelivr.net/npm/vega-lite@5.20.1?noext\",\n",
              "      \"vega-embed\": \"https://cdn.jsdelivr.net/npm/vega-embed@6?noext\",\n",
              "    };\n",
              "\n",
              "    function maybeLoadScript(lib, version) {\n",
              "      var key = `${lib.replace(\"-\", \"\")}_version`;\n",
              "      return (VEGA_DEBUG[key] == version) ?\n",
              "        Promise.resolve(paths[lib]) :\n",
              "        new Promise(function(resolve, reject) {\n",
              "          var s = document.createElement('script');\n",
              "          document.getElementsByTagName(\"head\")[0].appendChild(s);\n",
              "          s.async = true;\n",
              "          s.onload = () => {\n",
              "            VEGA_DEBUG[key] = version;\n",
              "            return resolve(paths[lib]);\n",
              "          };\n",
              "          s.onerror = () => reject(`Error loading script: ${paths[lib]}`);\n",
              "          s.src = paths[lib];\n",
              "        });\n",
              "    }\n",
              "\n",
              "    function showError(err) {\n",
              "      outputDiv.innerHTML = `<div class=\"error\" style=\"color:red;\">${err}</div>`;\n",
              "      throw err;\n",
              "    }\n",
              "\n",
              "    function displayChart(vegaEmbed) {\n",
              "      vegaEmbed(outputDiv, spec, embedOpt)\n",
              "        .catch(err => showError(`Javascript Error: ${err.message}<br>This usually means there's a typo in your chart specification. See the javascript console for the full traceback.`));\n",
              "    }\n",
              "\n",
              "    if(typeof define === \"function\" && define.amd) {\n",
              "      requirejs.config({paths});\n",
              "      let deps = [\"vega-embed\"];\n",
              "      require(deps, displayChart, err => showError(`Error loading script: ${err.message}`));\n",
              "    } else {\n",
              "      maybeLoadScript(\"vega\", \"5\")\n",
              "        .then(() => maybeLoadScript(\"vega-lite\", \"5.20.1\"))\n",
              "        .then(() => maybeLoadScript(\"vega-embed\", \"6\"))\n",
              "        .catch(showError)\n",
              "        .then(() => displayChart(vegaEmbed));\n",
              "    }\n",
              "  })({\"config\": {\"view\": {\"continuousWidth\": 300, \"continuousHeight\": 300}}, \"layer\": [{\"mark\": {\"type\": \"area\", \"opacity\": 0.3}, \"encoding\": {\"color\": {\"field\": \"location\", \"type\": \"nominal\"}, \"x\": {\"axis\": {\"format\": \"%b\"}, \"field\": \"date\", \"timeUnit\": \"month\", \"title\": null, \"type\": \"temporal\"}, \"y\": {\"aggregate\": \"average\", \"field\": \"temp_max\", \"title\": \"Avg. Temperature \\u00b0C\", \"type\": \"quantitative\"}, \"y2\": {\"aggregate\": \"average\", \"field\": \"temp_min\"}}}, {\"mark\": {\"type\": \"line\"}, \"encoding\": {\"color\": {\"field\": \"location\", \"type\": \"nominal\"}, \"x\": {\"field\": \"date\", \"timeUnit\": \"month\", \"type\": \"temporal\"}, \"y\": {\"aggregate\": \"average\", \"field\": \"temp_mid\", \"type\": \"quantitative\"}}, \"transform\": [{\"calculate\": \"(+datum.temp_min + +datum.temp_max) / 2\", \"as\": \"temp_mid\"}]}], \"data\": {\"url\": \"https://cdn.jsdelivr.net/npm/vega-datasets@1/data/weather.csv\"}, \"$schema\": \"https://vega.github.io/schema/vega-lite/v5.20.1.json\"}, {\"mode\": \"vega-lite\"});\n",
              "</script>"
            ],
            "text/plain": [
              "alt.LayerChart(...)"
            ]
          },
          "execution_count": 11,
          "metadata": {},
          "output_type": "execute_result"
        }
      ],
      "source": [
        "alt.layer(tempMinMax, tempMid)"
      ]
    },
    {
      "cell_type": "markdown",
      "metadata": {},
      "source": [
        "Observe que a ordem dos elementos em uma camada é importante, pois as camadas subsequentes serão desenhadas sobre as anteriores. *Tente trocar a ordem dos gráficos nas células acima. O que acontece? (Dica: preste atenção na cor das marcas de linha (`line`).)*"
      ]
    },
    {
      "cell_type": "markdown",
      "metadata": {},
      "source": [
        "### Gráficos de Eixo Duplo (_dual-axis charts_)\n",
        "*Seattle tem a reputação de ser uma cidade chuvosa. Será que isso é merecido?*\n",
        "\n",
        "Vamos analisar a precipitação junto com a temperatura para entender melhor. Primeiro, vamos criar um gráfico básico que mostra a precipitação média mensal em Seattle:"
      ]
    },
    {
      "cell_type": "code",
      "execution_count": 12,
      "metadata": {},
      "outputs": [
        {
          "data": {
            "text/html": [
              "\n",
              "<style>\n",
              "  #altair-viz-725d9d1819ca4747aa88f67607190f06.vega-embed {\n",
              "    width: 100%;\n",
              "    display: flex;\n",
              "  }\n",
              "\n",
              "  #altair-viz-725d9d1819ca4747aa88f67607190f06.vega-embed details,\n",
              "  #altair-viz-725d9d1819ca4747aa88f67607190f06.vega-embed details summary {\n",
              "    position: relative;\n",
              "  }\n",
              "</style>\n",
              "<div id=\"altair-viz-725d9d1819ca4747aa88f67607190f06\"></div>\n",
              "<script type=\"text/javascript\">\n",
              "  var VEGA_DEBUG = (typeof VEGA_DEBUG == \"undefined\") ? {} : VEGA_DEBUG;\n",
              "  (function(spec, embedOpt){\n",
              "    let outputDiv = document.currentScript.previousElementSibling;\n",
              "    if (outputDiv.id !== \"altair-viz-725d9d1819ca4747aa88f67607190f06\") {\n",
              "      outputDiv = document.getElementById(\"altair-viz-725d9d1819ca4747aa88f67607190f06\");\n",
              "    }\n",
              "\n",
              "    const paths = {\n",
              "      \"vega\": \"https://cdn.jsdelivr.net/npm/vega@5?noext\",\n",
              "      \"vega-lib\": \"https://cdn.jsdelivr.net/npm/vega-lib?noext\",\n",
              "      \"vega-lite\": \"https://cdn.jsdelivr.net/npm/vega-lite@5.20.1?noext\",\n",
              "      \"vega-embed\": \"https://cdn.jsdelivr.net/npm/vega-embed@6?noext\",\n",
              "    };\n",
              "\n",
              "    function maybeLoadScript(lib, version) {\n",
              "      var key = `${lib.replace(\"-\", \"\")}_version`;\n",
              "      return (VEGA_DEBUG[key] == version) ?\n",
              "        Promise.resolve(paths[lib]) :\n",
              "        new Promise(function(resolve, reject) {\n",
              "          var s = document.createElement('script');\n",
              "          document.getElementsByTagName(\"head\")[0].appendChild(s);\n",
              "          s.async = true;\n",
              "          s.onload = () => {\n",
              "            VEGA_DEBUG[key] = version;\n",
              "            return resolve(paths[lib]);\n",
              "          };\n",
              "          s.onerror = () => reject(`Error loading script: ${paths[lib]}`);\n",
              "          s.src = paths[lib];\n",
              "        });\n",
              "    }\n",
              "\n",
              "    function showError(err) {\n",
              "      outputDiv.innerHTML = `<div class=\"error\" style=\"color:red;\">${err}</div>`;\n",
              "      throw err;\n",
              "    }\n",
              "\n",
              "    function displayChart(vegaEmbed) {\n",
              "      vegaEmbed(outputDiv, spec, embedOpt)\n",
              "        .catch(err => showError(`Javascript Error: ${err.message}<br>This usually means there's a typo in your chart specification. See the javascript console for the full traceback.`));\n",
              "    }\n",
              "\n",
              "    if(typeof define === \"function\" && define.amd) {\n",
              "      requirejs.config({paths});\n",
              "      let deps = [\"vega-embed\"];\n",
              "      require(deps, displayChart, err => showError(`Error loading script: ${err.message}`));\n",
              "    } else {\n",
              "      maybeLoadScript(\"vega\", \"5\")\n",
              "        .then(() => maybeLoadScript(\"vega-lite\", \"5.20.1\"))\n",
              "        .then(() => maybeLoadScript(\"vega-embed\", \"6\"))\n",
              "        .catch(showError)\n",
              "        .then(() => displayChart(vegaEmbed));\n",
              "    }\n",
              "  })({\"config\": {\"view\": {\"continuousWidth\": 300, \"continuousHeight\": 300}}, \"data\": {\"url\": \"https://cdn.jsdelivr.net/npm/vega-datasets@1/data/weather.csv\"}, \"mark\": {\"type\": \"line\", \"interpolate\": \"monotone\", \"stroke\": \"grey\"}, \"encoding\": {\"x\": {\"field\": \"date\", \"timeUnit\": \"month\", \"title\": null, \"type\": \"temporal\"}, \"y\": {\"aggregate\": \"average\", \"field\": \"precipitation\", \"title\": \"Precipitation\", \"type\": \"quantitative\"}}, \"transform\": [{\"filter\": \"datum.location == \\\"Seattle\\\"\"}], \"$schema\": \"https://vega.github.io/schema/vega-lite/v5.20.1.json\"}, {\"mode\": \"vega-lite\"});\n",
              "</script>"
            ],
            "text/plain": [
              "alt.Chart(...)"
            ]
          },
          "execution_count": 12,
          "metadata": {},
          "output_type": "execute_result"
        }
      ],
      "source": [
        "alt.Chart(weather).transform_filter(\n",
        "  'datum.location == \"Seattle\"'\n",
        ").mark_line(\n",
        "  interpolate='monotone',\n",
        "  stroke='grey'\n",
        ").encode(\n",
        "  alt.X('month(date):T', title=None),\n",
        "  alt.Y('average(precipitation):Q', title='Precipitation')\n",
        ")"
      ]
    },
    {
      "cell_type": "markdown",
      "metadata": {},
      "source": [
        "Para facilitar a comparação com os dados de temperatura, vamos criar um novo gráfico em camadas (_layered chart_). Aqui está o que acontece se tentarmos sobrepor os gráficos da mesma forma que fizemos anteriormente:"
      ]
    },
    {
      "cell_type": "code",
      "execution_count": 13,
      "metadata": {},
      "outputs": [
        {
          "data": {
            "text/html": [
              "\n",
              "<style>\n",
              "  #altair-viz-a126bfb0749f45618fbd278db61dcb85.vega-embed {\n",
              "    width: 100%;\n",
              "    display: flex;\n",
              "  }\n",
              "\n",
              "  #altair-viz-a126bfb0749f45618fbd278db61dcb85.vega-embed details,\n",
              "  #altair-viz-a126bfb0749f45618fbd278db61dcb85.vega-embed details summary {\n",
              "    position: relative;\n",
              "  }\n",
              "</style>\n",
              "<div id=\"altair-viz-a126bfb0749f45618fbd278db61dcb85\"></div>\n",
              "<script type=\"text/javascript\">\n",
              "  var VEGA_DEBUG = (typeof VEGA_DEBUG == \"undefined\") ? {} : VEGA_DEBUG;\n",
              "  (function(spec, embedOpt){\n",
              "    let outputDiv = document.currentScript.previousElementSibling;\n",
              "    if (outputDiv.id !== \"altair-viz-a126bfb0749f45618fbd278db61dcb85\") {\n",
              "      outputDiv = document.getElementById(\"altair-viz-a126bfb0749f45618fbd278db61dcb85\");\n",
              "    }\n",
              "\n",
              "    const paths = {\n",
              "      \"vega\": \"https://cdn.jsdelivr.net/npm/vega@5?noext\",\n",
              "      \"vega-lib\": \"https://cdn.jsdelivr.net/npm/vega-lib?noext\",\n",
              "      \"vega-lite\": \"https://cdn.jsdelivr.net/npm/vega-lite@5.20.1?noext\",\n",
              "      \"vega-embed\": \"https://cdn.jsdelivr.net/npm/vega-embed@6?noext\",\n",
              "    };\n",
              "\n",
              "    function maybeLoadScript(lib, version) {\n",
              "      var key = `${lib.replace(\"-\", \"\")}_version`;\n",
              "      return (VEGA_DEBUG[key] == version) ?\n",
              "        Promise.resolve(paths[lib]) :\n",
              "        new Promise(function(resolve, reject) {\n",
              "          var s = document.createElement('script');\n",
              "          document.getElementsByTagName(\"head\")[0].appendChild(s);\n",
              "          s.async = true;\n",
              "          s.onload = () => {\n",
              "            VEGA_DEBUG[key] = version;\n",
              "            return resolve(paths[lib]);\n",
              "          };\n",
              "          s.onerror = () => reject(`Error loading script: ${paths[lib]}`);\n",
              "          s.src = paths[lib];\n",
              "        });\n",
              "    }\n",
              "\n",
              "    function showError(err) {\n",
              "      outputDiv.innerHTML = `<div class=\"error\" style=\"color:red;\">${err}</div>`;\n",
              "      throw err;\n",
              "    }\n",
              "\n",
              "    function displayChart(vegaEmbed) {\n",
              "      vegaEmbed(outputDiv, spec, embedOpt)\n",
              "        .catch(err => showError(`Javascript Error: ${err.message}<br>This usually means there's a typo in your chart specification. See the javascript console for the full traceback.`));\n",
              "    }\n",
              "\n",
              "    if(typeof define === \"function\" && define.amd) {\n",
              "      requirejs.config({paths});\n",
              "      let deps = [\"vega-embed\"];\n",
              "      require(deps, displayChart, err => showError(`Error loading script: ${err.message}`));\n",
              "    } else {\n",
              "      maybeLoadScript(\"vega\", \"5\")\n",
              "        .then(() => maybeLoadScript(\"vega-lite\", \"5.20.1\"))\n",
              "        .then(() => maybeLoadScript(\"vega-embed\", \"6\"))\n",
              "        .catch(showError)\n",
              "        .then(() => displayChart(vegaEmbed));\n",
              "    }\n",
              "  })({\"config\": {\"view\": {\"continuousWidth\": 300, \"continuousHeight\": 300}}, \"layer\": [{\"mark\": {\"type\": \"area\", \"opacity\": 0.3}, \"encoding\": {\"x\": {\"axis\": {\"format\": \"%b\"}, \"field\": \"date\", \"timeUnit\": \"month\", \"title\": null, \"type\": \"temporal\"}, \"y\": {\"aggregate\": \"average\", \"field\": \"temp_max\", \"title\": \"Avg. Temperature \\u00b0C\", \"type\": \"quantitative\"}, \"y2\": {\"aggregate\": \"average\", \"field\": \"temp_min\"}}, \"transform\": [{\"filter\": \"datum.location == \\\"Seattle\\\"\"}]}, {\"mark\": {\"type\": \"line\", \"interpolate\": \"monotone\", \"stroke\": \"grey\"}, \"encoding\": {\"x\": {\"field\": \"date\", \"timeUnit\": \"month\", \"type\": \"temporal\"}, \"y\": {\"aggregate\": \"average\", \"field\": \"precipitation\", \"title\": \"Precipitation\", \"type\": \"quantitative\"}}, \"transform\": [{\"filter\": \"datum.location == \\\"Seattle\\\"\"}]}], \"data\": {\"url\": \"https://cdn.jsdelivr.net/npm/vega-datasets@1/data/weather.csv\"}, \"$schema\": \"https://vega.github.io/schema/vega-lite/v5.20.1.json\"}, {\"mode\": \"vega-lite\"});\n",
              "</script>"
            ],
            "text/plain": [
              "alt.LayerChart(...)"
            ]
          },
          "execution_count": 13,
          "metadata": {},
          "output_type": "execute_result"
        }
      ],
      "source": [
        "tempMinMax = alt.Chart(weather).transform_filter(\n",
        "  'datum.location == \"Seattle\"'\n",
        ").mark_area(opacity=0.3).encode(\n",
        "  alt.X('month(date):T', title=None, axis=alt.Axis(format='%b')),\n",
        "  alt.Y('average(temp_max):Q', title='Avg. Temperature °C'),\n",
        "  alt.Y2('average(temp_min):Q')\n",
        ")\n",
        "\n",
        "precip = alt.Chart(weather).transform_filter(\n",
        "  'datum.location == \"Seattle\"'\n",
        ").mark_line(\n",
        "  interpolate='monotone',\n",
        "  stroke='grey'\n",
        ").encode(\n",
        "  alt.X('month(date):T'),\n",
        "  alt.Y('average(precipitation):Q', title='Precipitation')\n",
        ")\n",
        "\n",
        "alt.layer(tempMinMax, precip)"
      ]
    },
    {
      "cell_type": "markdown",
      "metadata": {},
      "source": [
        "*Os valores de precipitação utilizam um intervalo muito menor no eixo y do que as temperaturas!*\n",
        "\n",
        "Por padrão, gráficos em camadas (_layered charts_) utilizam um `domínio compartilhado`: os valores para o eixo x ou y são combinados entre todas as camadas para determinar uma extensão compartilhada. Esse comportamento padrão assume que os valores das camadas têm as mesmas unidades. No entanto, isso não se aplica a este exemplo, pois estamos combinando valores de temperatura (graus Celsius) com valores de precipitação (polegadas)!\n",
        "\n",
        "Se quisermos usar escalas diferentes para o eixo y, precisamos especificar como desejamos que o Altair *resolva* os dados entre as camadas. Neste caso, queremos que os domínios das escalas (`scale`) do eixo y sejam independentes (`independent`), em vez de usar um domínio compartilhado (`shared`). O objeto `Chart` gerado por um operador de camada inclui um método `resolve_scale` (resolve escala) com o qual podemos especificar a resolução desejada."
      ]
    },
    {
      "cell_type": "code",
      "execution_count": 14,
      "metadata": {},
      "outputs": [
        {
          "data": {
            "text/html": [
              "\n",
              "<style>\n",
              "  #altair-viz-edf46a51f9cd454695ab932fa7dd4cd6.vega-embed {\n",
              "    width: 100%;\n",
              "    display: flex;\n",
              "  }\n",
              "\n",
              "  #altair-viz-edf46a51f9cd454695ab932fa7dd4cd6.vega-embed details,\n",
              "  #altair-viz-edf46a51f9cd454695ab932fa7dd4cd6.vega-embed details summary {\n",
              "    position: relative;\n",
              "  }\n",
              "</style>\n",
              "<div id=\"altair-viz-edf46a51f9cd454695ab932fa7dd4cd6\"></div>\n",
              "<script type=\"text/javascript\">\n",
              "  var VEGA_DEBUG = (typeof VEGA_DEBUG == \"undefined\") ? {} : VEGA_DEBUG;\n",
              "  (function(spec, embedOpt){\n",
              "    let outputDiv = document.currentScript.previousElementSibling;\n",
              "    if (outputDiv.id !== \"altair-viz-edf46a51f9cd454695ab932fa7dd4cd6\") {\n",
              "      outputDiv = document.getElementById(\"altair-viz-edf46a51f9cd454695ab932fa7dd4cd6\");\n",
              "    }\n",
              "\n",
              "    const paths = {\n",
              "      \"vega\": \"https://cdn.jsdelivr.net/npm/vega@5?noext\",\n",
              "      \"vega-lib\": \"https://cdn.jsdelivr.net/npm/vega-lib?noext\",\n",
              "      \"vega-lite\": \"https://cdn.jsdelivr.net/npm/vega-lite@5.20.1?noext\",\n",
              "      \"vega-embed\": \"https://cdn.jsdelivr.net/npm/vega-embed@6?noext\",\n",
              "    };\n",
              "\n",
              "    function maybeLoadScript(lib, version) {\n",
              "      var key = `${lib.replace(\"-\", \"\")}_version`;\n",
              "      return (VEGA_DEBUG[key] == version) ?\n",
              "        Promise.resolve(paths[lib]) :\n",
              "        new Promise(function(resolve, reject) {\n",
              "          var s = document.createElement('script');\n",
              "          document.getElementsByTagName(\"head\")[0].appendChild(s);\n",
              "          s.async = true;\n",
              "          s.onload = () => {\n",
              "            VEGA_DEBUG[key] = version;\n",
              "            return resolve(paths[lib]);\n",
              "          };\n",
              "          s.onerror = () => reject(`Error loading script: ${paths[lib]}`);\n",
              "          s.src = paths[lib];\n",
              "        });\n",
              "    }\n",
              "\n",
              "    function showError(err) {\n",
              "      outputDiv.innerHTML = `<div class=\"error\" style=\"color:red;\">${err}</div>`;\n",
              "      throw err;\n",
              "    }\n",
              "\n",
              "    function displayChart(vegaEmbed) {\n",
              "      vegaEmbed(outputDiv, spec, embedOpt)\n",
              "        .catch(err => showError(`Javascript Error: ${err.message}<br>This usually means there's a typo in your chart specification. See the javascript console for the full traceback.`));\n",
              "    }\n",
              "\n",
              "    if(typeof define === \"function\" && define.amd) {\n",
              "      requirejs.config({paths});\n",
              "      let deps = [\"vega-embed\"];\n",
              "      require(deps, displayChart, err => showError(`Error loading script: ${err.message}`));\n",
              "    } else {\n",
              "      maybeLoadScript(\"vega\", \"5\")\n",
              "        .then(() => maybeLoadScript(\"vega-lite\", \"5.20.1\"))\n",
              "        .then(() => maybeLoadScript(\"vega-embed\", \"6\"))\n",
              "        .catch(showError)\n",
              "        .then(() => displayChart(vegaEmbed));\n",
              "    }\n",
              "  })({\"config\": {\"view\": {\"continuousWidth\": 300, \"continuousHeight\": 300}}, \"layer\": [{\"mark\": {\"type\": \"area\", \"opacity\": 0.3}, \"encoding\": {\"x\": {\"axis\": {\"format\": \"%b\"}, \"field\": \"date\", \"timeUnit\": \"month\", \"title\": null, \"type\": \"temporal\"}, \"y\": {\"aggregate\": \"average\", \"field\": \"temp_max\", \"title\": \"Avg. Temperature \\u00b0C\", \"type\": \"quantitative\"}, \"y2\": {\"aggregate\": \"average\", \"field\": \"temp_min\"}}, \"transform\": [{\"filter\": \"datum.location == \\\"Seattle\\\"\"}]}, {\"mark\": {\"type\": \"line\", \"interpolate\": \"monotone\", \"stroke\": \"grey\"}, \"encoding\": {\"x\": {\"field\": \"date\", \"timeUnit\": \"month\", \"type\": \"temporal\"}, \"y\": {\"aggregate\": \"average\", \"field\": \"precipitation\", \"title\": \"Precipitation\", \"type\": \"quantitative\"}}, \"transform\": [{\"filter\": \"datum.location == \\\"Seattle\\\"\"}]}], \"data\": {\"url\": \"https://cdn.jsdelivr.net/npm/vega-datasets@1/data/weather.csv\"}, \"resolve\": {\"scale\": {\"y\": \"independent\"}}, \"$schema\": \"https://vega.github.io/schema/vega-lite/v5.20.1.json\"}, {\"mode\": \"vega-lite\"});\n",
              "</script>"
            ],
            "text/plain": [
              "alt.LayerChart(...)"
            ]
          },
          "execution_count": 14,
          "metadata": {},
          "output_type": "execute_result"
        }
      ],
      "source": [
        "tempMinMax = alt.Chart(weather).transform_filter(\n",
        "  'datum.location == \"Seattle\"'\n",
        ").mark_area(opacity=0.3).encode(\n",
        "  alt.X('month(date):T', title=None, axis=alt.Axis(format='%b')),\n",
        "  alt.Y('average(temp_max):Q', title='Avg. Temperature °C'),\n",
        "  alt.Y2('average(temp_min):Q')\n",
        ")\n",
        "\n",
        "precip = alt.Chart(weather).transform_filter(\n",
        "  'datum.location == \"Seattle\"'\n",
        ").mark_line(\n",
        "  interpolate='monotone',\n",
        "  stroke='grey'\n",
        ").encode(\n",
        "  alt.X('month(date):T'),\n",
        "  alt.Y('average(precipitation):Q', title='Precipitation')\n",
        ")\n",
        "\n",
        "alt.layer(tempMinMax, precip).resolve_scale(y='independent')"
      ]
    },
    {
      "cell_type": "markdown",
      "metadata": {},
      "source": [
        "*Agora podemos ver que o outono é a estação mais chuvosa em Seattle (com pico em novembro), complementado pelos verões secos.*\n",
        "\n",
        "Você pode ter notado certa redundância nas especificações do nosso gráfico acima: ambos usam o mesmo conjunto de dados e o mesmo filtro para exibir apenas Seattle. Se vocês quiser, você pode simplificar um pouco o código fornecendo os dados e a transformação de filtro para o gráfico em camadas (_layered chart_) de nível superior. As camadas individuais irão herdar os dados se não tiverem suas próprias definições de dados."
      ]
    },
    {
      "cell_type": "code",
      "execution_count": 15,
      "metadata": {},
      "outputs": [
        {
          "data": {
            "text/html": [
              "\n",
              "<style>\n",
              "  #altair-viz-bf7d3c8a38d949b2b73e5d04d7d1d351.vega-embed {\n",
              "    width: 100%;\n",
              "    display: flex;\n",
              "  }\n",
              "\n",
              "  #altair-viz-bf7d3c8a38d949b2b73e5d04d7d1d351.vega-embed details,\n",
              "  #altair-viz-bf7d3c8a38d949b2b73e5d04d7d1d351.vega-embed details summary {\n",
              "    position: relative;\n",
              "  }\n",
              "</style>\n",
              "<div id=\"altair-viz-bf7d3c8a38d949b2b73e5d04d7d1d351\"></div>\n",
              "<script type=\"text/javascript\">\n",
              "  var VEGA_DEBUG = (typeof VEGA_DEBUG == \"undefined\") ? {} : VEGA_DEBUG;\n",
              "  (function(spec, embedOpt){\n",
              "    let outputDiv = document.currentScript.previousElementSibling;\n",
              "    if (outputDiv.id !== \"altair-viz-bf7d3c8a38d949b2b73e5d04d7d1d351\") {\n",
              "      outputDiv = document.getElementById(\"altair-viz-bf7d3c8a38d949b2b73e5d04d7d1d351\");\n",
              "    }\n",
              "\n",
              "    const paths = {\n",
              "      \"vega\": \"https://cdn.jsdelivr.net/npm/vega@5?noext\",\n",
              "      \"vega-lib\": \"https://cdn.jsdelivr.net/npm/vega-lib?noext\",\n",
              "      \"vega-lite\": \"https://cdn.jsdelivr.net/npm/vega-lite@5.20.1?noext\",\n",
              "      \"vega-embed\": \"https://cdn.jsdelivr.net/npm/vega-embed@6?noext\",\n",
              "    };\n",
              "\n",
              "    function maybeLoadScript(lib, version) {\n",
              "      var key = `${lib.replace(\"-\", \"\")}_version`;\n",
              "      return (VEGA_DEBUG[key] == version) ?\n",
              "        Promise.resolve(paths[lib]) :\n",
              "        new Promise(function(resolve, reject) {\n",
              "          var s = document.createElement('script');\n",
              "          document.getElementsByTagName(\"head\")[0].appendChild(s);\n",
              "          s.async = true;\n",
              "          s.onload = () => {\n",
              "            VEGA_DEBUG[key] = version;\n",
              "            return resolve(paths[lib]);\n",
              "          };\n",
              "          s.onerror = () => reject(`Error loading script: ${paths[lib]}`);\n",
              "          s.src = paths[lib];\n",
              "        });\n",
              "    }\n",
              "\n",
              "    function showError(err) {\n",
              "      outputDiv.innerHTML = `<div class=\"error\" style=\"color:red;\">${err}</div>`;\n",
              "      throw err;\n",
              "    }\n",
              "\n",
              "    function displayChart(vegaEmbed) {\n",
              "      vegaEmbed(outputDiv, spec, embedOpt)\n",
              "        .catch(err => showError(`Javascript Error: ${err.message}<br>This usually means there's a typo in your chart specification. See the javascript console for the full traceback.`));\n",
              "    }\n",
              "\n",
              "    if(typeof define === \"function\" && define.amd) {\n",
              "      requirejs.config({paths});\n",
              "      let deps = [\"vega-embed\"];\n",
              "      require(deps, displayChart, err => showError(`Error loading script: ${err.message}`));\n",
              "    } else {\n",
              "      maybeLoadScript(\"vega\", \"5\")\n",
              "        .then(() => maybeLoadScript(\"vega-lite\", \"5.20.1\"))\n",
              "        .then(() => maybeLoadScript(\"vega-embed\", \"6\"))\n",
              "        .catch(showError)\n",
              "        .then(() => displayChart(vegaEmbed));\n",
              "    }\n",
              "  })({\"config\": {\"view\": {\"continuousWidth\": 300, \"continuousHeight\": 300}}, \"layer\": [{\"mark\": {\"type\": \"area\", \"opacity\": 0.3}, \"encoding\": {\"x\": {\"axis\": {\"format\": \"%b\"}, \"field\": \"date\", \"timeUnit\": \"month\", \"title\": null, \"type\": \"temporal\"}, \"y\": {\"aggregate\": \"average\", \"field\": \"temp_max\", \"title\": \"Avg. Temperature \\u00b0C\", \"type\": \"quantitative\"}, \"y2\": {\"aggregate\": \"average\", \"field\": \"temp_min\"}}}, {\"mark\": {\"type\": \"line\", \"interpolate\": \"monotone\", \"stroke\": \"grey\"}, \"encoding\": {\"x\": {\"field\": \"date\", \"timeUnit\": \"month\", \"type\": \"temporal\"}, \"y\": {\"aggregate\": \"average\", \"field\": \"precipitation\", \"title\": \"Precipitation\", \"type\": \"quantitative\"}}}], \"data\": {\"url\": \"https://cdn.jsdelivr.net/npm/vega-datasets@1/data/weather.csv\"}, \"resolve\": {\"scale\": {\"y\": \"independent\"}}, \"transform\": [{\"filter\": \"datum.location == \\\"Seattle\\\"\"}], \"$schema\": \"https://vega.github.io/schema/vega-lite/v5.20.1.json\"}, {\"mode\": \"vega-lite\"});\n",
              "</script>"
            ],
            "text/plain": [
              "alt.LayerChart(...)"
            ]
          },
          "execution_count": 15,
          "metadata": {},
          "output_type": "execute_result"
        }
      ],
      "source": [
        "tempMinMax = alt.Chart().mark_area(opacity=0.3).encode(\n",
        "  alt.X('month(date):T', title=None, axis=alt.Axis(format='%b')),\n",
        "  alt.Y('average(temp_max):Q', title='Avg. Temperature °C'),\n",
        "  alt.Y2('average(temp_min):Q')\n",
        ")\n",
        "\n",
        "precip = alt.Chart().mark_line(\n",
        "  interpolate='monotone',\n",
        "  stroke='grey'\n",
        ").encode(\n",
        "  alt.X('month(date):T'),\n",
        "  alt.Y('average(precipitation):Q', title='Precipitation')\n",
        ")\n",
        "\n",
        "alt.layer(tempMinMax, precip, data=weather).transform_filter(\n",
        "  'datum.location == \"Seattle\"'\n",
        ").resolve_scale(y='independent')"
      ]
    },
    {
      "cell_type": "markdown",
      "metadata": {},
      "source": [
        "Embora gráficos de eixos duplos (_dual-axis charts_) possam ser úteis, *eles são frequentemente propensos a interpretações equivocadas*, pois as diferentes unidades e escalas dos eixos podem ser desproporcionais. Sempre que possível, você pode considerar transformações que mapeiem diferentes campos de dados para unidades compartilhadas, como, por exemplo, exibir [quantis](https://en.wikipedia.org/wiki/Quantile) ou mudanças percentuais relativas."
      ]
    },
    {
      "cell_type": "markdown",
      "metadata": {},
      "source": [
        "## Faceta\n",
        "---"
      ]
    },
    {
      "cell_type": "markdown",
      "metadata": {},
      "source": [
        "*Facetar* envolve subdividir um dataset em grupos e criar um gráfico separado para cada grupo. Nos últimos capítulos, aprendemos como criar tabelas facetadas usando os canais de codificação `linha` e `coluna`. Vamos primeiro revisar esses canais e então mostrar como são instâncias de um operador mais geral: a `faceta`.\n",
        "\n",
        "Comecemos com um histograma básico acerca dos níveis máximos da temperatura de Seattle:"
      ]
    },
    {
      "cell_type": "code",
      "execution_count": null,
      "metadata": {},
      "outputs": [],
      "source": [
        "alt.Chart(weather).mark_bar().transform_filter(\n",
        "  'datum.location == \"Seattle\"'\n",
        ").encode(\n",
        "  alt.X('temp_max:Q', bin=True, title='Temperature (°C)'),\n",
        "  alt.Y('count():Q')\n",
        ")"
      ]
    },
    {
      "cell_type": "markdown",
      "metadata": {},
      "source": [
        "_Como o perfil de temperaturas buda com base no tempo de um dado dia - isto é, se chovia, garoava, nevava, fazia sol ou tempo nublado?_\n",
        "\n",
        "Vamos usar o canal de codificação `coluna` para facetar os dados por tipo de tempo atmosférico. Podemos também usar a `cor` como codificação redundante, usando um intervalo customizado:"
      ]
    },
    {
      "cell_type": "code",
      "execution_count": null,
      "metadata": {},
      "outputs": [],
      "source": [
        "colors = alt.Scale(\n",
        "  domain=['drizzle', 'fog', 'rain', 'snow', 'sun'],\n",
        "  range=['#aec7e8', '#c7c7c7', '#1f77b4', '#9467bd', '#e7ba52']\n",
        ")\n",
        "\n",
        "alt.Chart(weather).mark_bar().transform_filter(\n",
        "  'datum.location == \"Seattle\"'\n",
        ").encode(\n",
        "  alt.X('temp_max:Q', bin=True, title='Temperature (°C)'),\n",
        "  alt.Y('count():Q'),\n",
        "  alt.Color('weather:N', scale=colors),\n",
        "  alt.Column('weather:N')\n",
        ").properties(\n",
        "  width=150,\n",
        "  height=150\n",
        ")"
      ]
    },
    {
      "cell_type": "markdown",
      "metadata": {},
      "source": [
        "_Para a surpresa de ninguém, esses raros dias de neve centralizam as temperaturas mais baixas, seguidos por dias chuvosos e nublados. Dias de sol são mais quentes e, apesar dos estereótipos de Seattle, são os mais frequentes. Apesar de que, como qualquer morador de Seattle pode te informar, a garoa vem e volta a qualquer momento e a despeito da temperatura!_\n",
        "\n",
        "Adicionalmente aos canais de codificação `linha` e `coluna`, uma definição de tabelas, podemos usar definições básicas de tabela para aplicar facetamento através de um operador explícito de `faceta`.\n",
        "\n",
        "Vamos recriar a tabela acima, mas dessa vez usando `faceta`. Começamos com algumas definições básicas de histograma, mas removemos a fonte das informações, filtro de transformação e canal coluna. Podemos então chamar o método `faceta` passando os dados e especificando que se deve facetar colunas de acordo com o campo `clima`. O método `faceta` aceita tanto `linha` quanto `coluna` como  argumentos. Ambos podem ser usados para criar uma grade 2d de gráficos facetados.\n",
        "\n",
        "Por fim, incluímos nossos filtros de transformação, os apliccando ao gráfico da faceta superior (_faceted plots_). Poderíamos, é claro, aplicar o filtro de transformação à definição de histograma apresentada no início, mas isso seria sensivelmente menos eficiente. Melhor que filtrar valores de \"Nova York\" dentro de cada célula de faceta, aplicar o filtro ao gráfico facetado (_faceted plot_) permite que o Vega-Lite saiba que podemos filtrar esses valores antecipadamente, antes da divisão das facetas."
      ]
    },
    {
      "cell_type": "code",
      "execution_count": null,
      "metadata": {},
      "outputs": [],
      "source": [
        "colors = alt.Scale(\n",
        "  domain=['drizzle', 'fog', 'rain', 'snow', 'sun'],\n",
        "  range=['#aec7e8', '#c7c7c7', '#1f77b4', '#9467bd', '#e7ba52']\n",
        ")\n",
        "\n",
        "alt.Chart().mark_bar().encode(\n",
        "  alt.X('temp_max:Q', bin=True, title='Temperature (°C)'),\n",
        "  alt.Y('count():Q'),\n",
        "  alt.Color('weather:N', scale=colors)\n",
        ").properties(\n",
        "  width=150,\n",
        "  height=150\n",
        ").facet(\n",
        "  data=weather,\n",
        "  column='weather:N'\n",
        ").transform_filter(\n",
        "  'datum.location == \"Seattle\"'\n",
        ")"
      ]
    },
    {
      "cell_type": "markdown",
      "metadata": {},
      "source": [
        "\n",
        "Dado todo o código extra acima, por quereríamos usar um operador explícito para `faceta`? Para gráficos básicos, deveríamos certamente usar os canais de codificação `coluna` ou `linha` sempre que possível. Usar o operador explícito `faceta`, entretanto, é útil se quisermos facetar visualizações compostas como gráficos em camadass.\n",
        "\n",
        "Vamos revisitar nossas plotagens de temperatura em camadas usadas mais cedo. Ao invés de plotar dados de Nova York e Seattle no mesmo gráfico, os quebraremos em diferentes facetas. As definições de gráfico individual são basicamente as mesmas de antes: um gráfico de área e um gráfico de linha. A única diferença é que dessa vez não passaremos o dados diretamente para os construtores do gráfico; vamos esperar e passá-los para o operador faceta posteriormente. Podemos construir camadas de gráficos como antes e só então chamar o `faceta` para o objeto gráfico em camada, passando o dado e especificando facetas `coluna` com base no campo `localização`:"
      ]
    },
    {
      "cell_type": "code",
      "execution_count": null,
      "metadata": {},
      "outputs": [],
      "source": [
        "tempMinMax = alt.Chart().mark_area(opacity=0.3).encode(\n",
        "  alt.X('month(date):T', title=None, axis=alt.Axis(format='%b')),\n",
        "  alt.Y('average(temp_max):Q', title='Avg. Temperature (°C)'),\n",
        "  alt.Y2('average(temp_min):Q'),\n",
        "  alt.Color('location:N')\n",
        ")\n",
        "\n",
        "tempMid = alt.Chart().mark_line().transform_calculate(\n",
        "  temp_mid='(+datum.temp_min + +datum.temp_max) / 2'\n",
        ").encode(\n",
        "  alt.X('month(date):T'),\n",
        "  alt.Y('average(temp_mid):Q'),\n",
        "  alt.Color('location:N')\n",
        ")\n",
        "\n",
        "alt.layer(tempMinMax, tempMid).facet(\n",
        "  data=weather,\n",
        "  column='location:N'\n",
        ")"
      ]
    },
    {
      "cell_type": "markdown",
      "metadata": {},
      "source": [
        "Os gráficos facetados que vimos até agora usam os mesmos domínios de escala e eixos através nas células facetadas. Esse padrão de usar escalas e eixos *compartilhados* ajuda a auxiliar na comparação precisa de valores. No entanto, em alguns casos, você pode querer dimensionar cada gráfico independentemente, por exemplo, se o intervalo de valores nas células diferir significativamente.\n",
        "\n",
        "Semelhante aos gráficos em camadas, os gráficos facetados também oferecem suporte à _resolução_ para escalas ou eixos independentes nos gráficos. Vamos ver o que acontece se chamarmos o método `resolve_axis` para solicitar eixos y `independentes`:"
      ]
    },
    {
      "cell_type": "code",
      "execution_count": null,
      "metadata": {},
      "outputs": [],
      "source": [
        "tempMinMax = alt.Chart().mark_area(opacity=0.3).encode(\n",
        "  alt.X('month(date):T', title=None, axis=alt.Axis(format='%b')),\n",
        "  alt.Y('average(temp_max):Q', title='Avg. Temperature (°C)'),\n",
        "  alt.Y2('average(temp_min):Q'),\n",
        "  alt.Color('location:N')\n",
        ")\n",
        "\n",
        "tempMid = alt.Chart().mark_line().transform_calculate(\n",
        "  temp_mid='(+datum.temp_min + +datum.temp_max) / 2'\n",
        ").encode(\n",
        "  alt.X('month(date):T'),\n",
        "  alt.Y('average(temp_mid):Q'),\n",
        "  alt.Color('location:N')\n",
        ")\n",
        "\n",
        "alt.layer(tempMinMax, tempMid).facet(\n",
        "  data=weather,\n",
        "  column='location:N'\n",
        ").resolve_axis(y='independent')"
      ]
    },
    {
      "cell_type": "markdown",
      "metadata": {},
      "source": [
        "_O gráfico acima não parece ter sofrido grandes mudanças, mas o plot de Seattle agora inclui seu próprio eixo._\n",
        "\n",
        "E se ao invés disso chamássemos `resolve_scale` para solucionar os domínios de escala subjacentes?"
      ]
    },
    {
      "cell_type": "code",
      "execution_count": null,
      "metadata": {},
      "outputs": [],
      "source": [
        "tempMinMax = alt.Chart().mark_area(opacity=0.3).encode(\n",
        "  alt.X('month(date):T', title=None, axis=alt.Axis(format='%b')),\n",
        "  alt.Y('average(temp_max):Q', title='Avg. Temperature (°C)'),\n",
        "  alt.Y2('average(temp_min):Q'),\n",
        "  alt.Color('location:N')\n",
        ")\n",
        "\n",
        "tempMid = alt.Chart().mark_line().transform_calculate(\n",
        "  temp_mid='(+datum.temp_min + +datum.temp_max) / 2'\n",
        ").encode(\n",
        "  alt.X('month(date):T'),\n",
        "  alt.Y('average(temp_mid):Q'),\n",
        "  alt.Color('location:N')\n",
        ")\n",
        "\n",
        "alt.layer(tempMinMax, tempMid).facet(\n",
        "  data=weather,\n",
        "  column='location:N'\n",
        ").resolve_scale(y='independent')\n"
      ]
    },
    {
      "cell_type": "markdown",
      "metadata": {},
      "source": [
        "_Vemos agora células facetadas com diferentes eixos e domínios de escala. Nesse caso, usar escalas independentes parece uma ideia ruim! Os domínios não tem diferença que o justifica, e o observador pode ser induzido ao erro de achar que Nova York e Seattle tem temperaturas máximas semelhantes no verão._\n",
        "\n",
        "Para tomar um clicê emprestado: só poruque você *pode* fazer algo, não significa que *deveria*..."
      ]
    },
    {
      "cell_type": "markdown",
      "metadata": {
        "id": "C9SENaYGFDOd"
      },
      "source": [
        "## Concatenação\n",
        "\n",
        "\n",
        "---\n",
        "\n",
        "A técnica de faceting cria [múltiplos gráficos pequenos](https://en.wikipedia.org/wiki/Small_multiple) que mostram subdivisões separadas do dado. No entanto, podemos desejar criar uma exibição de multivisualização com diferentes perspectivas do *mesmo* conjunto de dados (não mais subconjuntos) ou visualizações que envolvem conjuntos de dados *distintos*.\n",
        "\n",
        "O Altair oferece operadores de *concatenação* para combinar gráficos arbitrários em um único gráfico concatenado. O operador `hconcat` (abreviando, `|` ) realiza uma concatenação horizontal, enquanto o operador `vconcat` (abreviando, `&`) realiza uma concatenação vertical.\n",
        "\n",
        "Vamos começar com um gráfico de linha simples, mostrando a média da temperatura máxima por mês em Nova York e Seattle, conforme vimos anteriormente:\n"
      ]
    },
    {
      "cell_type": "code",
      "execution_count": null,
      "metadata": {
        "id": "Czle9zVDF9V_"
      },
      "outputs": [],
      "source": [
        "alt.Chart(weather).mark_line().encode(\n",
        "  alt.X('month(date):T', title=None),\n",
        "  alt.Y('average(temp_max):Q'),\n",
        "  color='location:N'\n",
        ")"
      ]
    },
    {
      "cell_type": "markdown",
      "metadata": {
        "id": "Jmyu0LjEGjA_"
      },
      "source": [
        "*E se quisermos comparar não apenas a temperatura ao longo do tempo, mas também os níveis de precipitação e ventos?*\n"
      ]
    },
    {
      "cell_type": "markdown",
      "metadata": {
        "id": "auFYS3UTGJue"
      },
      "source": [
        "Vamos criar um gráfico concatenado composto por três visualizações. Vamos começar definindo um gráfico “base”  que contém todos os aspectos que devem ser compartilhados pelas três visualizações. Podemos, então, modificar esta base para criar variantes customizadas, com diferentes codificações do eixo y para as variáveis de temperatura máxima (`temp_max`), precipitação (`precipitation`) e ventos (`wind`). A seguir, concatenamos as visualizações usando o operador abreviado da barra vertical ( `|` ):\n"
      ]
    },
    {
      "cell_type": "code",
      "execution_count": null,
      "metadata": {
        "id": "GYNBtA58GgC_"
      },
      "outputs": [],
      "source": [
        "base = alt.Chart(weather).mark_line().encode(\n",
        "  alt.X('month(date):T', title=None),\n",
        "  color='location:N'\n",
        ").properties(\n",
        "  width=240,\n",
        "  height=180\n",
        ")\n",
        "\n",
        "temp = base.encode(alt.Y('average(temp_max):Q'))\n",
        "precip = base.encode(alt.Y('average(precipitation):Q'))\n",
        "wind = base.encode(alt.Y('average(wind):Q'))\n",
        "\n",
        "temp | precip | wind"
      ]
    },
    {
      "cell_type": "markdown",
      "metadata": {
        "id": "GR4YiDtdHByn"
      },
      "source": [
        "Poderíamos também utilizar o método mais explícito `alt.hconcat()` no lugar da barra vertical `|` . *Tente reescrever o código acima usando* `hconcat`.\n",
        "\n",
        "A concatenação vertical funciona de forma similar à concatenação horizontal. *Usando o operador `&` (ou o método* `alt.vconcat`)*, modifique o código para ordenar as visualizações verticalmente ao invés de horizontalmente.*\n",
        "\n",
        "Finalmente, note que as concatenações horizontais e verticais podem ser combinadas. *O que acontece se você escrever algo como* `(temp | precip) & wind` *?*\n",
        "\n",
        "*Observação:* Note a importância desses parênteses… O que aconteceria se você os removesse? Mantenha em mente que esses operadores sobrecarregados ainda estão sujeitos às [regras de precedência de operadores do Python](https://docs.python.org/3/reference/expressions.html#operator-precedence), e assim, a concatenação vertical com `&` vai ter preferência sobre a concatenação horizontal com `|` !\n",
        "\n",
        "Como veremos mais tarde, os operadores de concatenação permitem combinar quaisquer gráficos em um dashboard de multivisualização!\n",
        "\n"
      ]
    },
    {
      "cell_type": "markdown",
      "metadata": {
        "id": "aLTYC39XHIE4"
      },
      "source": [
        "## Repetição\n",
        "\n",
        "\n",
        "---\n",
        "\n",
        "\n",
        "Os operadores de concatenação são genéricos, permitindo a composição de gráficos arbitrários. No entanto, o exemplo acima ainda possui palavras demais: temos três gráficos muito semelhantes, mas precisamos defini-los separadamente e depois concatená-los.\n",
        "\n",
        "Para casos em que apenas uma ou duas variáveis estão mudando, o operador `repeat` proporciona um atalho útil para criar múltiplos gráficos. Dada uma especificação de *modelo* com algumas variáveis livres, o operador `repeat` criará um gráfico para cada atribuição especificada dessas variáveis.\n",
        "\n",
        "Vamos recriar o exemplo de concatenação acima usando o operador `repeat`. O único aspecto que difere entre as visualizações é a escolha da variável para a codificação do eixo `y`. Para criar uma especificação de modelo, podemos usar a *variável repetitiva* `alt.repeat('column')` como o nosso eixo y. Esse código simplesmente indica que queremos usar a variável atribuída à coluna repetida, a qual organiza os gráficos repetidos na direção horizontal. (Como o método fornece apenas o nome do campo, temos que especificar o tipo dos dados separadamente com `type='quantitative'` .)\n",
        "\n",
        "Em seguida, invocamos o método `repeat`, passando os nomes dos campos de dados para cada coluna:\n"
      ]
    },
    {
      "cell_type": "code",
      "execution_count": null,
      "metadata": {
        "id": "DiG9tKmpJZRn"
      },
      "outputs": [],
      "source": [
        "alt.Chart(weather).mark_line().encode(\n",
        "  alt.X('month(date):T',title=None),\n",
        "  alt.Y(alt.repeat('column'), aggregate='average', type='quantitative'),\n",
        "  color='location:N'\n",
        ").properties(\n",
        "  width=240,\n",
        "  height=180\n",
        ").repeat(\n",
        "  column=['temp_max', 'precipitation', 'wind']\n",
        ")"
      ]
    },
    {
      "cell_type": "markdown",
      "metadata": {
        "id": "pGW7yag7KKsR"
      },
      "source": [
        "*A repetição pode ser feita tanto nas colunas quanto nas linhas. O que acontece se você modificar o código acima para usar linhas (*`row`*) ao invés de colunas (*`column`*)?*\n",
        "\n",
        "\n",
        "Podemos também usar a repetição de linha (`row`) e de coluna (`column`) juntas! Uma visualização comum para exploração de análise de dados é a [matriz de gráfico de dispersão](https://pt.wikipedia.org/wiki/Gr%C3%A1fico_de_dispers%C3%A3o) (ou SPLOM, abreviação do termo em inglês 'scatter plot matrix'). Dada uma coleção de variáveis para inspecionar, a SPLOM proporciona uma grade com todos os gráficos pareados dessas variáveis, nos permitindo enxergar possíveis correlações.\n",
        "\n",
        "Vamos usar o operador `repeat` para criar uma SPLOM para os campos `temp_max`, `precipitation` e `wind`. Primeiramente, vamos criar a nossa especificação de modelo, com variáveis repetidas para os campos do eixo x e do eixo y.  A seguir, invocamos `repeat`, passando vetores de nomes de campos para usar tanto na linha (`row`) quanto na coluna (`column`). O Altair vai, então, gerar o [ produto cruzado (ou o produto Cartesiano)](https://pt.wikipedia.org/wiki/Produto_cartesiano) para criar o espaço completo de gráficos repetidos:\n"
      ]
    },
    {
      "cell_type": "code",
      "execution_count": null,
      "metadata": {
        "id": "ZkVq66cSL-BO"
      },
      "outputs": [],
      "source": [
        "alt.Chart().mark_point(filled=True, size=15, opacity=0.5).encode(\n",
        "  alt.X(alt.repeat('column'), type='quantitative'),\n",
        "  alt.Y(alt.repeat('row'), type='quantitative')\n",
        ").properties(\n",
        "  width=150,\n",
        "  height=150\n",
        ").repeat(\n",
        "  data=weather,\n",
        "  row=['temp_max', 'precipitation', 'wind'],\n",
        "  column=['wind', 'precipitation', 'temp_max']\n",
        ").transform_filter(\n",
        "  'datum.location == \"Seattle\"'\n",
        ")"
      ]
    },
    {
      "cell_type": "markdown",
      "metadata": {
        "id": "k0A_5okrMzBY"
      },
      "source": [
        "*Analisando essas visualizações, parece que não há uma correlação forte entre precipitação e ventos, apesar de notarmos que eventos com fortes ventos e precipitação ocorrem em intervalos similares de máxima temperatura (~5-15° C). Contudo, essa observação não é muito surpreendente: relembrando o histograma feito no começo da seção de facet, podemos ver claramente que os dias com máximas temperaturas no intervalo de 5-15°C são os mais frequentes.*\n",
        "\n",
        "*Modifique o código acima para conseguir uma melhor compreensão da repetição de gráficos. Tente adicionar outra variável (*`temp_min`*) para a SPLOM. O que acontece se você rearranjar a ordem dos campos em algum dos parâmetros de linha (*`row`*) ou coluna (*`column`*) para o operador* `repeat`*?*\n",
        "\n",
        "*Finalmente, para realmente apreciar tudo que o operador*`repeat` *pode oferecer, reserve um momento para imaginar como você pode recriar a SPLOM acima usando apenas* `hconcat` *e* `vconcat`*!*\n"
      ]
    },
    {
      "cell_type": "markdown",
      "metadata": {},
      "source": [
        "## Uma Álgebra de Composição de Visualizações\n",
        "---"
      ]
    },
    {
      "cell_type": "markdown",
      "metadata": {},
      "source": [
        "Juntos, os operados `layer`, `facet`, `concat` e `repeat` formam uma _álgebra de composição de visualizações_: diversos operadores podem ser combinados para construir uma variedade de visualizações múltiplas.\n",
        "\n",
        "Como exemplo, vamos começar com dois gráficos básicos: um histograma e uma linha simples (uma única marca `rule`) mostrando uma média global."
      ]
    },
    {
      "cell_type": "code",
      "execution_count": null,
      "metadata": {},
      "outputs": [],
      "source": [
        "basic1 = alt.Chart(weather).transform_filter(\n",
        "  'datum.location == \"Seattle\"'\n",
        ").mark_bar().encode(\n",
        "  alt.X('month(date):O'),\n",
        "  alt.Y('average(temp_max):Q')\n",
        ")\n",
        "\n",
        "basic2 = alt.Chart(weather).transform_filter(\n",
        "  'datum.location == \"Seattle\"'\n",
        ").mark_rule(stroke='firebrick').encode(\n",
        "  alt.Y('average(temp_max):Q')\n",
        ")\n",
        "\n",
        "basic1 | basic2"
      ]
    },
    {
      "cell_type": "markdown",
      "metadata": {},
      "source": [
        "Podemos então combinar os dois gráficos usando um operador `layer` e, em seguida, ` repeat`, que repetiria esse gráfico em camadas para mostrar histogramas com médias sobrepostas para vários campos:"
      ]
    },
    {
      "cell_type": "code",
      "execution_count": null,
      "metadata": {},
      "outputs": [],
      "source": [
        "alt.layer(\n",
        "  alt.Chart().mark_bar().encode(\n",
        "    alt.X('month(date):O', title='Month'),\n",
        "    alt.Y(alt.repeat('column'), aggregate='average', type='quantitative')\n",
        "  ),\n",
        "  alt.Chart().mark_rule(stroke='firebrick').encode(\n",
        "    alt.Y(alt.repeat('column'), aggregate='average', type='quantitative')\n",
        "  )\n",
        ").properties(\n",
        "  width=200,\n",
        "  height=150\n",
        ").repeat(\n",
        "  data=weather,\n",
        "  column=['temp_max', 'precipitation', 'wind']\n",
        ").transform_filter(\n",
        "  'datum.location == \"Seattle\"'\n",
        ")"
      ]
    },
    {
      "cell_type": "markdown",
      "metadata": {},
      "source": [
        "Se focarmos apenas nos operadores de composição de múltiplas visualizações, o modelo para a visualização acima é:\n",
        "\n",
        "```\n",
        "repeat(column=[...])\n",
        "|- layer\n",
        "   |- basic1\n",
        "   |- basic2\n",
        "```\n",
        "\n",
        "Agora, vamos explorar como podemos aplicar todos os operadores em um [painel](https://en.wikipedia.org/wiki/Dashboard_(computing)) final que fornece uma visão geral do clima de Seattle. Combinaremos os displays SPLOM e histograma facetado das seções anteriores com os histogramas repetidos acima:"
      ]
    },
    {
      "cell_type": "code",
      "execution_count": null,
      "metadata": {},
      "outputs": [],
      "source": [
        "splom = alt.Chart().mark_point(filled=True, size=15, opacity=0.5).encode(\n",
        "  alt.X(alt.repeat('column'), type='quantitative'),\n",
        "  alt.Y(alt.repeat('row'), type='quantitative')\n",
        ").properties(\n",
        "  width=125,\n",
        "  height=125\n",
        ").repeat(\n",
        "  row=['temp_max', 'precipitation', 'wind'],\n",
        "  column=['wind', 'precipitation', 'temp_max']\n",
        ")\n",
        "\n",
        "dateHist = alt.layer(\n",
        "  alt.Chart().mark_bar().encode(\n",
        "    alt.X('month(date):O', title='Month'),\n",
        "    alt.Y(alt.repeat('row'), aggregate='average', type='quantitative')\n",
        "  ),\n",
        "  alt.Chart().mark_rule(stroke='firebrick').encode(\n",
        "    alt.Y(alt.repeat('row'), aggregate='average', type='quantitative')\n",
        "  )\n",
        ").properties(\n",
        "  width=175,\n",
        "  height=125\n",
        ").repeat(\n",
        "  row=['temp_max', 'precipitation', 'wind']\n",
        ")\n",
        "\n",
        "tempHist = alt.Chart(weather).mark_bar().encode(\n",
        "  alt.X('temp_max:Q', bin=True, title='Temperature (°C)'),\n",
        "  alt.Y('count():Q'),\n",
        "  alt.Color('weather:N', scale=alt.Scale(\n",
        "    domain=['drizzle', 'fog', 'rain', 'snow', 'sun'],\n",
        "    range=['#aec7e8', '#c7c7c7', '#1f77b4', '#9467bd', '#e7ba52']\n",
        "  ))\n",
        ").properties(\n",
        "  width=115,\n",
        "  height=100\n",
        ").facet(\n",
        "  column='weather:N'\n",
        ")\n",
        "\n",
        "alt.vconcat(\n",
        "  alt.hconcat(splom, dateHist),\n",
        "  tempHist,\n",
        "  data=weather,\n",
        "  title='Seattle Weather Dashboard'\n",
        ").transform_filter(\n",
        "  'datum.location == \"Seattle\"'\n",
        ").resolve_legend(\n",
        "  color='independent'\n",
        ").configure_axis(\n",
        "  labelAngle=0\n",
        ")"
      ]
    },
    {
      "cell_type": "markdown",
      "metadata": {},
      "source": [
        "O modelo de composição completo para este painel é:\n",
        "```\n",
        "vconcat\n",
        "|- hconcat\n",
        "|  |- repeat(row=[...], column=[...])\n",
        "|  |  |- splom base chart\n",
        "|  |- repeat(row=[...])\n",
        "|     |- layer\n",
        "|        |- dateHist base chart 1\n",
        "|        |- dateHist base chart 2\n",
        "|- facet(column='weather')\n",
        "   |- tempHist base chart\n",
        "```\n",
        "Ufa! O painel também inclui algumas personalizações para melhorar o layout:\n",
        "\n",
        "* Ajustamos o gráfico com as propriedades `width` e `height` para auxiliar o alinhamento e garantir que a visualização completa caiba na tela.\n",
        "\n",
        "* Adicionamos `resolve_legend(color='independent')` para garantir que a legenda de cores seja associada diretamente aos histogramas coloridos por temperatura. Caso contrário, a legenda resolverá para o painel como um todo.\n",
        "\n",
        "* Usamos `configure_axis(labelAngle=0)` para garantir que nenhum rótulo de eixo seja rotacionado. Isso ajuda a garantir o alinhamento adequado entre os gráficos de dispersão (_scatter plots_) no SPLOM e os histogramas por mês à direita.\n",
        "\n",
        "_Tente remover ou modificar qualquer um desses ajustes e veja como o layout do painel responde!_\n",
        "\n",
        "Este painel pode ser reutilizado para mostrar dados de outros locais ou de outros conjuntos de dados. _Atualize o painel para mostrar padrões climáticos para Nova York em vez de Seattle._\n"
      ]
    },
    {
      "cell_type": "markdown",
      "metadata": {},
      "source": [
        "## <font color=\"gray\">5.7</font> Resumo\n",
        "---\n"
      ]
    },
    {
      "cell_type": "markdown",
      "metadata": {},
      "source": [
        "Para obter mais detalhes sobre a composição de múltiplas visualizações, incluindo controle sobre espaçamento de subplotagens e rótulos de cabeçalho, consulte a [documentação do Altair Compound Charts](https://altair-viz.github.io/user_guide/compound_charts.html).\n",
        "\n",
        "Agora que vimos como compor múltiplas visualizações, estamos prontos para colocá-las em ação. Além de apresentar dados estaticamente, múltiplas visualizações podem permitir exploração multidimensional interativa. Por exemplo, usando seleções vinculadas , podemos destacar pontos em uma visualização para ver valores correspondentes destacados em outras visualizações.\n",
        "\n",
        "No próximo capítulo, examinaremos como criar seleções interativas para plotagens individuais e composições com múltiplas visualizações."
      ]
    },
    {
      "cell_type": "markdown",
      "metadata": {},
      "source": []
    }
  ],
  "metadata": {
    "colab": {
      "provenance": []
    },
    "kernelspec": {
      "display_name": "Python 3",
      "name": "python3"
    },
    "language_info": {
      "codemirror_mode": {
        "name": "ipython",
        "version": 3
      },
      "file_extension": ".py",
      "mimetype": "text/x-python",
      "name": "python",
      "nbconvert_exporter": "python",
      "pygments_lexer": "ipython3",
      "version": "3.12.1"
    }
  },
  "nbformat": 4,
  "nbformat_minor": 0
}
