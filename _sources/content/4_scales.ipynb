{
  "cells": [
    {
      "cell_type": "markdown",
      "metadata": {
        "id": "s-_LXMfxPYNn"
      },
      "source": [
        "# 4. Escalas, Eixos e Legendas\n",
        "\n",
        "Codificação visual &ndash; mapear os dados em variáveis visuais como posição, tamanho, formato ou cor &ndash; é o coração pulsante da visualização de dados. O cavalo-potência que de fato protagoniza esse mapeamento é a *escala*: uma função que toma um valor de dados como *input* (o *domínio* da escala) e retorna um valor visual, como a posição de um pixel ou cor RGB, como *output* (a *extensão* ou *escopo* da escala). É claro que uma visualização é inútil se ninguém a entende. Adicionalmemte às marcas gráficas, um gráfico carece de elementos de referência, ou *guias*, que permite que seus leitores o decodifiquem. Guias como *eixos* (que expressam escalas de maneira espacial) e *legendas* (que complementam a informação com cor, tamanho ou formato) são os heróis esquecidos da visualização de dados!\n",
        "\n",
        "Nesse capítulo, vamos explorar as opções oferecidas pelo Altair para possibilitar designs customizados de mapeamento de escala, eixo e legendas, através do exemplo da eficácia de antibióticos.\n",
        "\n",
        "_Este capítulo faz parte do [currículo de visualização de dados](https://github.com/uwdata/visualization-curriculum)._"
      ]
    },
    {
      "cell_type": "code",
      "execution_count": null,
      "metadata": {
        "id": "9-iDk57UO3ij"
      },
      "outputs": [],
      "source": [
        "import pandas as pd\n",
        "import altair as alt"
      ]
    },
    {
      "cell_type": "markdown",
      "metadata": {
        "id": "2bgy9xz4J2vb"
      },
      "source": [
        "## Dados de antibióticos\n",
        "---"
      ]
    },
    {
      "cell_type": "markdown",
      "metadata": {
        "id": "cXYJkW_p6zGN"
      },
      "source": [
        "Após a segunda guerra mundial, antibióticos foram considerados \"drogas milagrosas\", à medida que remediavam com facilidade males antes incuráveis. Para compreender qual droga seria mais eficaz contra cada infecção bacteriana, acumulamos dada acerca da performance dos três antibióticos mais populares em relação a dezesseis bactérias."
      ]
    },
    {
      "cell_type": "markdown",
      "metadata": {
        "id": "YRXEnlzG8Cpt"
      },
      "source": [
        "Usaremos um dataset de antibióticos do [vega-datasets collection](https://github.com/vega/vega-datasets). Nos exemplos abaixo, há referência direta do URL para Altair:"
      ]
    },
    {
      "cell_type": "code",
      "execution_count": null,
      "metadata": {
        "id": "jbtcg3fmJ5_A"
      },
      "outputs": [],
      "source": [
        "antibiotics = 'https://cdn.jsdelivr.net/npm/vega-datasets@1/data/burtin.json'"
      ]
    },
    {
      "cell_type": "markdown",
      "metadata": {
        "id": "MGHC8Fft8L2E"
      },
      "source": [
        "Podemos primeiro ler os dados com Pandas para observar o dataset em toda a sua extensão e tomar ciência dos campos disponíveis:\n"
      ]
    },
    {
      "cell_type": "code",
      "execution_count": null,
      "metadata": {
        "colab": {
          "base_uri": "https://localhost:8080/",
          "height": 551
        },
        "id": "WoMzr0HE6ipZ",
        "outputId": "533bc351-dad4-4409-b14b-f91ee422fb4e"
      },
      "outputs": [
        {
          "data": {
            "application/vnd.google.colaboratory.intrinsic+json": {
              "summary": "{\n  \"name\": \"pd\",\n  \"rows\": 16,\n  \"fields\": [\n    {\n      \"column\": \"Bacteria\",\n      \"properties\": {\n        \"dtype\": \"string\",\n        \"num_unique_values\": 16,\n        \"samples\": [\n          \"Aerobacter aerogenes\",\n          \"Bacillus anthracis\",\n          \"Klebsiella pneumoniae\"\n        ],\n        \"semantic_type\": \"\",\n        \"description\": \"\"\n      }\n    },\n    {\n      \"column\": \"Penicillin\",\n      \"properties\": {\n        \"dtype\": \"number\",\n        \"std\": 373.4950601280591,\n        \"min\": 0.001,\n        \"max\": 870.0,\n        \"num_unique_values\": 11,\n        \"samples\": [\n          850.0,\n          870.0,\n          0.007\n        ],\n        \"semantic_type\": \"\",\n        \"description\": \"\"\n      }\n    },\n    {\n      \"column\": \"Streptomycin\",\n      \"properties\": {\n        \"dtype\": \"number\",\n        \"std\": 4.5026910472146175,\n        \"min\": 0.01,\n        \"max\": 14.0,\n        \"num_unique_values\": 12,\n        \"samples\": [\n          14.0,\n          0.03,\n          1.0\n        ],\n        \"semantic_type\": \"\",\n        \"description\": \"\"\n      }\n    },\n    {\n      \"column\": \"Neomycin\",\n      \"properties\": {\n        \"dtype\": \"number\",\n        \"std\": 10.13316450880474,\n        \"min\": 0.001,\n        \"max\": 40.0,\n        \"num_unique_values\": 12,\n        \"samples\": [\n          0.001,\n          0.09,\n          1.6\n        ],\n        \"semantic_type\": \"\",\n        \"description\": \"\"\n      }\n    },\n    {\n      \"column\": \"Gram_Staining\",\n      \"properties\": {\n        \"dtype\": \"category\",\n        \"num_unique_values\": 2,\n        \"samples\": [\n          \"positive\",\n          \"negative\"\n        ],\n        \"semantic_type\": \"\",\n        \"description\": \"\"\n      }\n    },\n    {\n      \"column\": \"Genus\",\n      \"properties\": {\n        \"dtype\": \"category\",\n        \"num_unique_values\": 4,\n        \"samples\": [\n          \"Salmonella\",\n          \"Streptococcus\"\n        ],\n        \"semantic_type\": \"\",\n        \"description\": \"\"\n      }\n    }\n  ]\n}",
              "type": "dataframe"
            },
            "text/html": [
              "\n",
              "  <div id=\"df-f9ecb3bf-c248-4a46-8ff6-cfc5cacdf9de\" class=\"colab-df-container\">\n",
              "    <div>\n",
              "<style scoped>\n",
              "    .dataframe tbody tr th:only-of-type {\n",
              "        vertical-align: middle;\n",
              "    }\n",
              "\n",
              "    .dataframe tbody tr th {\n",
              "        vertical-align: top;\n",
              "    }\n",
              "\n",
              "    .dataframe thead th {\n",
              "        text-align: right;\n",
              "    }\n",
              "</style>\n",
              "<table border=\"1\" class=\"dataframe\">\n",
              "  <thead>\n",
              "    <tr style=\"text-align: right;\">\n",
              "      <th></th>\n",
              "      <th>Bacteria</th>\n",
              "      <th>Penicillin</th>\n",
              "      <th>Streptomycin</th>\n",
              "      <th>Neomycin</th>\n",
              "      <th>Gram_Staining</th>\n",
              "      <th>Genus</th>\n",
              "    </tr>\n",
              "  </thead>\n",
              "  <tbody>\n",
              "    <tr>\n",
              "      <th>0</th>\n",
              "      <td>Aerobacter aerogenes</td>\n",
              "      <td>870.000</td>\n",
              "      <td>1.00</td>\n",
              "      <td>1.600</td>\n",
              "      <td>negative</td>\n",
              "      <td>other</td>\n",
              "    </tr>\n",
              "    <tr>\n",
              "      <th>1</th>\n",
              "      <td>Bacillus anthracis</td>\n",
              "      <td>0.001</td>\n",
              "      <td>0.01</td>\n",
              "      <td>0.007</td>\n",
              "      <td>positive</td>\n",
              "      <td>other</td>\n",
              "    </tr>\n",
              "    <tr>\n",
              "      <th>2</th>\n",
              "      <td>Brucella abortus</td>\n",
              "      <td>1.000</td>\n",
              "      <td>2.00</td>\n",
              "      <td>0.020</td>\n",
              "      <td>negative</td>\n",
              "      <td>other</td>\n",
              "    </tr>\n",
              "    <tr>\n",
              "      <th>3</th>\n",
              "      <td>Diplococcus pneumoniae</td>\n",
              "      <td>0.005</td>\n",
              "      <td>11.00</td>\n",
              "      <td>10.000</td>\n",
              "      <td>positive</td>\n",
              "      <td>other</td>\n",
              "    </tr>\n",
              "    <tr>\n",
              "      <th>4</th>\n",
              "      <td>Escherichia coli</td>\n",
              "      <td>100.000</td>\n",
              "      <td>0.40</td>\n",
              "      <td>0.100</td>\n",
              "      <td>negative</td>\n",
              "      <td>other</td>\n",
              "    </tr>\n",
              "    <tr>\n",
              "      <th>5</th>\n",
              "      <td>Klebsiella pneumoniae</td>\n",
              "      <td>850.000</td>\n",
              "      <td>1.20</td>\n",
              "      <td>1.000</td>\n",
              "      <td>negative</td>\n",
              "      <td>other</td>\n",
              "    </tr>\n",
              "    <tr>\n",
              "      <th>6</th>\n",
              "      <td>Mycobacterium tuberculosis</td>\n",
              "      <td>800.000</td>\n",
              "      <td>5.00</td>\n",
              "      <td>2.000</td>\n",
              "      <td>negative</td>\n",
              "      <td>other</td>\n",
              "    </tr>\n",
              "    <tr>\n",
              "      <th>7</th>\n",
              "      <td>Proteus vulgaris</td>\n",
              "      <td>3.000</td>\n",
              "      <td>0.10</td>\n",
              "      <td>0.100</td>\n",
              "      <td>negative</td>\n",
              "      <td>other</td>\n",
              "    </tr>\n",
              "    <tr>\n",
              "      <th>8</th>\n",
              "      <td>Pseudomonas aeruginosa</td>\n",
              "      <td>850.000</td>\n",
              "      <td>2.00</td>\n",
              "      <td>0.400</td>\n",
              "      <td>negative</td>\n",
              "      <td>other</td>\n",
              "    </tr>\n",
              "    <tr>\n",
              "      <th>9</th>\n",
              "      <td>Salmonella (Eberthella) typhosa</td>\n",
              "      <td>1.000</td>\n",
              "      <td>0.40</td>\n",
              "      <td>0.008</td>\n",
              "      <td>negative</td>\n",
              "      <td>Salmonella</td>\n",
              "    </tr>\n",
              "    <tr>\n",
              "      <th>10</th>\n",
              "      <td>Salmonella schottmuelleri</td>\n",
              "      <td>10.000</td>\n",
              "      <td>0.80</td>\n",
              "      <td>0.090</td>\n",
              "      <td>negative</td>\n",
              "      <td>Salmonella</td>\n",
              "    </tr>\n",
              "    <tr>\n",
              "      <th>11</th>\n",
              "      <td>Staphylococcus albus</td>\n",
              "      <td>0.007</td>\n",
              "      <td>0.10</td>\n",
              "      <td>0.001</td>\n",
              "      <td>positive</td>\n",
              "      <td>Staphylococcus</td>\n",
              "    </tr>\n",
              "    <tr>\n",
              "      <th>12</th>\n",
              "      <td>Staphylococcus aureus</td>\n",
              "      <td>0.030</td>\n",
              "      <td>0.03</td>\n",
              "      <td>0.001</td>\n",
              "      <td>positive</td>\n",
              "      <td>Staphylococcus</td>\n",
              "    </tr>\n",
              "    <tr>\n",
              "      <th>13</th>\n",
              "      <td>Streptococcus fecalis</td>\n",
              "      <td>1.000</td>\n",
              "      <td>1.00</td>\n",
              "      <td>0.100</td>\n",
              "      <td>positive</td>\n",
              "      <td>Streptococcus</td>\n",
              "    </tr>\n",
              "    <tr>\n",
              "      <th>14</th>\n",
              "      <td>Streptococcus hemolyticus</td>\n",
              "      <td>0.001</td>\n",
              "      <td>14.00</td>\n",
              "      <td>10.000</td>\n",
              "      <td>positive</td>\n",
              "      <td>Streptococcus</td>\n",
              "    </tr>\n",
              "    <tr>\n",
              "      <th>15</th>\n",
              "      <td>Streptococcus viridans</td>\n",
              "      <td>0.005</td>\n",
              "      <td>10.00</td>\n",
              "      <td>40.000</td>\n",
              "      <td>positive</td>\n",
              "      <td>Streptococcus</td>\n",
              "    </tr>\n",
              "  </tbody>\n",
              "</table>\n",
              "</div>\n",
              "    <div class=\"colab-df-buttons\">\n",
              "\n",
              "  <div class=\"colab-df-container\">\n",
              "    <button class=\"colab-df-convert\" onclick=\"convertToInteractive('df-f9ecb3bf-c248-4a46-8ff6-cfc5cacdf9de')\"\n",
              "            title=\"Convert this dataframe to an interactive table.\"\n",
              "            style=\"display:none;\">\n",
              "\n",
              "  <svg xmlns=\"http://www.w3.org/2000/svg\" height=\"24px\" viewBox=\"0 -960 960 960\">\n",
              "    <path d=\"M120-120v-720h720v720H120Zm60-500h600v-160H180v160Zm220 220h160v-160H400v160Zm0 220h160v-160H400v160ZM180-400h160v-160H180v160Zm440 0h160v-160H620v160ZM180-180h160v-160H180v160Zm440 0h160v-160H620v160Z\"/>\n",
              "  </svg>\n",
              "    </button>\n",
              "\n",
              "  <style>\n",
              "    .colab-df-container {\n",
              "      display:flex;\n",
              "      gap: 12px;\n",
              "    }\n",
              "\n",
              "    .colab-df-convert {\n",
              "      background-color: #E8F0FE;\n",
              "      border: none;\n",
              "      border-radius: 50%;\n",
              "      cursor: pointer;\n",
              "      display: none;\n",
              "      fill: #1967D2;\n",
              "      height: 32px;\n",
              "      padding: 0 0 0 0;\n",
              "      width: 32px;\n",
              "    }\n",
              "\n",
              "    .colab-df-convert:hover {\n",
              "      background-color: #E2EBFA;\n",
              "      box-shadow: 0px 1px 2px rgba(60, 64, 67, 0.3), 0px 1px 3px 1px rgba(60, 64, 67, 0.15);\n",
              "      fill: #174EA6;\n",
              "    }\n",
              "\n",
              "    .colab-df-buttons div {\n",
              "      margin-bottom: 4px;\n",
              "    }\n",
              "\n",
              "    [theme=dark] .colab-df-convert {\n",
              "      background-color: #3B4455;\n",
              "      fill: #D2E3FC;\n",
              "    }\n",
              "\n",
              "    [theme=dark] .colab-df-convert:hover {\n",
              "      background-color: #434B5C;\n",
              "      box-shadow: 0px 1px 3px 1px rgba(0, 0, 0, 0.15);\n",
              "      filter: drop-shadow(0px 1px 2px rgba(0, 0, 0, 0.3));\n",
              "      fill: #FFFFFF;\n",
              "    }\n",
              "  </style>\n",
              "\n",
              "    <script>\n",
              "      const buttonEl =\n",
              "        document.querySelector('#df-f9ecb3bf-c248-4a46-8ff6-cfc5cacdf9de button.colab-df-convert');\n",
              "      buttonEl.style.display =\n",
              "        google.colab.kernel.accessAllowed ? 'block' : 'none';\n",
              "\n",
              "      async function convertToInteractive(key) {\n",
              "        const element = document.querySelector('#df-f9ecb3bf-c248-4a46-8ff6-cfc5cacdf9de');\n",
              "        const dataTable =\n",
              "          await google.colab.kernel.invokeFunction('convertToInteractive',\n",
              "                                                    [key], {});\n",
              "        if (!dataTable) return;\n",
              "\n",
              "        const docLinkHtml = 'Like what you see? Visit the ' +\n",
              "          '<a target=\"_blank\" href=https://colab.research.google.com/notebooks/data_table.ipynb>data table notebook</a>'\n",
              "          + ' to learn more about interactive tables.';\n",
              "        element.innerHTML = '';\n",
              "        dataTable['output_type'] = 'display_data';\n",
              "        await google.colab.output.renderOutput(dataTable, element);\n",
              "        const docLink = document.createElement('div');\n",
              "        docLink.innerHTML = docLinkHtml;\n",
              "        element.appendChild(docLink);\n",
              "      }\n",
              "    </script>\n",
              "  </div>\n",
              "\n",
              "\n",
              "<div id=\"df-719a6ba5-d76c-48f7-aea4-ad59235bda2a\">\n",
              "  <button class=\"colab-df-quickchart\" onclick=\"quickchart('df-719a6ba5-d76c-48f7-aea4-ad59235bda2a')\"\n",
              "            title=\"Suggest charts\"\n",
              "            style=\"display:none;\">\n",
              "\n",
              "<svg xmlns=\"http://www.w3.org/2000/svg\" height=\"24px\"viewBox=\"0 0 24 24\"\n",
              "     width=\"24px\">\n",
              "    <g>\n",
              "        <path d=\"M19 3H5c-1.1 0-2 .9-2 2v14c0 1.1.9 2 2 2h14c1.1 0 2-.9 2-2V5c0-1.1-.9-2-2-2zM9 17H7v-7h2v7zm4 0h-2V7h2v10zm4 0h-2v-4h2v4z\"/>\n",
              "    </g>\n",
              "</svg>\n",
              "  </button>\n",
              "\n",
              "<style>\n",
              "  .colab-df-quickchart {\n",
              "      --bg-color: #E8F0FE;\n",
              "      --fill-color: #1967D2;\n",
              "      --hover-bg-color: #E2EBFA;\n",
              "      --hover-fill-color: #174EA6;\n",
              "      --disabled-fill-color: #AAA;\n",
              "      --disabled-bg-color: #DDD;\n",
              "  }\n",
              "\n",
              "  [theme=dark] .colab-df-quickchart {\n",
              "      --bg-color: #3B4455;\n",
              "      --fill-color: #D2E3FC;\n",
              "      --hover-bg-color: #434B5C;\n",
              "      --hover-fill-color: #FFFFFF;\n",
              "      --disabled-bg-color: #3B4455;\n",
              "      --disabled-fill-color: #666;\n",
              "  }\n",
              "\n",
              "  .colab-df-quickchart {\n",
              "    background-color: var(--bg-color);\n",
              "    border: none;\n",
              "    border-radius: 50%;\n",
              "    cursor: pointer;\n",
              "    display: none;\n",
              "    fill: var(--fill-color);\n",
              "    height: 32px;\n",
              "    padding: 0;\n",
              "    width: 32px;\n",
              "  }\n",
              "\n",
              "  .colab-df-quickchart:hover {\n",
              "    background-color: var(--hover-bg-color);\n",
              "    box-shadow: 0 1px 2px rgba(60, 64, 67, 0.3), 0 1px 3px 1px rgba(60, 64, 67, 0.15);\n",
              "    fill: var(--button-hover-fill-color);\n",
              "  }\n",
              "\n",
              "  .colab-df-quickchart-complete:disabled,\n",
              "  .colab-df-quickchart-complete:disabled:hover {\n",
              "    background-color: var(--disabled-bg-color);\n",
              "    fill: var(--disabled-fill-color);\n",
              "    box-shadow: none;\n",
              "  }\n",
              "\n",
              "  .colab-df-spinner {\n",
              "    border: 2px solid var(--fill-color);\n",
              "    border-color: transparent;\n",
              "    border-bottom-color: var(--fill-color);\n",
              "    animation:\n",
              "      spin 1s steps(1) infinite;\n",
              "  }\n",
              "\n",
              "  @keyframes spin {\n",
              "    0% {\n",
              "      border-color: transparent;\n",
              "      border-bottom-color: var(--fill-color);\n",
              "      border-left-color: var(--fill-color);\n",
              "    }\n",
              "    20% {\n",
              "      border-color: transparent;\n",
              "      border-left-color: var(--fill-color);\n",
              "      border-top-color: var(--fill-color);\n",
              "    }\n",
              "    30% {\n",
              "      border-color: transparent;\n",
              "      border-left-color: var(--fill-color);\n",
              "      border-top-color: var(--fill-color);\n",
              "      border-right-color: var(--fill-color);\n",
              "    }\n",
              "    40% {\n",
              "      border-color: transparent;\n",
              "      border-right-color: var(--fill-color);\n",
              "      border-top-color: var(--fill-color);\n",
              "    }\n",
              "    60% {\n",
              "      border-color: transparent;\n",
              "      border-right-color: var(--fill-color);\n",
              "    }\n",
              "    80% {\n",
              "      border-color: transparent;\n",
              "      border-right-color: var(--fill-color);\n",
              "      border-bottom-color: var(--fill-color);\n",
              "    }\n",
              "    90% {\n",
              "      border-color: transparent;\n",
              "      border-bottom-color: var(--fill-color);\n",
              "    }\n",
              "  }\n",
              "</style>\n",
              "\n",
              "  <script>\n",
              "    async function quickchart(key) {\n",
              "      const quickchartButtonEl =\n",
              "        document.querySelector('#' + key + ' button');\n",
              "      quickchartButtonEl.disabled = true;  // To prevent multiple clicks.\n",
              "      quickchartButtonEl.classList.add('colab-df-spinner');\n",
              "      try {\n",
              "        const charts = await google.colab.kernel.invokeFunction(\n",
              "            'suggestCharts', [key], {});\n",
              "      } catch (error) {\n",
              "        console.error('Error during call to suggestCharts:', error);\n",
              "      }\n",
              "      quickchartButtonEl.classList.remove('colab-df-spinner');\n",
              "      quickchartButtonEl.classList.add('colab-df-quickchart-complete');\n",
              "    }\n",
              "    (() => {\n",
              "      let quickchartButtonEl =\n",
              "        document.querySelector('#df-719a6ba5-d76c-48f7-aea4-ad59235bda2a button');\n",
              "      quickchartButtonEl.style.display =\n",
              "        google.colab.kernel.accessAllowed ? 'block' : 'none';\n",
              "    })();\n",
              "  </script>\n",
              "</div>\n",
              "\n",
              "    </div>\n",
              "  </div>\n"
            ],
            "text/plain": [
              "                           Bacteria  Penicillin  Streptomycin  Neomycin  \\\n",
              "0              Aerobacter aerogenes     870.000          1.00     1.600   \n",
              "1                Bacillus anthracis       0.001          0.01     0.007   \n",
              "2                  Brucella abortus       1.000          2.00     0.020   \n",
              "3            Diplococcus pneumoniae       0.005         11.00    10.000   \n",
              "4                  Escherichia coli     100.000          0.40     0.100   \n",
              "5             Klebsiella pneumoniae     850.000          1.20     1.000   \n",
              "6        Mycobacterium tuberculosis     800.000          5.00     2.000   \n",
              "7                  Proteus vulgaris       3.000          0.10     0.100   \n",
              "8            Pseudomonas aeruginosa     850.000          2.00     0.400   \n",
              "9   Salmonella (Eberthella) typhosa       1.000          0.40     0.008   \n",
              "10        Salmonella schottmuelleri      10.000          0.80     0.090   \n",
              "11             Staphylococcus albus       0.007          0.10     0.001   \n",
              "12            Staphylococcus aureus       0.030          0.03     0.001   \n",
              "13            Streptococcus fecalis       1.000          1.00     0.100   \n",
              "14        Streptococcus hemolyticus       0.001         14.00    10.000   \n",
              "15           Streptococcus viridans       0.005         10.00    40.000   \n",
              "\n",
              "   Gram_Staining           Genus  \n",
              "0       negative           other  \n",
              "1       positive           other  \n",
              "2       negative           other  \n",
              "3       positive           other  \n",
              "4       negative           other  \n",
              "5       negative           other  \n",
              "6       negative           other  \n",
              "7       negative           other  \n",
              "8       negative           other  \n",
              "9       negative      Salmonella  \n",
              "10      negative      Salmonella  \n",
              "11      positive  Staphylococcus  \n",
              "12      positive  Staphylococcus  \n",
              "13      positive   Streptococcus  \n",
              "14      positive   Streptococcus  \n",
              "15      positive   Streptococcus  "
            ]
          },
          "execution_count": 3,
          "metadata": {},
          "output_type": "execute_result"
        }
      ],
      "source": [
        "pd.read_json(antibiotics)"
      ]
    },
    {
      "cell_type": "markdown",
      "metadata": {
        "id": "els3ZQOv7K_9"
      },
      "source": [
        "Os valores numéricos presentes na tabela indicam a [mínima concentração inibitória (MIC)](https://en.wikipedia.org/wiki/Minimum_inhibitory_concentration), que mede a eficácia do antibiótico em relação à sua concentração (em microgramas por mililitro) requerida para prevenir o crescimento da colônia in vitro. A reação da bactéria a um processo chamado [Técnica de Gram](https://en.wikipedia.org/wiki/Gram_stain) é descrito pelo campo de nome `Gram_Staining`. As bactérias que adiquirem coloração num tom escuro de azul ou roxo são Gram-positive. O restante é Gram-negative.\n",
        "\n",
        "Enquanto examinamos as diferentes visualizações desse dataset, se pergunte: o que podemos aprender sobre a eficácia relativa dos antibióticos? E sobre as espécies bacterianas com base na sua \"resposta imunológica\"?"
      ]
    },
    {
      "cell_type": "markdown",
      "metadata": {
        "id": "9ZNMXWOzKvRa"
      },
      "source": [
        "## Configurando escalas e eixos\n",
        "---"
      ]
    },
    {
      "cell_type": "markdown",
      "metadata": {
        "id": "dawVYXt1WNJz"
      },
      "source": [
        "### Plotando resistência anibiótica: ajustagem do tipo de escala\n",
        "\n",
        "Comecemos olhando um diagrama de pontos simples para o MIC da Neomicina."
      ]
    },
    {
      "cell_type": "code",
      "execution_count": null,
      "metadata": {
        "colab": {
          "base_uri": "https://localhost:8080/",
          "height": 83
        },
        "id": "dBOlbuYpKx6L",
        "outputId": "9f07abd3-ff33-4ffc-a7ad-51528997c653"
      },
      "outputs": [
        {
          "data": {
            "text/html": [
              "\n",
              "<style>\n",
              "  #altair-viz-261a70ad4bcd40c89d928811f5f76d64.vega-embed {\n",
              "    width: 100%;\n",
              "    display: flex;\n",
              "  }\n",
              "\n",
              "  #altair-viz-261a70ad4bcd40c89d928811f5f76d64.vega-embed details,\n",
              "  #altair-viz-261a70ad4bcd40c89d928811f5f76d64.vega-embed details summary {\n",
              "    position: relative;\n",
              "  }\n",
              "</style>\n",
              "<div id=\"altair-viz-261a70ad4bcd40c89d928811f5f76d64\"></div>\n",
              "<script type=\"text/javascript\">\n",
              "  var VEGA_DEBUG = (typeof VEGA_DEBUG == \"undefined\") ? {} : VEGA_DEBUG;\n",
              "  (function(spec, embedOpt){\n",
              "    let outputDiv = document.currentScript.previousElementSibling;\n",
              "    if (outputDiv.id !== \"altair-viz-261a70ad4bcd40c89d928811f5f76d64\") {\n",
              "      outputDiv = document.getElementById(\"altair-viz-261a70ad4bcd40c89d928811f5f76d64\");\n",
              "    }\n",
              "\n",
              "    const paths = {\n",
              "      \"vega\": \"https://cdn.jsdelivr.net/npm/vega@5?noext\",\n",
              "      \"vega-lib\": \"https://cdn.jsdelivr.net/npm/vega-lib?noext\",\n",
              "      \"vega-lite\": \"https://cdn.jsdelivr.net/npm/vega-lite@5.20.1?noext\",\n",
              "      \"vega-embed\": \"https://cdn.jsdelivr.net/npm/vega-embed@6?noext\",\n",
              "    };\n",
              "\n",
              "    function maybeLoadScript(lib, version) {\n",
              "      var key = `${lib.replace(\"-\", \"\")}_version`;\n",
              "      return (VEGA_DEBUG[key] == version) ?\n",
              "        Promise.resolve(paths[lib]) :\n",
              "        new Promise(function(resolve, reject) {\n",
              "          var s = document.createElement('script');\n",
              "          document.getElementsByTagName(\"head\")[0].appendChild(s);\n",
              "          s.async = true;\n",
              "          s.onload = () => {\n",
              "            VEGA_DEBUG[key] = version;\n",
              "            return resolve(paths[lib]);\n",
              "          };\n",
              "          s.onerror = () => reject(`Error loading script: ${paths[lib]}`);\n",
              "          s.src = paths[lib];\n",
              "        });\n",
              "    }\n",
              "\n",
              "    function showError(err) {\n",
              "      outputDiv.innerHTML = `<div class=\"error\" style=\"color:red;\">${err}</div>`;\n",
              "      throw err;\n",
              "    }\n",
              "\n",
              "    function displayChart(vegaEmbed) {\n",
              "      vegaEmbed(outputDiv, spec, embedOpt)\n",
              "        .catch(err => showError(`Javascript Error: ${err.message}<br>This usually means there's a typo in your chart specification. See the javascript console for the full traceback.`));\n",
              "    }\n",
              "\n",
              "    if(typeof define === \"function\" && define.amd) {\n",
              "      requirejs.config({paths});\n",
              "      let deps = [\"vega-embed\"];\n",
              "      require(deps, displayChart, err => showError(`Error loading script: ${err.message}`));\n",
              "    } else {\n",
              "      maybeLoadScript(\"vega\", \"5\")\n",
              "        .then(() => maybeLoadScript(\"vega-lite\", \"5.20.1\"))\n",
              "        .then(() => maybeLoadScript(\"vega-embed\", \"6\"))\n",
              "        .catch(showError)\n",
              "        .then(() => displayChart(vegaEmbed));\n",
              "    }\n",
              "  })({\"config\": {\"view\": {\"continuousWidth\": 300, \"continuousHeight\": 300}}, \"data\": {\"url\": \"https://cdn.jsdelivr.net/npm/vega-datasets@1/data/burtin.json\"}, \"mark\": {\"type\": \"circle\"}, \"encoding\": {\"x\": {\"field\": \"Neomycin\", \"type\": \"quantitative\"}}, \"$schema\": \"https://vega.github.io/schema/vega-lite/v5.20.1.json\"}, {\"mode\": \"vega-lite\"});\n",
              "</script>"
            ],
            "text/plain": [
              "alt.Chart(...)"
            ]
          },
          "execution_count": 4,
          "metadata": {},
          "output_type": "execute_result"
        }
      ],
      "source": [
        "alt.Chart(antibiotics).mark_circle().encode(\n",
        "    alt.X('Neomycin:Q')\n",
        ")"
      ]
    },
    {
      "cell_type": "markdown",
      "metadata": {
        "id": "eTBRtG7CWVVX"
      },
      "source": [
        "_Podemos ver que os valores MIC se distribuem da seguinte forma: a maioria se acumula à esquerda, com uns poucos outliers à direita._\n",
        "\n",
        "Por padrão, o Altair usa um mapeamento `linear` entre valores do domínio (MIC) e valores do intervalo (pixels). Para obter uma melhor visualização dos dados, podemos aplicar uma tranformação de escala diferente.\n",
        "\n"
      ]
    },
    {
      "cell_type": "markdown",
      "metadata": {
        "id": "-K94jPdi9xUJ"
      },
      "source": [
        "Para alterar o tipo de escala, definiremos o atributo `scale`, usando o método `alt.Scale` e o parâmetro `type`.\n",
        "\n",
        "Aqui está o resultado do uso de um tipo de escala de raiz quadrada (`sqrt`). As distâncias no intervalo de pixels agora correspondem à raiz quadrada das distâncias no domínio de dados."
      ]
    },
    {
      "cell_type": "code",
      "execution_count": null,
      "metadata": {
        "colab": {
          "base_uri": "https://localhost:8080/",
          "height": 87
        },
        "id": "QB5YNBMWLewL",
        "outputId": "45edabce-e14c-4e47-ee0e-838d03eaebb9"
      },
      "outputs": [
        {
          "data": {
            "text/html": [
              "\n",
              "<div id=\"altair-viz-8c6eef6a81aa4ff18eb8a15c4b52a63f\"></div>\n",
              "<script type=\"text/javascript\">\n",
              "  (function(spec, embedOpt){\n",
              "    let outputDiv = document.currentScript.previousElementSibling;\n",
              "    if (outputDiv.id !== \"altair-viz-8c6eef6a81aa4ff18eb8a15c4b52a63f\") {\n",
              "      outputDiv = document.getElementById(\"altair-viz-8c6eef6a81aa4ff18eb8a15c4b52a63f\");\n",
              "    }\n",
              "    const paths = {\n",
              "      \"vega\": \"https://cdn.jsdelivr.net/npm//vega@5?noext\",\n",
              "      \"vega-lib\": \"https://cdn.jsdelivr.net/npm//vega-lib?noext\",\n",
              "      \"vega-lite\": \"https://cdn.jsdelivr.net/npm//vega-lite@4.8.1?noext\",\n",
              "      \"vega-embed\": \"https://cdn.jsdelivr.net/npm//vega-embed@6?noext\",\n",
              "    };\n",
              "\n",
              "    function loadScript(lib) {\n",
              "      return new Promise(function(resolve, reject) {\n",
              "        var s = document.createElement('script');\n",
              "        s.src = paths[lib];\n",
              "        s.async = true;\n",
              "        s.onload = () => resolve(paths[lib]);\n",
              "        s.onerror = () => reject(`Error loading script: ${paths[lib]}`);\n",
              "        document.getElementsByTagName(\"head\")[0].appendChild(s);\n",
              "      });\n",
              "    }\n",
              "\n",
              "    function showError(err) {\n",
              "      outputDiv.innerHTML = `<div class=\"error\" style=\"color:red;\">${err}</div>`;\n",
              "      throw err;\n",
              "    }\n",
              "\n",
              "    function displayChart(vegaEmbed) {\n",
              "      vegaEmbed(outputDiv, spec, embedOpt)\n",
              "        .catch(err => showError(`Javascript Error: ${err.message}<br>This usually means there's a typo in your chart specification. See the javascript console for the full traceback.`));\n",
              "    }\n",
              "\n",
              "    if(typeof define === \"function\" && define.amd) {\n",
              "      requirejs.config({paths});\n",
              "      require([\"vega-embed\"], displayChart, err => showError(`Error loading script: ${err.message}`));\n",
              "    } else if (typeof vegaEmbed === \"function\") {\n",
              "      displayChart(vegaEmbed);\n",
              "    } else {\n",
              "      loadScript(\"vega\")\n",
              "        .then(() => loadScript(\"vega-lite\"))\n",
              "        .then(() => loadScript(\"vega-embed\"))\n",
              "        .catch(showError)\n",
              "        .then(() => displayChart(vegaEmbed));\n",
              "    }\n",
              "  })({\"config\": {\"view\": {\"continuousWidth\": 400, \"continuousHeight\": 300}}, \"data\": {\"url\": \"https://cdn.jsdelivr.net/npm/vega-datasets@1/data/burtin.json\"}, \"mark\": \"circle\", \"encoding\": {\"x\": {\"type\": \"quantitative\", \"field\": \"Neomycin\", \"scale\": {\"type\": \"sqrt\"}}}, \"$schema\": \"https://vega.github.io/schema/vega-lite/v4.8.1.json\"}, {\"mode\": \"vega-lite\"});\n",
              "</script>"
            ],
            "text/plain": [
              "alt.Chart(...)"
            ]
          },
          "execution_count": 5,
          "metadata": {},
          "output_type": "execute_result"
        }
      ],
      "source": [
        "alt.Chart(antibiotics).mark_circle().encode(\n",
        "    alt.X('Neomycin:Q',\n",
        "          scale=alt.Scale(type='sqrt'))\n",
        ")"
      ]
    },
    {
      "cell_type": "markdown",
      "metadata": {
        "id": "qqosAiy5XDKJ"
      },
      "source": [
        "_Os pontos à esquerda agora estão melhor diferenciados, mas ainda vemos algumas distorções acentuadas._\n",
        "\n",
        "Vamos tentar usar uma [escala logaritíma](https://en.wikipedia.org/wiki/Logarithmic_scale) (`log`):"
      ]
    },
    {
      "cell_type": "code",
      "execution_count": null,
      "metadata": {
        "colab": {
          "base_uri": "https://localhost:8080/",
          "height": 87
        },
        "id": "jGlWyOOMLoQ3",
        "outputId": "6e386312-0477-4f04-a845-f4c9f67a4ac0"
      },
      "outputs": [
        {
          "data": {
            "text/html": [
              "\n",
              "<div id=\"altair-viz-46bd2ac97d4e42a4b511179b2a14c15b\"></div>\n",
              "<script type=\"text/javascript\">\n",
              "  (function(spec, embedOpt){\n",
              "    let outputDiv = document.currentScript.previousElementSibling;\n",
              "    if (outputDiv.id !== \"altair-viz-46bd2ac97d4e42a4b511179b2a14c15b\") {\n",
              "      outputDiv = document.getElementById(\"altair-viz-46bd2ac97d4e42a4b511179b2a14c15b\");\n",
              "    }\n",
              "    const paths = {\n",
              "      \"vega\": \"https://cdn.jsdelivr.net/npm//vega@5?noext\",\n",
              "      \"vega-lib\": \"https://cdn.jsdelivr.net/npm//vega-lib?noext\",\n",
              "      \"vega-lite\": \"https://cdn.jsdelivr.net/npm//vega-lite@4.8.1?noext\",\n",
              "      \"vega-embed\": \"https://cdn.jsdelivr.net/npm//vega-embed@6?noext\",\n",
              "    };\n",
              "\n",
              "    function loadScript(lib) {\n",
              "      return new Promise(function(resolve, reject) {\n",
              "        var s = document.createElement('script');\n",
              "        s.src = paths[lib];\n",
              "        s.async = true;\n",
              "        s.onload = () => resolve(paths[lib]);\n",
              "        s.onerror = () => reject(`Error loading script: ${paths[lib]}`);\n",
              "        document.getElementsByTagName(\"head\")[0].appendChild(s);\n",
              "      });\n",
              "    }\n",
              "\n",
              "    function showError(err) {\n",
              "      outputDiv.innerHTML = `<div class=\"error\" style=\"color:red;\">${err}</div>`;\n",
              "      throw err;\n",
              "    }\n",
              "\n",
              "    function displayChart(vegaEmbed) {\n",
              "      vegaEmbed(outputDiv, spec, embedOpt)\n",
              "        .catch(err => showError(`Javascript Error: ${err.message}<br>This usually means there's a typo in your chart specification. See the javascript console for the full traceback.`));\n",
              "    }\n",
              "\n",
              "    if(typeof define === \"function\" && define.amd) {\n",
              "      requirejs.config({paths});\n",
              "      require([\"vega-embed\"], displayChart, err => showError(`Error loading script: ${err.message}`));\n",
              "    } else if (typeof vegaEmbed === \"function\") {\n",
              "      displayChart(vegaEmbed);\n",
              "    } else {\n",
              "      loadScript(\"vega\")\n",
              "        .then(() => loadScript(\"vega-lite\"))\n",
              "        .then(() => loadScript(\"vega-embed\"))\n",
              "        .catch(showError)\n",
              "        .then(() => displayChart(vegaEmbed));\n",
              "    }\n",
              "  })({\"config\": {\"view\": {\"continuousWidth\": 400, \"continuousHeight\": 300}}, \"data\": {\"url\": \"https://cdn.jsdelivr.net/npm/vega-datasets@1/data/burtin.json\"}, \"mark\": \"circle\", \"encoding\": {\"x\": {\"type\": \"quantitative\", \"field\": \"Neomycin\", \"scale\": {\"type\": \"log\"}}}, \"$schema\": \"https://vega.github.io/schema/vega-lite/v4.8.1.json\"}, {\"mode\": \"vega-lite\"});\n",
              "</script>"
            ],
            "text/plain": [
              "alt.Chart(...)"
            ]
          },
          "execution_count": 6,
          "metadata": {},
          "output_type": "execute_result"
        }
      ],
      "source": [
        "alt.Chart(antibiotics).mark_circle().encode(\n",
        "    alt.X('Neomycin:Q',\n",
        "          scale=alt.Scale(type='log'))\n",
        ")"
      ]
    },
    {
      "cell_type": "markdown",
      "metadata": {
        "id": "MapiFW7hXMOG"
      },
      "source": [
        "_Agora os dados estão distribuídos de maneira muito mais uniforme e podemos ver as grandes diferenças nas concentrações necessárias para diferentes bactérias._\n",
        "\n",
        "Em uma escala linear padrão, uma distância visual (pixel) de 10 unidades pode corresponder a uma *adição* de 10 unidades no domínio de dados. Uma transformação logarítmica mapeia entre multiplicação e adição, tal que `log(u) + log(v) = log(u*v)`. Como resultado, em uma escala logarítmica, uma distância visual de 10 unidades corresponde à *multiplicação* por 10 unidades no domínio de dados, assumindo um logaritmo de base 10. A escala `log` acima usa como padrão o logaritmo de base 10, mas podemos ajustar isso fornecendo um parâmetro `base` para a escala.\n"
      ]
    },
    {
      "cell_type": "markdown",
      "metadata": {
        "id": "P3u_mJgLeJGt"
      },
      "source": [
        "### Estilizando um Eixo\n",
        "\n",
        "Dosagens mais baixas indicam maior eficácia. No entanto, algumas pessoas podem esperar que valores “melhores” estejam “para cima e para a direita” em um gráfico. Se quisermos atender a esta convenção, podemos inverter o eixo para codificar “eficácia” como uma escala MIC invertida.\n",
        "\n",
        "Para fazer isso, podemos definir a propriedade de codificação `sort` como `'descending'`:"
      ]
    },
    {
      "cell_type": "code",
      "execution_count": null,
      "metadata": {
        "colab": {
          "base_uri": "https://localhost:8080/",
          "height": 87
        },
        "id": "4gNdIiP7Lu8_",
        "outputId": "d11f184f-9040-444b-b478-5e63cae4102a"
      },
      "outputs": [
        {
          "data": {
            "text/html": [
              "\n",
              "<div id=\"altair-viz-34071e52f7394672a9063cd0829d8c39\"></div>\n",
              "<script type=\"text/javascript\">\n",
              "  (function(spec, embedOpt){\n",
              "    let outputDiv = document.currentScript.previousElementSibling;\n",
              "    if (outputDiv.id !== \"altair-viz-34071e52f7394672a9063cd0829d8c39\") {\n",
              "      outputDiv = document.getElementById(\"altair-viz-34071e52f7394672a9063cd0829d8c39\");\n",
              "    }\n",
              "    const paths = {\n",
              "      \"vega\": \"https://cdn.jsdelivr.net/npm//vega@5?noext\",\n",
              "      \"vega-lib\": \"https://cdn.jsdelivr.net/npm//vega-lib?noext\",\n",
              "      \"vega-lite\": \"https://cdn.jsdelivr.net/npm//vega-lite@4.8.1?noext\",\n",
              "      \"vega-embed\": \"https://cdn.jsdelivr.net/npm//vega-embed@6?noext\",\n",
              "    };\n",
              "\n",
              "    function loadScript(lib) {\n",
              "      return new Promise(function(resolve, reject) {\n",
              "        var s = document.createElement('script');\n",
              "        s.src = paths[lib];\n",
              "        s.async = true;\n",
              "        s.onload = () => resolve(paths[lib]);\n",
              "        s.onerror = () => reject(`Error loading script: ${paths[lib]}`);\n",
              "        document.getElementsByTagName(\"head\")[0].appendChild(s);\n",
              "      });\n",
              "    }\n",
              "\n",
              "    function showError(err) {\n",
              "      outputDiv.innerHTML = `<div class=\"error\" style=\"color:red;\">${err}</div>`;\n",
              "      throw err;\n",
              "    }\n",
              "\n",
              "    function displayChart(vegaEmbed) {\n",
              "      vegaEmbed(outputDiv, spec, embedOpt)\n",
              "        .catch(err => showError(`Javascript Error: ${err.message}<br>This usually means there's a typo in your chart specification. See the javascript console for the full traceback.`));\n",
              "    }\n",
              "\n",
              "    if(typeof define === \"function\" && define.amd) {\n",
              "      requirejs.config({paths});\n",
              "      require([\"vega-embed\"], displayChart, err => showError(`Error loading script: ${err.message}`));\n",
              "    } else if (typeof vegaEmbed === \"function\") {\n",
              "      displayChart(vegaEmbed);\n",
              "    } else {\n",
              "      loadScript(\"vega\")\n",
              "        .then(() => loadScript(\"vega-lite\"))\n",
              "        .then(() => loadScript(\"vega-embed\"))\n",
              "        .catch(showError)\n",
              "        .then(() => displayChart(vegaEmbed));\n",
              "    }\n",
              "  })({\"config\": {\"view\": {\"continuousWidth\": 400, \"continuousHeight\": 300}}, \"data\": {\"url\": \"https://cdn.jsdelivr.net/npm/vega-datasets@1/data/burtin.json\"}, \"mark\": \"circle\", \"encoding\": {\"x\": {\"type\": \"quantitative\", \"field\": \"Neomycin\", \"scale\": {\"type\": \"log\"}, \"sort\": \"descending\"}}, \"$schema\": \"https://vega.github.io/schema/vega-lite/v4.8.1.json\"}, {\"mode\": \"vega-lite\"});\n",
              "</script>"
            ],
            "text/plain": [
              "alt.Chart(...)"
            ]
          },
          "execution_count": 7,
          "metadata": {},
          "output_type": "execute_result"
        }
      ],
      "source": [
        "alt.Chart(antibiotics).mark_circle().encode(\n",
        "    alt.X('Neomycin:Q',\n",
        "          sort='descending',\n",
        "          scale=alt.Scale(type='log'))\n",
        ")"
      ]
    },
    {
      "cell_type": "markdown",
      "metadata": {
        "id": "Wp2lmW6SXxcQ"
      },
      "source": [
        "_Infelizmente o eixo está começando a ficar um pouco confuso: estamos plotando dados em escala logarítmica, no sentido inverso, e sem uma indicação clara de quais são nossas unidades!_\n",
        "\n",
        "Vamos adicionar um título de eixo mais informativo: usaremos a propriedade `title` da codificação para fornecer o texto do título desejado:"
      ]
    },
    {
      "cell_type": "code",
      "execution_count": null,
      "metadata": {
        "colab": {
          "base_uri": "https://localhost:8080/",
          "height": 87
        },
        "id": "aP8fcU36L4iB",
        "outputId": "936f1956-ae09-492e-897d-027093205576"
      },
      "outputs": [
        {
          "data": {
            "text/html": [
              "\n",
              "<div id=\"altair-viz-a75664d0338f4917a99aec5c8441da6d\"></div>\n",
              "<script type=\"text/javascript\">\n",
              "  (function(spec, embedOpt){\n",
              "    let outputDiv = document.currentScript.previousElementSibling;\n",
              "    if (outputDiv.id !== \"altair-viz-a75664d0338f4917a99aec5c8441da6d\") {\n",
              "      outputDiv = document.getElementById(\"altair-viz-a75664d0338f4917a99aec5c8441da6d\");\n",
              "    }\n",
              "    const paths = {\n",
              "      \"vega\": \"https://cdn.jsdelivr.net/npm//vega@5?noext\",\n",
              "      \"vega-lib\": \"https://cdn.jsdelivr.net/npm//vega-lib?noext\",\n",
              "      \"vega-lite\": \"https://cdn.jsdelivr.net/npm//vega-lite@4.8.1?noext\",\n",
              "      \"vega-embed\": \"https://cdn.jsdelivr.net/npm//vega-embed@6?noext\",\n",
              "    };\n",
              "\n",
              "    function loadScript(lib) {\n",
              "      return new Promise(function(resolve, reject) {\n",
              "        var s = document.createElement('script');\n",
              "        s.src = paths[lib];\n",
              "        s.async = true;\n",
              "        s.onload = () => resolve(paths[lib]);\n",
              "        s.onerror = () => reject(`Error loading script: ${paths[lib]}`);\n",
              "        document.getElementsByTagName(\"head\")[0].appendChild(s);\n",
              "      });\n",
              "    }\n",
              "\n",
              "    function showError(err) {\n",
              "      outputDiv.innerHTML = `<div class=\"error\" style=\"color:red;\">${err}</div>`;\n",
              "      throw err;\n",
              "    }\n",
              "\n",
              "    function displayChart(vegaEmbed) {\n",
              "      vegaEmbed(outputDiv, spec, embedOpt)\n",
              "        .catch(err => showError(`Javascript Error: ${err.message}<br>This usually means there's a typo in your chart specification. See the javascript console for the full traceback.`));\n",
              "    }\n",
              "\n",
              "    if(typeof define === \"function\" && define.amd) {\n",
              "      requirejs.config({paths});\n",
              "      require([\"vega-embed\"], displayChart, err => showError(`Error loading script: ${err.message}`));\n",
              "    } else if (typeof vegaEmbed === \"function\") {\n",
              "      displayChart(vegaEmbed);\n",
              "    } else {\n",
              "      loadScript(\"vega\")\n",
              "        .then(() => loadScript(\"vega-lite\"))\n",
              "        .then(() => loadScript(\"vega-embed\"))\n",
              "        .catch(showError)\n",
              "        .then(() => displayChart(vegaEmbed));\n",
              "    }\n",
              "  })({\"config\": {\"view\": {\"continuousWidth\": 400, \"continuousHeight\": 300}}, \"data\": {\"url\": \"https://cdn.jsdelivr.net/npm/vega-datasets@1/data/burtin.json\"}, \"mark\": \"circle\", \"encoding\": {\"x\": {\"type\": \"quantitative\", \"field\": \"Neomycin\", \"scale\": {\"type\": \"log\"}, \"sort\": \"descending\", \"title\": \"Neomycin MIC (\\u03bcg/ml, reverse log scale)\"}}, \"$schema\": \"https://vega.github.io/schema/vega-lite/v4.8.1.json\"}, {\"mode\": \"vega-lite\"});\n",
              "</script>"
            ],
            "text/plain": [
              "alt.Chart(...)"
            ]
          },
          "execution_count": 8,
          "metadata": {},
          "output_type": "execute_result"
        }
      ],
      "source": [
        "alt.Chart(antibiotics).mark_circle().encode(\n",
        "    alt.X('Neomycin:Q',\n",
        "          sort='descending',\n",
        "          scale=alt.Scale(type='log'),\n",
        "          title='Neomycin MIC (μg/ml, reverse log scale)')\n",
        ")"
      ]
    },
    {
      "cell_type": "markdown",
      "metadata": {
        "id": "9tpvPMM3YT2H"
      },
      "source": [
        "Muito melhor!\n",
        "\n",
        "Por padrão, Altair coloca o eixo x na parte inferior do gráfico. Para alterar esses padrões, podemos adicionar um atributo `axis` com `orient='top'`:"
      ]
    },
    {
      "cell_type": "code",
      "execution_count": null,
      "metadata": {
        "colab": {
          "base_uri": "https://localhost:8080/",
          "height": 87
        },
        "id": "GMR7Tg4n-Vgu",
        "outputId": "053818a8-0e6c-4a7c-cb15-a0441406096b"
      },
      "outputs": [
        {
          "data": {
            "text/html": [
              "\n",
              "<div id=\"altair-viz-50725c1545994c61923e8f74f9ba06b6\"></div>\n",
              "<script type=\"text/javascript\">\n",
              "  (function(spec, embedOpt){\n",
              "    let outputDiv = document.currentScript.previousElementSibling;\n",
              "    if (outputDiv.id !== \"altair-viz-50725c1545994c61923e8f74f9ba06b6\") {\n",
              "      outputDiv = document.getElementById(\"altair-viz-50725c1545994c61923e8f74f9ba06b6\");\n",
              "    }\n",
              "    const paths = {\n",
              "      \"vega\": \"https://cdn.jsdelivr.net/npm//vega@5?noext\",\n",
              "      \"vega-lib\": \"https://cdn.jsdelivr.net/npm//vega-lib?noext\",\n",
              "      \"vega-lite\": \"https://cdn.jsdelivr.net/npm//vega-lite@4.8.1?noext\",\n",
              "      \"vega-embed\": \"https://cdn.jsdelivr.net/npm//vega-embed@6?noext\",\n",
              "    };\n",
              "\n",
              "    function loadScript(lib) {\n",
              "      return new Promise(function(resolve, reject) {\n",
              "        var s = document.createElement('script');\n",
              "        s.src = paths[lib];\n",
              "        s.async = true;\n",
              "        s.onload = () => resolve(paths[lib]);\n",
              "        s.onerror = () => reject(`Error loading script: ${paths[lib]}`);\n",
              "        document.getElementsByTagName(\"head\")[0].appendChild(s);\n",
              "      });\n",
              "    }\n",
              "\n",
              "    function showError(err) {\n",
              "      outputDiv.innerHTML = `<div class=\"error\" style=\"color:red;\">${err}</div>`;\n",
              "      throw err;\n",
              "    }\n",
              "\n",
              "    function displayChart(vegaEmbed) {\n",
              "      vegaEmbed(outputDiv, spec, embedOpt)\n",
              "        .catch(err => showError(`Javascript Error: ${err.message}<br>This usually means there's a typo in your chart specification. See the javascript console for the full traceback.`));\n",
              "    }\n",
              "\n",
              "    if(typeof define === \"function\" && define.amd) {\n",
              "      requirejs.config({paths});\n",
              "      require([\"vega-embed\"], displayChart, err => showError(`Error loading script: ${err.message}`));\n",
              "    } else if (typeof vegaEmbed === \"function\") {\n",
              "      displayChart(vegaEmbed);\n",
              "    } else {\n",
              "      loadScript(\"vega\")\n",
              "        .then(() => loadScript(\"vega-lite\"))\n",
              "        .then(() => loadScript(\"vega-embed\"))\n",
              "        .catch(showError)\n",
              "        .then(() => displayChart(vegaEmbed));\n",
              "    }\n",
              "  })({\"config\": {\"view\": {\"continuousWidth\": 400, \"continuousHeight\": 300}}, \"data\": {\"url\": \"https://cdn.jsdelivr.net/npm/vega-datasets@1/data/burtin.json\"}, \"mark\": \"circle\", \"encoding\": {\"x\": {\"type\": \"quantitative\", \"axis\": {\"orient\": \"top\"}, \"field\": \"Neomycin\", \"scale\": {\"type\": \"log\"}, \"sort\": \"descending\", \"title\": \"Neomycin MIC (\\u03bcg/ml, reverse log scale)\"}}, \"$schema\": \"https://vega.github.io/schema/vega-lite/v4.8.1.json\"}, {\"mode\": \"vega-lite\"});\n",
              "</script>"
            ],
            "text/plain": [
              "alt.Chart(...)"
            ]
          },
          "execution_count": 9,
          "metadata": {},
          "output_type": "execute_result"
        }
      ],
      "source": [
        "alt.Chart(antibiotics).mark_circle().encode(\n",
        "    alt.X('Neomycin:Q',\n",
        "          sort='descending',\n",
        "          scale=alt.Scale(type='log'),\n",
        "          axis=alt.Axis(orient='top'),\n",
        "          title='Neomycin MIC (μg/ml, reverse log scale)')\n",
        ")"
      ]
    },
    {
      "cell_type": "markdown",
      "metadata": {
        "id": "opQaDD-g-btc"
      },
      "source": [
        "Da mesma forma, o eixo y tem como padrão uma orientação `'esquerda'`, mas pode ser definido como `'direita'`."
      ]
    },
    {
      "cell_type": "markdown",
      "metadata": {
        "id": "l1WXNzJC9hxi"
      },
      "source": [
        "### Comparando antibióticos: Ajustando Linhas de Grade, Contagens de Marcações e Dimensionamento\n",
        "\n",
        "_Como a neomicina se compara a outros antibióticos, como estreptomicina e penicilina?_\n",
        "\n",
        "Para começar a responder a essa pergunta, podemos criar gráficos de dispersão (_scatter plots_ , adicionando uma codificação do eixo y para outro antibiótico que espelhe o design do nosso eixo x para a neomicina."
      ]
    },
    {
      "cell_type": "code",
      "execution_count": null,
      "metadata": {
        "colab": {
          "base_uri": "https://localhost:8080/",
          "height": 372
        },
        "id": "CjDce4pG_SXP",
        "outputId": "9459f0fb-088e-4e60-92f3-5f7992b3509d"
      },
      "outputs": [
        {
          "data": {
            "text/html": [
              "\n",
              "<div id=\"altair-viz-663da984e7c44796ab468adf97189e60\"></div>\n",
              "<script type=\"text/javascript\">\n",
              "  (function(spec, embedOpt){\n",
              "    let outputDiv = document.currentScript.previousElementSibling;\n",
              "    if (outputDiv.id !== \"altair-viz-663da984e7c44796ab468adf97189e60\") {\n",
              "      outputDiv = document.getElementById(\"altair-viz-663da984e7c44796ab468adf97189e60\");\n",
              "    }\n",
              "    const paths = {\n",
              "      \"vega\": \"https://cdn.jsdelivr.net/npm//vega@5?noext\",\n",
              "      \"vega-lib\": \"https://cdn.jsdelivr.net/npm//vega-lib?noext\",\n",
              "      \"vega-lite\": \"https://cdn.jsdelivr.net/npm//vega-lite@4.8.1?noext\",\n",
              "      \"vega-embed\": \"https://cdn.jsdelivr.net/npm//vega-embed@6?noext\",\n",
              "    };\n",
              "\n",
              "    function loadScript(lib) {\n",
              "      return new Promise(function(resolve, reject) {\n",
              "        var s = document.createElement('script');\n",
              "        s.src = paths[lib];\n",
              "        s.async = true;\n",
              "        s.onload = () => resolve(paths[lib]);\n",
              "        s.onerror = () => reject(`Error loading script: ${paths[lib]}`);\n",
              "        document.getElementsByTagName(\"head\")[0].appendChild(s);\n",
              "      });\n",
              "    }\n",
              "\n",
              "    function showError(err) {\n",
              "      outputDiv.innerHTML = `<div class=\"error\" style=\"color:red;\">${err}</div>`;\n",
              "      throw err;\n",
              "    }\n",
              "\n",
              "    function displayChart(vegaEmbed) {\n",
              "      vegaEmbed(outputDiv, spec, embedOpt)\n",
              "        .catch(err => showError(`Javascript Error: ${err.message}<br>This usually means there's a typo in your chart specification. See the javascript console for the full traceback.`));\n",
              "    }\n",
              "\n",
              "    if(typeof define === \"function\" && define.amd) {\n",
              "      requirejs.config({paths});\n",
              "      require([\"vega-embed\"], displayChart, err => showError(`Error loading script: ${err.message}`));\n",
              "    } else if (typeof vegaEmbed === \"function\") {\n",
              "      displayChart(vegaEmbed);\n",
              "    } else {\n",
              "      loadScript(\"vega\")\n",
              "        .then(() => loadScript(\"vega-lite\"))\n",
              "        .then(() => loadScript(\"vega-embed\"))\n",
              "        .catch(showError)\n",
              "        .then(() => displayChart(vegaEmbed));\n",
              "    }\n",
              "  })({\"config\": {\"view\": {\"continuousWidth\": 400, \"continuousHeight\": 300}}, \"data\": {\"url\": \"https://cdn.jsdelivr.net/npm/vega-datasets@1/data/burtin.json\"}, \"mark\": \"circle\", \"encoding\": {\"x\": {\"type\": \"quantitative\", \"field\": \"Neomycin\", \"scale\": {\"type\": \"log\"}, \"sort\": \"descending\", \"title\": \"Neomycin MIC (\\u03bcg/ml, reverse log scale)\"}, \"y\": {\"type\": \"quantitative\", \"field\": \"Streptomycin\", \"scale\": {\"type\": \"log\"}, \"sort\": \"descending\", \"title\": \"Streptomycin MIC (\\u03bcg/ml, reverse log scale)\"}}, \"$schema\": \"https://vega.github.io/schema/vega-lite/v4.8.1.json\"}, {\"mode\": \"vega-lite\"});\n",
              "</script>"
            ],
            "text/plain": [
              "alt.Chart(...)"
            ]
          },
          "execution_count": 10,
          "metadata": {},
          "output_type": "execute_result"
        }
      ],
      "source": [
        "alt.Chart(antibiotics).mark_circle().encode(\n",
        "    alt.X('Neomycin:Q',\n",
        "          sort='descending',\n",
        "          scale=alt.Scale(type='log'),\n",
        "          title='Neomycin MIC (μg/ml, reverse log scale)'),\n",
        "    alt.Y('Streptomycin:Q',\n",
        "          sort='descending',\n",
        "          scale=alt.Scale(type='log'),\n",
        "          title='Streptomycin MIC (μg/ml, reverse log scale)')\n",
        ")"
      ]
    },
    {
      "cell_type": "markdown",
      "metadata": {
        "id": "DnfjvOKo_VI2"
      },
      "source": [
        "_Podemos ver que a neomicina e a estreptomicina parecem altamente correlacionadas, pois as cepas bacterianas respondem de forma semelhante a ambos os antibióticos._\n",
        "\n",
        "Vamos continuar e comparar a neomicina com a penicilina:"
      ]
    },
    {
      "cell_type": "code",
      "execution_count": null,
      "metadata": {
        "colab": {
          "base_uri": "https://localhost:8080/",
          "height": 372
        },
        "id": "hqc6DFgvNHAT",
        "outputId": "6713ba6b-8879-43be-e7ed-4340974b2c20"
      },
      "outputs": [
        {
          "data": {
            "text/html": [
              "\n",
              "<div id=\"altair-viz-97bb4822cd924cfe893271edc259b4d5\"></div>\n",
              "<script type=\"text/javascript\">\n",
              "  (function(spec, embedOpt){\n",
              "    let outputDiv = document.currentScript.previousElementSibling;\n",
              "    if (outputDiv.id !== \"altair-viz-97bb4822cd924cfe893271edc259b4d5\") {\n",
              "      outputDiv = document.getElementById(\"altair-viz-97bb4822cd924cfe893271edc259b4d5\");\n",
              "    }\n",
              "    const paths = {\n",
              "      \"vega\": \"https://cdn.jsdelivr.net/npm//vega@5?noext\",\n",
              "      \"vega-lib\": \"https://cdn.jsdelivr.net/npm//vega-lib?noext\",\n",
              "      \"vega-lite\": \"https://cdn.jsdelivr.net/npm//vega-lite@4.8.1?noext\",\n",
              "      \"vega-embed\": \"https://cdn.jsdelivr.net/npm//vega-embed@6?noext\",\n",
              "    };\n",
              "\n",
              "    function loadScript(lib) {\n",
              "      return new Promise(function(resolve, reject) {\n",
              "        var s = document.createElement('script');\n",
              "        s.src = paths[lib];\n",
              "        s.async = true;\n",
              "        s.onload = () => resolve(paths[lib]);\n",
              "        s.onerror = () => reject(`Error loading script: ${paths[lib]}`);\n",
              "        document.getElementsByTagName(\"head\")[0].appendChild(s);\n",
              "      });\n",
              "    }\n",
              "\n",
              "    function showError(err) {\n",
              "      outputDiv.innerHTML = `<div class=\"error\" style=\"color:red;\">${err}</div>`;\n",
              "      throw err;\n",
              "    }\n",
              "\n",
              "    function displayChart(vegaEmbed) {\n",
              "      vegaEmbed(outputDiv, spec, embedOpt)\n",
              "        .catch(err => showError(`Javascript Error: ${err.message}<br>This usually means there's a typo in your chart specification. See the javascript console for the full traceback.`));\n",
              "    }\n",
              "\n",
              "    if(typeof define === \"function\" && define.amd) {\n",
              "      requirejs.config({paths});\n",
              "      require([\"vega-embed\"], displayChart, err => showError(`Error loading script: ${err.message}`));\n",
              "    } else if (typeof vegaEmbed === \"function\") {\n",
              "      displayChart(vegaEmbed);\n",
              "    } else {\n",
              "      loadScript(\"vega\")\n",
              "        .then(() => loadScript(\"vega-lite\"))\n",
              "        .then(() => loadScript(\"vega-embed\"))\n",
              "        .catch(showError)\n",
              "        .then(() => displayChart(vegaEmbed));\n",
              "    }\n",
              "  })({\"config\": {\"view\": {\"continuousWidth\": 400, \"continuousHeight\": 300}}, \"data\": {\"url\": \"https://cdn.jsdelivr.net/npm/vega-datasets@1/data/burtin.json\"}, \"mark\": \"circle\", \"encoding\": {\"x\": {\"type\": \"quantitative\", \"field\": \"Neomycin\", \"scale\": {\"type\": \"log\"}, \"sort\": \"descending\", \"title\": \"Neomycin MIC (\\u03bcg/ml, reverse log scale)\"}, \"y\": {\"type\": \"quantitative\", \"field\": \"Penicillin\", \"scale\": {\"type\": \"log\"}, \"sort\": \"descending\", \"title\": \"Penicillin MIC (\\u03bcg/ml, reverse log scale)\"}}, \"$schema\": \"https://vega.github.io/schema/vega-lite/v4.8.1.json\"}, {\"mode\": \"vega-lite\"});\n",
              "</script>"
            ],
            "text/plain": [
              "alt.Chart(...)"
            ]
          },
          "execution_count": 11,
          "metadata": {},
          "output_type": "execute_result"
        }
      ],
      "source": [
        "alt.Chart(antibiotics).mark_circle().encode(\n",
        "    alt.X('Neomycin:Q',\n",
        "          sort='descending',\n",
        "          scale=alt.Scale(type='log'),\n",
        "          title='Neomycin MIC (μg/ml, reverse log scale)'),\n",
        "    alt.Y('Penicillin:Q',\n",
        "          sort='descending',\n",
        "          scale=alt.Scale(type='log'),\n",
        "          title='Penicillin MIC (μg/ml, reverse log scale)')\n",
        ")"
      ]
    },
    {
      "cell_type": "markdown",
      "metadata": {
        "id": "fSdm-7VjYjij"
      },
      "source": [
        "_Agora vemos uma resposta mais diferenciada: algumas bactérias respondem bem à neomicina, mas não à penicilina, e vice-versa!_\n",
        "\n",
        "Embora esse gráfico seja útil, podemos melhorá-lo. Os eixos x e y usam as mesmas unidades, mas têm extensões diferentes (a largura do gráfico é maior que a altura) e domínios diferentes (0,001 a 100 para o eixo x e 0,001 a 1.000 para o eixo y).\n",
        "\n",
        "Vamos equalizar os eixos: podemos adicionar as configurações explícitas de comprimento e altura, `width` e `height`, do gráfico e especificar domínios correspondentes usando a propriedade `domain` de *scale*."
      ]
    },
    {
      "cell_type": "code",
      "execution_count": null,
      "metadata": {
        "colab": {
          "base_uri": "https://localhost:8080/",
          "height": 322
        },
        "id": "8HdsAzWBNVoB",
        "outputId": "2701bbff-a789-4eb0-f6bd-3f66565be916"
      },
      "outputs": [
        {
          "data": {
            "text/html": [
              "\n",
              "<div id=\"altair-viz-2cbd1be008ac42269d6ec8cad97d3026\"></div>\n",
              "<script type=\"text/javascript\">\n",
              "  (function(spec, embedOpt){\n",
              "    let outputDiv = document.currentScript.previousElementSibling;\n",
              "    if (outputDiv.id !== \"altair-viz-2cbd1be008ac42269d6ec8cad97d3026\") {\n",
              "      outputDiv = document.getElementById(\"altair-viz-2cbd1be008ac42269d6ec8cad97d3026\");\n",
              "    }\n",
              "    const paths = {\n",
              "      \"vega\": \"https://cdn.jsdelivr.net/npm//vega@5?noext\",\n",
              "      \"vega-lib\": \"https://cdn.jsdelivr.net/npm//vega-lib?noext\",\n",
              "      \"vega-lite\": \"https://cdn.jsdelivr.net/npm//vega-lite@4.8.1?noext\",\n",
              "      \"vega-embed\": \"https://cdn.jsdelivr.net/npm//vega-embed@6?noext\",\n",
              "    };\n",
              "\n",
              "    function loadScript(lib) {\n",
              "      return new Promise(function(resolve, reject) {\n",
              "        var s = document.createElement('script');\n",
              "        s.src = paths[lib];\n",
              "        s.async = true;\n",
              "        s.onload = () => resolve(paths[lib]);\n",
              "        s.onerror = () => reject(`Error loading script: ${paths[lib]}`);\n",
              "        document.getElementsByTagName(\"head\")[0].appendChild(s);\n",
              "      });\n",
              "    }\n",
              "\n",
              "    function showError(err) {\n",
              "      outputDiv.innerHTML = `<div class=\"error\" style=\"color:red;\">${err}</div>`;\n",
              "      throw err;\n",
              "    }\n",
              "\n",
              "    function displayChart(vegaEmbed) {\n",
              "      vegaEmbed(outputDiv, spec, embedOpt)\n",
              "        .catch(err => showError(`Javascript Error: ${err.message}<br>This usually means there's a typo in your chart specification. See the javascript console for the full traceback.`));\n",
              "    }\n",
              "\n",
              "    if(typeof define === \"function\" && define.amd) {\n",
              "      requirejs.config({paths});\n",
              "      require([\"vega-embed\"], displayChart, err => showError(`Error loading script: ${err.message}`));\n",
              "    } else if (typeof vegaEmbed === \"function\") {\n",
              "      displayChart(vegaEmbed);\n",
              "    } else {\n",
              "      loadScript(\"vega\")\n",
              "        .then(() => loadScript(\"vega-lite\"))\n",
              "        .then(() => loadScript(\"vega-embed\"))\n",
              "        .catch(showError)\n",
              "        .then(() => displayChart(vegaEmbed));\n",
              "    }\n",
              "  })({\"config\": {\"view\": {\"continuousWidth\": 400, \"continuousHeight\": 300}}, \"data\": {\"url\": \"https://cdn.jsdelivr.net/npm/vega-datasets@1/data/burtin.json\"}, \"mark\": \"circle\", \"encoding\": {\"x\": {\"type\": \"quantitative\", \"field\": \"Neomycin\", \"scale\": {\"domain\": [0.001, 1000], \"type\": \"log\"}, \"sort\": \"descending\", \"title\": \"Neomycin MIC (\\u03bcg/ml, reverse log scale)\"}, \"y\": {\"type\": \"quantitative\", \"field\": \"Penicillin\", \"scale\": {\"domain\": [0.001, 1000], \"type\": \"log\"}, \"sort\": \"descending\", \"title\": \"Penicillin MIC (\\u03bcg/ml, reverse log scale)\"}}, \"height\": 250, \"width\": 250, \"$schema\": \"https://vega.github.io/schema/vega-lite/v4.8.1.json\"}, {\"mode\": \"vega-lite\"});\n",
              "</script>"
            ],
            "text/plain": [
              "alt.Chart(...)"
            ]
          },
          "execution_count": 12,
          "metadata": {},
          "output_type": "execute_result"
        }
      ],
      "source": [
        "alt.Chart(antibiotics).mark_circle().encode(\n",
        "    alt.X('Neomycin:Q',\n",
        "          sort='descending',\n",
        "          scale=alt.Scale(type='log', domain=[0.001, 1000]),\n",
        "          title='Neomycin MIC (μg/ml, reverse log scale)'),\n",
        "    alt.Y('Penicillin:Q',\n",
        "          sort='descending',\n",
        "          scale=alt.Scale(type='log', domain=[0.001, 1000]),\n",
        "          title='Penicillin MIC (μg/ml, reverse log scale)')\n",
        ").properties(width=250, height=250)"
      ]
    },
    {
      "cell_type": "markdown",
      "metadata": {
        "id": "oknzZZ-lZYaH"
      },
      "source": [
        "_O gráfico resultante é mais equilibrado e menos propenso a interpretações errôneas sutis!_\n",
        "\n",
        "No entanto, as linhas de grade agora são bem densas. Se quisermos remover as linhas de grade completamente, podemos adicionar `grid=False` ao atributo do eixo, o `axis`. Mas e se, em vez disso, quisermos reduzir o número de marcas de escala, por exemplo, incluindo apenas linhas de grade para cada ordem de magnitude?\n",
        "\n",
        "Para alterar o número de marcações, podemos especificar a propriedade `tickCount` desejada para o objeto `Axis`. O `tickCount` é tratado como uma sugestão para o Altair, levando em conta outros fatores, como a utilização de intervalos agradáveis e intuitivos para humanos. Pode ser que não obtenhamos exatamente o número de marcações solicitado, mas o resultado será algo próximo."
      ]
    },
    {
      "cell_type": "code",
      "execution_count": null,
      "metadata": {
        "colab": {
          "base_uri": "https://localhost:8080/",
          "height": 322
        },
        "id": "v4Awwd_kN_bf",
        "outputId": "b047adfe-6491-44f4-d84b-8e22836ad923"
      },
      "outputs": [
        {
          "data": {
            "text/html": [
              "\n",
              "<div id=\"altair-viz-bd5d6ea0e78e4220814bdf81e7d7dec3\"></div>\n",
              "<script type=\"text/javascript\">\n",
              "  (function(spec, embedOpt){\n",
              "    let outputDiv = document.currentScript.previousElementSibling;\n",
              "    if (outputDiv.id !== \"altair-viz-bd5d6ea0e78e4220814bdf81e7d7dec3\") {\n",
              "      outputDiv = document.getElementById(\"altair-viz-bd5d6ea0e78e4220814bdf81e7d7dec3\");\n",
              "    }\n",
              "    const paths = {\n",
              "      \"vega\": \"https://cdn.jsdelivr.net/npm//vega@5?noext\",\n",
              "      \"vega-lib\": \"https://cdn.jsdelivr.net/npm//vega-lib?noext\",\n",
              "      \"vega-lite\": \"https://cdn.jsdelivr.net/npm//vega-lite@4.8.1?noext\",\n",
              "      \"vega-embed\": \"https://cdn.jsdelivr.net/npm//vega-embed@6?noext\",\n",
              "    };\n",
              "\n",
              "    function loadScript(lib) {\n",
              "      return new Promise(function(resolve, reject) {\n",
              "        var s = document.createElement('script');\n",
              "        s.src = paths[lib];\n",
              "        s.async = true;\n",
              "        s.onload = () => resolve(paths[lib]);\n",
              "        s.onerror = () => reject(`Error loading script: ${paths[lib]}`);\n",
              "        document.getElementsByTagName(\"head\")[0].appendChild(s);\n",
              "      });\n",
              "    }\n",
              "\n",
              "    function showError(err) {\n",
              "      outputDiv.innerHTML = `<div class=\"error\" style=\"color:red;\">${err}</div>`;\n",
              "      throw err;\n",
              "    }\n",
              "\n",
              "    function displayChart(vegaEmbed) {\n",
              "      vegaEmbed(outputDiv, spec, embedOpt)\n",
              "        .catch(err => showError(`Javascript Error: ${err.message}<br>This usually means there's a typo in your chart specification. See the javascript console for the full traceback.`));\n",
              "    }\n",
              "\n",
              "    if(typeof define === \"function\" && define.amd) {\n",
              "      requirejs.config({paths});\n",
              "      require([\"vega-embed\"], displayChart, err => showError(`Error loading script: ${err.message}`));\n",
              "    } else if (typeof vegaEmbed === \"function\") {\n",
              "      displayChart(vegaEmbed);\n",
              "    } else {\n",
              "      loadScript(\"vega\")\n",
              "        .then(() => loadScript(\"vega-lite\"))\n",
              "        .then(() => loadScript(\"vega-embed\"))\n",
              "        .catch(showError)\n",
              "        .then(() => displayChart(vegaEmbed));\n",
              "    }\n",
              "  })({\"config\": {\"view\": {\"continuousWidth\": 400, \"continuousHeight\": 300}}, \"data\": {\"url\": \"https://cdn.jsdelivr.net/npm/vega-datasets@1/data/burtin.json\"}, \"mark\": \"circle\", \"encoding\": {\"x\": {\"type\": \"quantitative\", \"axis\": {\"tickCount\": 5}, \"field\": \"Neomycin\", \"scale\": {\"domain\": [0.001, 1000], \"type\": \"log\"}, \"sort\": \"descending\", \"title\": \"Neomycin MIC (\\u03bcg/ml, reverse log scale)\"}, \"y\": {\"type\": \"quantitative\", \"axis\": {\"tickCount\": 5}, \"field\": \"Penicillin\", \"scale\": {\"domain\": [0.001, 1000], \"type\": \"log\"}, \"sort\": \"descending\", \"title\": \"Penicillin MIC (\\u03bcg/ml, reverse log scale)\"}}, \"height\": 250, \"width\": 250, \"$schema\": \"https://vega.github.io/schema/vega-lite/v4.8.1.json\"}, {\"mode\": \"vega-lite\"});\n",
              "</script>"
            ],
            "text/plain": [
              "alt.Chart(...)"
            ]
          },
          "execution_count": 13,
          "metadata": {},
          "output_type": "execute_result"
        }
      ],
      "source": [
        "alt.Chart(antibiotics).mark_circle().encode(\n",
        "    alt.X('Neomycin:Q',\n",
        "          sort='descending',\n",
        "          scale=alt.Scale(type='log', domain=[0.001, 1000]),\n",
        "          axis=alt.Axis(tickCount=5),\n",
        "          title='Neomycin MIC (μg/ml, reverse log scale)'),\n",
        "    alt.Y('Penicillin:Q',\n",
        "          sort='descending',\n",
        "          scale=alt.Scale(type='log', domain=[0.001, 1000]),\n",
        "          axis=alt.Axis(tickCount=5),\n",
        "          title='Penicillin MIC (μg/ml, reverse log scale)')\n",
        ").properties(width=250, height=250)"
      ]
    },
    {
      "cell_type": "markdown",
      "metadata": {
        "id": "upaCzdH7aIvu"
      },
      "source": [
        "Ao definir o valor do `tickCount` como 5, obtemos o efeito desejado.\n",
        "\n",
        "Nossos pontos do gráfico de dispersão (_scatter plot_) parecem um pouco pequenos. Vamos alterar o tamanho padrão definindo a propriedade `size` da marca do círculo. Esse valor de tamanho é a área da marca em pixels."
      ]
    },
    {
      "cell_type": "code",
      "execution_count": null,
      "metadata": {
        "colab": {
          "base_uri": "https://localhost:8080/",
          "height": 322
        },
        "id": "aERDKc0KOhco",
        "outputId": "e3257bc3-40aa-4539-edea-a923c0329675"
      },
      "outputs": [
        {
          "data": {
            "text/html": [
              "\n",
              "<div id=\"altair-viz-d14b8b7e58924fca92933ade03f30edb\"></div>\n",
              "<script type=\"text/javascript\">\n",
              "  (function(spec, embedOpt){\n",
              "    let outputDiv = document.currentScript.previousElementSibling;\n",
              "    if (outputDiv.id !== \"altair-viz-d14b8b7e58924fca92933ade03f30edb\") {\n",
              "      outputDiv = document.getElementById(\"altair-viz-d14b8b7e58924fca92933ade03f30edb\");\n",
              "    }\n",
              "    const paths = {\n",
              "      \"vega\": \"https://cdn.jsdelivr.net/npm//vega@5?noext\",\n",
              "      \"vega-lib\": \"https://cdn.jsdelivr.net/npm//vega-lib?noext\",\n",
              "      \"vega-lite\": \"https://cdn.jsdelivr.net/npm//vega-lite@4.8.1?noext\",\n",
              "      \"vega-embed\": \"https://cdn.jsdelivr.net/npm//vega-embed@6?noext\",\n",
              "    };\n",
              "\n",
              "    function loadScript(lib) {\n",
              "      return new Promise(function(resolve, reject) {\n",
              "        var s = document.createElement('script');\n",
              "        s.src = paths[lib];\n",
              "        s.async = true;\n",
              "        s.onload = () => resolve(paths[lib]);\n",
              "        s.onerror = () => reject(`Error loading script: ${paths[lib]}`);\n",
              "        document.getElementsByTagName(\"head\")[0].appendChild(s);\n",
              "      });\n",
              "    }\n",
              "\n",
              "    function showError(err) {\n",
              "      outputDiv.innerHTML = `<div class=\"error\" style=\"color:red;\">${err}</div>`;\n",
              "      throw err;\n",
              "    }\n",
              "\n",
              "    function displayChart(vegaEmbed) {\n",
              "      vegaEmbed(outputDiv, spec, embedOpt)\n",
              "        .catch(err => showError(`Javascript Error: ${err.message}<br>This usually means there's a typo in your chart specification. See the javascript console for the full traceback.`));\n",
              "    }\n",
              "\n",
              "    if(typeof define === \"function\" && define.amd) {\n",
              "      requirejs.config({paths});\n",
              "      require([\"vega-embed\"], displayChart, err => showError(`Error loading script: ${err.message}`));\n",
              "    } else if (typeof vegaEmbed === \"function\") {\n",
              "      displayChart(vegaEmbed);\n",
              "    } else {\n",
              "      loadScript(\"vega\")\n",
              "        .then(() => loadScript(\"vega-lite\"))\n",
              "        .then(() => loadScript(\"vega-embed\"))\n",
              "        .catch(showError)\n",
              "        .then(() => displayChart(vegaEmbed));\n",
              "    }\n",
              "  })({\"config\": {\"view\": {\"continuousWidth\": 400, \"continuousHeight\": 300}}, \"data\": {\"url\": \"https://cdn.jsdelivr.net/npm/vega-datasets@1/data/burtin.json\"}, \"mark\": {\"type\": \"circle\", \"size\": 80}, \"encoding\": {\"x\": {\"type\": \"quantitative\", \"axis\": {\"tickCount\": 5}, \"field\": \"Neomycin\", \"scale\": {\"domain\": [0.001, 1000], \"type\": \"log\"}, \"sort\": \"descending\", \"title\": \"Neomycin MIC (\\u03bcg/ml, reverse log scale)\"}, \"y\": {\"type\": \"quantitative\", \"axis\": {\"tickCount\": 5}, \"field\": \"Penicillin\", \"scale\": {\"domain\": [0.001, 1000], \"type\": \"log\"}, \"sort\": \"descending\", \"title\": \"Penicillin MIC (\\u03bcg/ml, reverse log scale)\"}}, \"height\": 250, \"width\": 250, \"$schema\": \"https://vega.github.io/schema/vega-lite/v4.8.1.json\"}, {\"mode\": \"vega-lite\"});\n",
              "</script>"
            ],
            "text/plain": [
              "alt.Chart(...)"
            ]
          },
          "execution_count": 14,
          "metadata": {},
          "output_type": "execute_result"
        }
      ],
      "source": [
        "alt.Chart(antibiotics).mark_circle(size=80).encode(\n",
        "    alt.X('Neomycin:Q',\n",
        "          sort='descending',\n",
        "          scale=alt.Scale(type='log', domain=[0.001, 1000]),\n",
        "          axis=alt.Axis(tickCount=5),\n",
        "          title='Neomycin MIC (μg/ml, reverse log scale)'),\n",
        "    alt.Y('Penicillin:Q',\n",
        "          sort='descending',\n",
        "          scale=alt.Scale(type='log', domain=[0.001, 1000]),\n",
        "          axis=alt.Axis(tickCount=5),\n",
        "          title='Penicillin MIC (μg/ml, reverse log scale)'),\n",
        ").properties(width=250, height=250)"
      ]
    },
    {
      "cell_type": "markdown",
      "metadata": {
        "id": "I-0rEs3lapPh"
      },
      "source": [
        "Aqui, definimos a área de marcação do círculo para 80 pixels. `Ajuste ainda mais o valor como achar melhor!`"
      ]
    },
    {
      "cell_type": "markdown",
      "metadata": {
        "id": "AJ8dwejXO9cc"
      },
      "source": [
        "## Configurando as Cores da Legendas\n",
        "---"
      ]
    },
    {
      "cell_type": "markdown",
      "metadata": {
        "id": "obwIbbZa_KNd"
      },
      "source": [
        "### Definindo as Cores pela Coloração de Gram\n",
        "\n",
        "_Acima vimos que a neomicina é mais eficaz para algumas bactérias, enquanto a penicilina é mais eficaz para outras. Mas como podemos dizer qual antibiótico usar se não conhecemos as espécies específicas de bactérias? A coloração de Gram serve como um diagnóstico para discriminar classes de bactérias!_\n",
        "\n",
        "Vamos codificar `Gram_Staining` no canal `color` como um tipo de dado nominal:"
      ]
    },
    {
      "cell_type": "code",
      "execution_count": null,
      "metadata": {
        "colab": {
          "base_uri": "https://localhost:8080/",
          "height": 322
        },
        "id": "pkSc_PXyAuGg",
        "outputId": "01446cfb-f968-4dfb-c695-4372f55bd5f1"
      },
      "outputs": [
        {
          "data": {
            "text/html": [
              "\n",
              "<div id=\"altair-viz-e6511d5da0784519aa6f3f66334045ff\"></div>\n",
              "<script type=\"text/javascript\">\n",
              "  (function(spec, embedOpt){\n",
              "    let outputDiv = document.currentScript.previousElementSibling;\n",
              "    if (outputDiv.id !== \"altair-viz-e6511d5da0784519aa6f3f66334045ff\") {\n",
              "      outputDiv = document.getElementById(\"altair-viz-e6511d5da0784519aa6f3f66334045ff\");\n",
              "    }\n",
              "    const paths = {\n",
              "      \"vega\": \"https://cdn.jsdelivr.net/npm//vega@5?noext\",\n",
              "      \"vega-lib\": \"https://cdn.jsdelivr.net/npm//vega-lib?noext\",\n",
              "      \"vega-lite\": \"https://cdn.jsdelivr.net/npm//vega-lite@4.8.1?noext\",\n",
              "      \"vega-embed\": \"https://cdn.jsdelivr.net/npm//vega-embed@6?noext\",\n",
              "    };\n",
              "\n",
              "    function loadScript(lib) {\n",
              "      return new Promise(function(resolve, reject) {\n",
              "        var s = document.createElement('script');\n",
              "        s.src = paths[lib];\n",
              "        s.async = true;\n",
              "        s.onload = () => resolve(paths[lib]);\n",
              "        s.onerror = () => reject(`Error loading script: ${paths[lib]}`);\n",
              "        document.getElementsByTagName(\"head\")[0].appendChild(s);\n",
              "      });\n",
              "    }\n",
              "\n",
              "    function showError(err) {\n",
              "      outputDiv.innerHTML = `<div class=\"error\" style=\"color:red;\">${err}</div>`;\n",
              "      throw err;\n",
              "    }\n",
              "\n",
              "    function displayChart(vegaEmbed) {\n",
              "      vegaEmbed(outputDiv, spec, embedOpt)\n",
              "        .catch(err => showError(`Javascript Error: ${err.message}<br>This usually means there's a typo in your chart specification. See the javascript console for the full traceback.`));\n",
              "    }\n",
              "\n",
              "    if(typeof define === \"function\" && define.amd) {\n",
              "      requirejs.config({paths});\n",
              "      require([\"vega-embed\"], displayChart, err => showError(`Error loading script: ${err.message}`));\n",
              "    } else if (typeof vegaEmbed === \"function\") {\n",
              "      displayChart(vegaEmbed);\n",
              "    } else {\n",
              "      loadScript(\"vega\")\n",
              "        .then(() => loadScript(\"vega-lite\"))\n",
              "        .then(() => loadScript(\"vega-embed\"))\n",
              "        .catch(showError)\n",
              "        .then(() => displayChart(vegaEmbed));\n",
              "    }\n",
              "  })({\"config\": {\"view\": {\"continuousWidth\": 400, \"continuousHeight\": 300}}, \"data\": {\"url\": \"https://cdn.jsdelivr.net/npm/vega-datasets@1/data/burtin.json\"}, \"mark\": {\"type\": \"circle\", \"size\": 80}, \"encoding\": {\"color\": {\"type\": \"nominal\", \"field\": \"Gram_Staining\"}, \"x\": {\"type\": \"quantitative\", \"axis\": {\"tickCount\": 5}, \"field\": \"Neomycin\", \"scale\": {\"domain\": [0.001, 1000], \"type\": \"log\"}, \"sort\": \"descending\", \"title\": \"Neomycin MIC (\\u03bcg/ml, reverse log scale)\"}, \"y\": {\"type\": \"quantitative\", \"axis\": {\"tickCount\": 5}, \"field\": \"Penicillin\", \"scale\": {\"domain\": [0.001, 1000], \"type\": \"log\"}, \"sort\": \"descending\", \"title\": \"Penicillin MIC (\\u03bcg/ml, reverse log scale)\"}}, \"height\": 250, \"width\": 250, \"$schema\": \"https://vega.github.io/schema/vega-lite/v4.8.1.json\"}, {\"mode\": \"vega-lite\"});\n",
              "</script>"
            ],
            "text/plain": [
              "alt.Chart(...)"
            ]
          },
          "execution_count": 15,
          "metadata": {},
          "output_type": "execute_result"
        }
      ],
      "source": [
        "alt.Chart(antibiotics).mark_circle(size=80).encode(\n",
        "    alt.X('Neomycin:Q',\n",
        "          sort='descending',\n",
        "          scale=alt.Scale(type='log', domain=[0.001, 1000]),\n",
        "          axis=alt.Axis(tickCount=5),\n",
        "          title='Neomycin MIC (μg/ml, reverse log scale)'),\n",
        "    alt.Y('Penicillin:Q',\n",
        "          sort='descending',\n",
        "          scale=alt.Scale(type='log', domain=[0.001, 1000]),\n",
        "          axis=alt.Axis(tickCount=5),\n",
        "          title='Penicillin MIC (μg/ml, reverse log scale)'),\n",
        "    alt.Color('Gram_Staining:N')\n",
        ").properties(width=250, height=250)"
      ]
    },
    {
      "cell_type": "markdown",
      "metadata": {
        "id": "a1Ec7fCUBQJn"
      },
      "source": [
        "_Podemos ver que as bactérias Gram-positivas parecem mais suscetíveis à penicilina, enquanto a neomicina é mais eficaz para bactérias Gram-negativas!_\n",
        "\n",
        "O esquema de cores acima foi escolhido automaticamente para fornecer cores perceptualmente distinguíveis para comparações nominais (iguais ou não). No entanto, podemos desejar personalizar as cores usadas. Neste caso, a coloração de Gram resulta em [colorações físicas distintas: rosa para Gram-negativo, roxo para Gram-positivo](https://cdn.kastatic.org/ka-perseus-images/4406e3cad301fa00abc08d17bf600a5bf0d481f5.png).\n",
        "\n",
        "Vamos usar essas cores especificando um mapeamento de escala explícito do domínio dos dados, o `domain`, para a gama de cores, o `range`:"
      ]
    },
    {
      "cell_type": "code",
      "execution_count": null,
      "metadata": {
        "colab": {
          "base_uri": "https://localhost:8080/",
          "height": 322
        },
        "id": "XA4UUWriCEox",
        "outputId": "f2ada6d0-d969-4927-a268-6f842c1b65ad"
      },
      "outputs": [
        {
          "data": {
            "text/html": [
              "\n",
              "<div id=\"altair-viz-b9b5ab500e594bef921b97af38ab46fe\"></div>\n",
              "<script type=\"text/javascript\">\n",
              "  (function(spec, embedOpt){\n",
              "    let outputDiv = document.currentScript.previousElementSibling;\n",
              "    if (outputDiv.id !== \"altair-viz-b9b5ab500e594bef921b97af38ab46fe\") {\n",
              "      outputDiv = document.getElementById(\"altair-viz-b9b5ab500e594bef921b97af38ab46fe\");\n",
              "    }\n",
              "    const paths = {\n",
              "      \"vega\": \"https://cdn.jsdelivr.net/npm//vega@5?noext\",\n",
              "      \"vega-lib\": \"https://cdn.jsdelivr.net/npm//vega-lib?noext\",\n",
              "      \"vega-lite\": \"https://cdn.jsdelivr.net/npm//vega-lite@4.8.1?noext\",\n",
              "      \"vega-embed\": \"https://cdn.jsdelivr.net/npm//vega-embed@6?noext\",\n",
              "    };\n",
              "\n",
              "    function loadScript(lib) {\n",
              "      return new Promise(function(resolve, reject) {\n",
              "        var s = document.createElement('script');\n",
              "        s.src = paths[lib];\n",
              "        s.async = true;\n",
              "        s.onload = () => resolve(paths[lib]);\n",
              "        s.onerror = () => reject(`Error loading script: ${paths[lib]}`);\n",
              "        document.getElementsByTagName(\"head\")[0].appendChild(s);\n",
              "      });\n",
              "    }\n",
              "\n",
              "    function showError(err) {\n",
              "      outputDiv.innerHTML = `<div class=\"error\" style=\"color:red;\">${err}</div>`;\n",
              "      throw err;\n",
              "    }\n",
              "\n",
              "    function displayChart(vegaEmbed) {\n",
              "      vegaEmbed(outputDiv, spec, embedOpt)\n",
              "        .catch(err => showError(`Javascript Error: ${err.message}<br>This usually means there's a typo in your chart specification. See the javascript console for the full traceback.`));\n",
              "    }\n",
              "\n",
              "    if(typeof define === \"function\" && define.amd) {\n",
              "      requirejs.config({paths});\n",
              "      require([\"vega-embed\"], displayChart, err => showError(`Error loading script: ${err.message}`));\n",
              "    } else if (typeof vegaEmbed === \"function\") {\n",
              "      displayChart(vegaEmbed);\n",
              "    } else {\n",
              "      loadScript(\"vega\")\n",
              "        .then(() => loadScript(\"vega-lite\"))\n",
              "        .then(() => loadScript(\"vega-embed\"))\n",
              "        .catch(showError)\n",
              "        .then(() => displayChart(vegaEmbed));\n",
              "    }\n",
              "  })({\"config\": {\"view\": {\"continuousWidth\": 400, \"continuousHeight\": 300}}, \"data\": {\"url\": \"https://cdn.jsdelivr.net/npm/vega-datasets@1/data/burtin.json\"}, \"mark\": {\"type\": \"circle\", \"size\": 80}, \"encoding\": {\"color\": {\"type\": \"nominal\", \"field\": \"Gram_Staining\", \"scale\": {\"domain\": [\"negative\", \"positive\"], \"range\": [\"hotpink\", \"purple\"]}}, \"x\": {\"type\": \"quantitative\", \"axis\": {\"tickCount\": 5}, \"field\": \"Neomycin\", \"scale\": {\"domain\": [0.001, 1000], \"type\": \"log\"}, \"sort\": \"descending\", \"title\": \"Neomycin MIC (\\u03bcg/ml, reverse log scale)\"}, \"y\": {\"type\": \"quantitative\", \"axis\": {\"tickCount\": 5}, \"field\": \"Penicillin\", \"scale\": {\"domain\": [0.001, 1000], \"type\": \"log\"}, \"sort\": \"descending\", \"title\": \"Penicillin MIC (\\u03bcg/ml, reverse log scale)\"}}, \"height\": 250, \"width\": 250, \"$schema\": \"https://vega.github.io/schema/vega-lite/v4.8.1.json\"}, {\"mode\": \"vega-lite\"});\n",
              "</script>"
            ],
            "text/plain": [
              "alt.Chart(...)"
            ]
          },
          "execution_count": 16,
          "metadata": {},
          "output_type": "execute_result"
        }
      ],
      "source": [
        "alt.Chart(antibiotics).mark_circle(size=80).encode(\n",
        "    alt.X('Neomycin:Q',\n",
        "          sort='descending',\n",
        "          scale=alt.Scale(type='log', domain=[0.001, 1000]),\n",
        "          axis=alt.Axis(tickCount=5),\n",
        "          title='Neomycin MIC (μg/ml, reverse log scale)'),\n",
        "    alt.Y('Penicillin:Q',\n",
        "          sort='descending',\n",
        "          scale=alt.Scale(type='log', domain=[0.001, 1000]),\n",
        "          axis=alt.Axis(tickCount=5),\n",
        "          title='Penicillin MIC (μg/ml, reverse log scale)'),\n",
        "    alt.Color('Gram_Staining:N',\n",
        "          scale=alt.Scale(domain=['negative', 'positive'], range=['hotpink', 'purple'])\n",
        "    )\n",
        ").properties(width=250, height=250)"
      ]
    },
    {
      "cell_type": "markdown",
      "metadata": {
        "id": "cfgvdp8cBHmZ"
      },
      "source": [
        "Por padrão, as legendas são colocadas no lado direito do gráfico. Semelhante aos eixos, podemos alterar a orientação da legenda usando o parâmetro `orient`:"
      ]
    },
    {
      "cell_type": "code",
      "execution_count": null,
      "metadata": {
        "colab": {
          "base_uri": "https://localhost:8080/",
          "height": 322
        },
        "id": "wlb7-9SNBUdZ",
        "outputId": "32b3e78c-7860-4ef4-850f-9af24cb58edd"
      },
      "outputs": [
        {
          "data": {
            "text/html": [
              "\n",
              "<div id=\"altair-viz-926618f4eb8a46119cafb645829470a5\"></div>\n",
              "<script type=\"text/javascript\">\n",
              "  (function(spec, embedOpt){\n",
              "    let outputDiv = document.currentScript.previousElementSibling;\n",
              "    if (outputDiv.id !== \"altair-viz-926618f4eb8a46119cafb645829470a5\") {\n",
              "      outputDiv = document.getElementById(\"altair-viz-926618f4eb8a46119cafb645829470a5\");\n",
              "    }\n",
              "    const paths = {\n",
              "      \"vega\": \"https://cdn.jsdelivr.net/npm//vega@5?noext\",\n",
              "      \"vega-lib\": \"https://cdn.jsdelivr.net/npm//vega-lib?noext\",\n",
              "      \"vega-lite\": \"https://cdn.jsdelivr.net/npm//vega-lite@4.8.1?noext\",\n",
              "      \"vega-embed\": \"https://cdn.jsdelivr.net/npm//vega-embed@6?noext\",\n",
              "    };\n",
              "\n",
              "    function loadScript(lib) {\n",
              "      return new Promise(function(resolve, reject) {\n",
              "        var s = document.createElement('script');\n",
              "        s.src = paths[lib];\n",
              "        s.async = true;\n",
              "        s.onload = () => resolve(paths[lib]);\n",
              "        s.onerror = () => reject(`Error loading script: ${paths[lib]}`);\n",
              "        document.getElementsByTagName(\"head\")[0].appendChild(s);\n",
              "      });\n",
              "    }\n",
              "\n",
              "    function showError(err) {\n",
              "      outputDiv.innerHTML = `<div class=\"error\" style=\"color:red;\">${err}</div>`;\n",
              "      throw err;\n",
              "    }\n",
              "\n",
              "    function displayChart(vegaEmbed) {\n",
              "      vegaEmbed(outputDiv, spec, embedOpt)\n",
              "        .catch(err => showError(`Javascript Error: ${err.message}<br>This usually means there's a typo in your chart specification. See the javascript console for the full traceback.`));\n",
              "    }\n",
              "\n",
              "    if(typeof define === \"function\" && define.amd) {\n",
              "      requirejs.config({paths});\n",
              "      require([\"vega-embed\"], displayChart, err => showError(`Error loading script: ${err.message}`));\n",
              "    } else if (typeof vegaEmbed === \"function\") {\n",
              "      displayChart(vegaEmbed);\n",
              "    } else {\n",
              "      loadScript(\"vega\")\n",
              "        .then(() => loadScript(\"vega-lite\"))\n",
              "        .then(() => loadScript(\"vega-embed\"))\n",
              "        .catch(showError)\n",
              "        .then(() => displayChart(vegaEmbed));\n",
              "    }\n",
              "  })({\"config\": {\"view\": {\"continuousWidth\": 400, \"continuousHeight\": 300}}, \"data\": {\"url\": \"https://cdn.jsdelivr.net/npm/vega-datasets@1/data/burtin.json\"}, \"mark\": {\"type\": \"circle\", \"size\": 80}, \"encoding\": {\"color\": {\"type\": \"nominal\", \"field\": \"Gram_Staining\", \"legend\": {\"orient\": \"left\"}, \"scale\": {\"domain\": [\"negative\", \"positive\"], \"range\": [\"hotpink\", \"purple\"]}}, \"x\": {\"type\": \"quantitative\", \"axis\": {\"tickCount\": 5}, \"field\": \"Neomycin\", \"scale\": {\"domain\": [0.001, 1000], \"type\": \"log\"}, \"sort\": \"descending\", \"title\": \"Neomycin MIC (\\u03bcg/ml, reverse log scale)\"}, \"y\": {\"type\": \"quantitative\", \"axis\": {\"tickCount\": 5}, \"field\": \"Penicillin\", \"scale\": {\"domain\": [0.001, 1000], \"type\": \"log\"}, \"sort\": \"descending\", \"title\": \"Penicillin MIC (\\u03bcg/ml, reverse log scale)\"}}, \"height\": 250, \"width\": 250, \"$schema\": \"https://vega.github.io/schema/vega-lite/v4.8.1.json\"}, {\"mode\": \"vega-lite\"});\n",
              "</script>"
            ],
            "text/plain": [
              "alt.Chart(...)"
            ]
          },
          "execution_count": 17,
          "metadata": {},
          "output_type": "execute_result"
        }
      ],
      "source": [
        "alt.Chart(antibiotics).mark_circle(size=80).encode(\n",
        "    alt.X('Neomycin:Q',\n",
        "          sort='descending',\n",
        "          scale=alt.Scale(type='log', domain=[0.001, 1000]),\n",
        "          axis=alt.Axis(tickCount=5),\n",
        "          title='Neomycin MIC (μg/ml, reverse log scale)'),\n",
        "    alt.Y('Penicillin:Q',\n",
        "          sort='descending',\n",
        "          scale=alt.Scale(type='log', domain=[0.001, 1000]),\n",
        "          axis=alt.Axis(tickCount=5),\n",
        "          title='Penicillin MIC (μg/ml, reverse log scale)'),\n",
        "    alt.Color('Gram_Staining:N',\n",
        "          scale=alt.Scale(domain=['negative', 'positive'], range=['hotpink', 'purple']),\n",
        "          legend=alt.Legend(orient='left')\n",
        "    )\n",
        ").properties(width=250, height=250)"
      ]
    },
    {
      "cell_type": "markdown",
      "metadata": {
        "id": "nwoOrGb6BtrF"
      },
      "source": [
        "Nós também podemos remover uma legenda completamente especificando `legend=None`:"
      ]
    },
    {
      "cell_type": "code",
      "execution_count": null,
      "metadata": {
        "colab": {
          "base_uri": "https://localhost:8080/",
          "height": 322
        },
        "id": "YEcweSOABxss",
        "outputId": "a6e539ce-1b2c-4b6f-c504-edbeb659b5d4"
      },
      "outputs": [
        {
          "data": {
            "text/html": [
              "\n",
              "<div id=\"altair-viz-669b9e11bcc44cb6b7594d2818573cb9\"></div>\n",
              "<script type=\"text/javascript\">\n",
              "  (function(spec, embedOpt){\n",
              "    let outputDiv = document.currentScript.previousElementSibling;\n",
              "    if (outputDiv.id !== \"altair-viz-669b9e11bcc44cb6b7594d2818573cb9\") {\n",
              "      outputDiv = document.getElementById(\"altair-viz-669b9e11bcc44cb6b7594d2818573cb9\");\n",
              "    }\n",
              "    const paths = {\n",
              "      \"vega\": \"https://cdn.jsdelivr.net/npm//vega@5?noext\",\n",
              "      \"vega-lib\": \"https://cdn.jsdelivr.net/npm//vega-lib?noext\",\n",
              "      \"vega-lite\": \"https://cdn.jsdelivr.net/npm//vega-lite@4.8.1?noext\",\n",
              "      \"vega-embed\": \"https://cdn.jsdelivr.net/npm//vega-embed@6?noext\",\n",
              "    };\n",
              "\n",
              "    function loadScript(lib) {\n",
              "      return new Promise(function(resolve, reject) {\n",
              "        var s = document.createElement('script');\n",
              "        s.src = paths[lib];\n",
              "        s.async = true;\n",
              "        s.onload = () => resolve(paths[lib]);\n",
              "        s.onerror = () => reject(`Error loading script: ${paths[lib]}`);\n",
              "        document.getElementsByTagName(\"head\")[0].appendChild(s);\n",
              "      });\n",
              "    }\n",
              "\n",
              "    function showError(err) {\n",
              "      outputDiv.innerHTML = `<div class=\"error\" style=\"color:red;\">${err}</div>`;\n",
              "      throw err;\n",
              "    }\n",
              "\n",
              "    function displayChart(vegaEmbed) {\n",
              "      vegaEmbed(outputDiv, spec, embedOpt)\n",
              "        .catch(err => showError(`Javascript Error: ${err.message}<br>This usually means there's a typo in your chart specification. See the javascript console for the full traceback.`));\n",
              "    }\n",
              "\n",
              "    if(typeof define === \"function\" && define.amd) {\n",
              "      requirejs.config({paths});\n",
              "      require([\"vega-embed\"], displayChart, err => showError(`Error loading script: ${err.message}`));\n",
              "    } else if (typeof vegaEmbed === \"function\") {\n",
              "      displayChart(vegaEmbed);\n",
              "    } else {\n",
              "      loadScript(\"vega\")\n",
              "        .then(() => loadScript(\"vega-lite\"))\n",
              "        .then(() => loadScript(\"vega-embed\"))\n",
              "        .catch(showError)\n",
              "        .then(() => displayChart(vegaEmbed));\n",
              "    }\n",
              "  })({\"config\": {\"view\": {\"continuousWidth\": 400, \"continuousHeight\": 300}}, \"data\": {\"url\": \"https://cdn.jsdelivr.net/npm/vega-datasets@1/data/burtin.json\"}, \"mark\": {\"type\": \"circle\", \"size\": 80}, \"encoding\": {\"color\": {\"type\": \"nominal\", \"field\": \"Gram_Staining\", \"legend\": null, \"scale\": {\"domain\": [\"negative\", \"positive\"], \"range\": [\"hotpink\", \"purple\"]}}, \"x\": {\"type\": \"quantitative\", \"axis\": {\"tickCount\": 5}, \"field\": \"Neomycin\", \"scale\": {\"domain\": [0.001, 1000], \"type\": \"log\"}, \"sort\": \"descending\", \"title\": \"Neomycin MIC (\\u03bcg/ml, reverse log scale)\"}, \"y\": {\"type\": \"quantitative\", \"axis\": {\"tickCount\": 5}, \"field\": \"Penicillin\", \"scale\": {\"domain\": [0.001, 1000], \"type\": \"log\"}, \"sort\": \"descending\", \"title\": \"Penicillin MIC (\\u03bcg/ml, reverse log scale)\"}}, \"height\": 250, \"width\": 250, \"$schema\": \"https://vega.github.io/schema/vega-lite/v4.8.1.json\"}, {\"mode\": \"vega-lite\"});\n",
              "</script>"
            ],
            "text/plain": [
              "alt.Chart(...)"
            ]
          },
          "execution_count": 18,
          "metadata": {},
          "output_type": "execute_result"
        }
      ],
      "source": [
        "alt.Chart(antibiotics).mark_circle(size=80).encode(\n",
        "    alt.X('Neomycin:Q',\n",
        "          sort='descending',\n",
        "          scale=alt.Scale(type='log', domain=[0.001, 1000]),\n",
        "          axis=alt.Axis(tickCount=5),\n",
        "          title='Neomycin MIC (μg/ml, reverse log scale)'),\n",
        "    alt.Y('Penicillin:Q',\n",
        "          sort='descending',\n",
        "          scale=alt.Scale(type='log', domain=[0.001, 1000]),\n",
        "          axis=alt.Axis(tickCount=5),\n",
        "          title='Penicillin MIC (μg/ml, reverse log scale)'),\n",
        "    alt.Color('Gram_Staining:N',\n",
        "          scale=alt.Scale(domain=['negative', 'positive'], range=['hotpink', 'purple']),\n",
        "          legend=None\n",
        "    )\n",
        ").properties(width=250, height=250)"
      ]
    },
    {
      "cell_type": "markdown",
      "metadata": {
        "id": "M64uVeFHDIlT"
      },
      "source": [
        "### Cor por Espécie\n",
        "\n",
        "Até aqui nós consideramos a efetividade dos antibióticos. Vamos mudar de direção e fazer uma pergunta diferente: o que a resposta do antibiótico nos ensina sobre as diferentes espécies de bactéria?\n",
        "\n",
        "Para começar, vamos codificar `Bacteria` (um campo de dados nominal) usando o canal `color` (cor):"
      ]
    },
    {
      "cell_type": "code",
      "execution_count": null,
      "metadata": {
        "colab": {
          "base_uri": "https://localhost:8080/",
          "height": 322
        },
        "id": "di1mU7ynOq0u",
        "outputId": "4d7a1300-79ea-429c-9a6a-4de170eabddf"
      },
      "outputs": [
        {
          "data": {
            "text/html": [
              "\n",
              "<div id=\"altair-viz-41e401c229584b32818ca4974bd7d73f\"></div>\n",
              "<script type=\"text/javascript\">\n",
              "  (function(spec, embedOpt){\n",
              "    let outputDiv = document.currentScript.previousElementSibling;\n",
              "    if (outputDiv.id !== \"altair-viz-41e401c229584b32818ca4974bd7d73f\") {\n",
              "      outputDiv = document.getElementById(\"altair-viz-41e401c229584b32818ca4974bd7d73f\");\n",
              "    }\n",
              "    const paths = {\n",
              "      \"vega\": \"https://cdn.jsdelivr.net/npm//vega@5?noext\",\n",
              "      \"vega-lib\": \"https://cdn.jsdelivr.net/npm//vega-lib?noext\",\n",
              "      \"vega-lite\": \"https://cdn.jsdelivr.net/npm//vega-lite@4.8.1?noext\",\n",
              "      \"vega-embed\": \"https://cdn.jsdelivr.net/npm//vega-embed@6?noext\",\n",
              "    };\n",
              "\n",
              "    function loadScript(lib) {\n",
              "      return new Promise(function(resolve, reject) {\n",
              "        var s = document.createElement('script');\n",
              "        s.src = paths[lib];\n",
              "        s.async = true;\n",
              "        s.onload = () => resolve(paths[lib]);\n",
              "        s.onerror = () => reject(`Error loading script: ${paths[lib]}`);\n",
              "        document.getElementsByTagName(\"head\")[0].appendChild(s);\n",
              "      });\n",
              "    }\n",
              "\n",
              "    function showError(err) {\n",
              "      outputDiv.innerHTML = `<div class=\"error\" style=\"color:red;\">${err}</div>`;\n",
              "      throw err;\n",
              "    }\n",
              "\n",
              "    function displayChart(vegaEmbed) {\n",
              "      vegaEmbed(outputDiv, spec, embedOpt)\n",
              "        .catch(err => showError(`Javascript Error: ${err.message}<br>This usually means there's a typo in your chart specification. See the javascript console for the full traceback.`));\n",
              "    }\n",
              "\n",
              "    if(typeof define === \"function\" && define.amd) {\n",
              "      requirejs.config({paths});\n",
              "      require([\"vega-embed\"], displayChart, err => showError(`Error loading script: ${err.message}`));\n",
              "    } else if (typeof vegaEmbed === \"function\") {\n",
              "      displayChart(vegaEmbed);\n",
              "    } else {\n",
              "      loadScript(\"vega\")\n",
              "        .then(() => loadScript(\"vega-lite\"))\n",
              "        .then(() => loadScript(\"vega-embed\"))\n",
              "        .catch(showError)\n",
              "        .then(() => displayChart(vegaEmbed));\n",
              "    }\n",
              "  })({\"config\": {\"view\": {\"continuousWidth\": 400, \"continuousHeight\": 300}}, \"data\": {\"url\": \"https://cdn.jsdelivr.net/npm/vega-datasets@1/data/burtin.json\"}, \"mark\": {\"type\": \"circle\", \"size\": 80}, \"encoding\": {\"color\": {\"type\": \"nominal\", \"field\": \"Bacteria\"}, \"x\": {\"type\": \"quantitative\", \"axis\": {\"tickCount\": 5}, \"field\": \"Neomycin\", \"scale\": {\"domain\": [0.001, 1000], \"type\": \"log\"}, \"sort\": \"descending\", \"title\": \"Neomycin MIC (\\u03bcg/ml, reverse log scale)\"}, \"y\": {\"type\": \"quantitative\", \"axis\": {\"tickCount\": 5}, \"field\": \"Penicillin\", \"scale\": {\"domain\": [0.001, 1000], \"type\": \"log\"}, \"sort\": \"descending\", \"title\": \"Penicillin MIC (\\u03bcg/ml, reverse log scale)\"}}, \"height\": 250, \"width\": 250, \"$schema\": \"https://vega.github.io/schema/vega-lite/v4.8.1.json\"}, {\"mode\": \"vega-lite\"});\n",
              "</script>"
            ],
            "text/plain": [
              "alt.Chart(...)"
            ]
          },
          "execution_count": 19,
          "metadata": {},
          "output_type": "execute_result"
        }
      ],
      "source": [
        "alt.Chart(antibiotics).mark_circle(size=80).encode(\n",
        "    alt.X('Neomycin:Q',\n",
        "          sort='descending',\n",
        "          scale=alt.Scale(type='log', domain=[0.001, 1000]),\n",
        "          axis=alt.Axis(tickCount=5),\n",
        "          title='Neomycin MIC (μg/ml, reverse log scale)'),\n",
        "    alt.Y('Penicillin:Q',\n",
        "          sort='descending',\n",
        "          scale=alt.Scale(type='log', domain=[0.001, 1000]),\n",
        "          axis=alt.Axis(tickCount=5),\n",
        "          title='Penicillin MIC (μg/ml, reverse log scale)'),\n",
        "    alt.Color('Bacteria:N')\n",
        ").properties(width=250, height=250)"
      ]
    },
    {
      "cell_type": "markdown",
      "metadata": {
        "id": "8Z02YhSRa6aw"
      },
      "source": [
        "*O resultado está um pouco bagunçado!* Há espécies de bacteria o bastante para que o Altair comece a repetir as cores da sua paleta padrão de 10 cores para variáveis nominais.\n",
        "\n",
        "Para usar cores personalizadas, nós podemos atualizar a codificação de cor da propriedade `scale` (escala). Uma opção é determinar explicitamente a escala dos valores `domain` (domínio) e `range` (intervalo) para indicar os mapeamentos exatos de cor por valor, como fizemos acima para a coloração de Gram. Uma outra opção é usar um esquema de cor alternativa. Está incluso no Altair uma variedade de esquemas integrados de cor. Para a lista completa, veja a [documentação do esquema de cores do Vega](https://vega.github.io/vega/docs/schemes/#reference).\n",
        "\n",
        "Vamos tentar mudar paara um esquema integrado de 20 cores, `tableau20`, e defina isso usando a propriedade de escala do `scheme`."
      ]
    },
    {
      "cell_type": "code",
      "execution_count": null,
      "metadata": {
        "colab": {
          "base_uri": "https://localhost:8080/",
          "height": 322
        },
        "id": "wkt58FGQPCU2",
        "outputId": "365fc89f-4ab4-47aa-fe40-70f175c2c58d"
      },
      "outputs": [
        {
          "data": {
            "text/html": [
              "\n",
              "<div id=\"altair-viz-1909c97e588e4b269d06d48a8391a954\"></div>\n",
              "<script type=\"text/javascript\">\n",
              "  (function(spec, embedOpt){\n",
              "    let outputDiv = document.currentScript.previousElementSibling;\n",
              "    if (outputDiv.id !== \"altair-viz-1909c97e588e4b269d06d48a8391a954\") {\n",
              "      outputDiv = document.getElementById(\"altair-viz-1909c97e588e4b269d06d48a8391a954\");\n",
              "    }\n",
              "    const paths = {\n",
              "      \"vega\": \"https://cdn.jsdelivr.net/npm//vega@5?noext\",\n",
              "      \"vega-lib\": \"https://cdn.jsdelivr.net/npm//vega-lib?noext\",\n",
              "      \"vega-lite\": \"https://cdn.jsdelivr.net/npm//vega-lite@4.8.1?noext\",\n",
              "      \"vega-embed\": \"https://cdn.jsdelivr.net/npm//vega-embed@6?noext\",\n",
              "    };\n",
              "\n",
              "    function loadScript(lib) {\n",
              "      return new Promise(function(resolve, reject) {\n",
              "        var s = document.createElement('script');\n",
              "        s.src = paths[lib];\n",
              "        s.async = true;\n",
              "        s.onload = () => resolve(paths[lib]);\n",
              "        s.onerror = () => reject(`Error loading script: ${paths[lib]}`);\n",
              "        document.getElementsByTagName(\"head\")[0].appendChild(s);\n",
              "      });\n",
              "    }\n",
              "\n",
              "    function showError(err) {\n",
              "      outputDiv.innerHTML = `<div class=\"error\" style=\"color:red;\">${err}</div>`;\n",
              "      throw err;\n",
              "    }\n",
              "\n",
              "    function displayChart(vegaEmbed) {\n",
              "      vegaEmbed(outputDiv, spec, embedOpt)\n",
              "        .catch(err => showError(`Javascript Error: ${err.message}<br>This usually means there's a typo in your chart specification. See the javascript console for the full traceback.`));\n",
              "    }\n",
              "\n",
              "    if(typeof define === \"function\" && define.amd) {\n",
              "      requirejs.config({paths});\n",
              "      require([\"vega-embed\"], displayChart, err => showError(`Error loading script: ${err.message}`));\n",
              "    } else if (typeof vegaEmbed === \"function\") {\n",
              "      displayChart(vegaEmbed);\n",
              "    } else {\n",
              "      loadScript(\"vega\")\n",
              "        .then(() => loadScript(\"vega-lite\"))\n",
              "        .then(() => loadScript(\"vega-embed\"))\n",
              "        .catch(showError)\n",
              "        .then(() => displayChart(vegaEmbed));\n",
              "    }\n",
              "  })({\"config\": {\"view\": {\"continuousWidth\": 400, \"continuousHeight\": 300}}, \"data\": {\"url\": \"https://cdn.jsdelivr.net/npm/vega-datasets@1/data/burtin.json\"}, \"mark\": {\"type\": \"circle\", \"size\": 80}, \"encoding\": {\"color\": {\"type\": \"nominal\", \"field\": \"Bacteria\", \"scale\": {\"scheme\": \"tableau20\"}}, \"x\": {\"type\": \"quantitative\", \"axis\": {\"tickCount\": 5}, \"field\": \"Neomycin\", \"scale\": {\"domain\": [0.001, 1000], \"type\": \"log\"}, \"sort\": \"descending\", \"title\": \"Neomycin MIC (\\u03bcg/ml, reverse log scale)\"}, \"y\": {\"type\": \"quantitative\", \"axis\": {\"tickCount\": 5}, \"field\": \"Penicillin\", \"scale\": {\"domain\": [0.001, 1000], \"type\": \"log\"}, \"sort\": \"descending\", \"title\": \"Penicillin MIC (\\u03bcg/ml, reverse log scale)\"}}, \"height\": 250, \"width\": 250, \"$schema\": \"https://vega.github.io/schema/vega-lite/v4.8.1.json\"}, {\"mode\": \"vega-lite\"});\n",
              "</script>"
            ],
            "text/plain": [
              "alt.Chart(...)"
            ]
          },
          "execution_count": 20,
          "metadata": {},
          "output_type": "execute_result"
        }
      ],
      "source": [
        "alt.Chart(antibiotics).mark_circle(size=80).encode(\n",
        "    alt.X('Neomycin:Q',\n",
        "          sort='descending',\n",
        "          scale=alt.Scale(type='log', domain=[0.001, 1000]),\n",
        "          axis=alt.Axis(tickCount=5),\n",
        "          title='Neomycin MIC (μg/ml, reverse log scale)'),\n",
        "    alt.Y('Penicillin:Q',\n",
        "          sort='descending',\n",
        "          scale=alt.Scale(type='log', domain=[0.001, 1000]),\n",
        "          axis=alt.Axis(tickCount=5),\n",
        "          title='Penicillin MIC (μg/ml, reverse log scale)'),\n",
        "    alt.Color('Bacteria:N',\n",
        "          scale=alt.Scale(scheme='tableau20'))\n",
        ").properties(width=250, height=250)"
      ]
    },
    {
      "cell_type": "markdown",
      "metadata": {
        "id": "28Hr54iIbwE4"
      },
      "source": [
        "*Nós agora temos uma única cor para cada bactéria, mas o gráfico ainda está uma bagunça. Entre outros problemas, a codificação não leva em conta as bactérias que pertencem ao mesmo gênero. No gráfico acima, as duas diferentes cepas de Salmonella apresentam matizes muito diferentes (verde-azulado e rosa), apesar de serem primos biológicos.*\n",
        "\n",
        "Para testar um esquema diferente, nos também podemos mudar o tipo de dado de nominal para ordinal. O esquema ordinal padrão usa tons de azul, variando do claro ao escuro:"
      ]
    },
    {
      "cell_type": "code",
      "execution_count": null,
      "metadata": {
        "colab": {
          "base_uri": "https://localhost:8080/",
          "height": 322
        },
        "id": "L3XSjQqePa-z",
        "outputId": "dd1dad11-c74e-4339-9533-4cd195af12a2"
      },
      "outputs": [
        {
          "data": {
            "text/html": [
              "\n",
              "<div id=\"altair-viz-c125d935f71e4a3cbacf9320f45d5865\"></div>\n",
              "<script type=\"text/javascript\">\n",
              "  (function(spec, embedOpt){\n",
              "    let outputDiv = document.currentScript.previousElementSibling;\n",
              "    if (outputDiv.id !== \"altair-viz-c125d935f71e4a3cbacf9320f45d5865\") {\n",
              "      outputDiv = document.getElementById(\"altair-viz-c125d935f71e4a3cbacf9320f45d5865\");\n",
              "    }\n",
              "    const paths = {\n",
              "      \"vega\": \"https://cdn.jsdelivr.net/npm//vega@5?noext\",\n",
              "      \"vega-lib\": \"https://cdn.jsdelivr.net/npm//vega-lib?noext\",\n",
              "      \"vega-lite\": \"https://cdn.jsdelivr.net/npm//vega-lite@4.8.1?noext\",\n",
              "      \"vega-embed\": \"https://cdn.jsdelivr.net/npm//vega-embed@6?noext\",\n",
              "    };\n",
              "\n",
              "    function loadScript(lib) {\n",
              "      return new Promise(function(resolve, reject) {\n",
              "        var s = document.createElement('script');\n",
              "        s.src = paths[lib];\n",
              "        s.async = true;\n",
              "        s.onload = () => resolve(paths[lib]);\n",
              "        s.onerror = () => reject(`Error loading script: ${paths[lib]}`);\n",
              "        document.getElementsByTagName(\"head\")[0].appendChild(s);\n",
              "      });\n",
              "    }\n",
              "\n",
              "    function showError(err) {\n",
              "      outputDiv.innerHTML = `<div class=\"error\" style=\"color:red;\">${err}</div>`;\n",
              "      throw err;\n",
              "    }\n",
              "\n",
              "    function displayChart(vegaEmbed) {\n",
              "      vegaEmbed(outputDiv, spec, embedOpt)\n",
              "        .catch(err => showError(`Javascript Error: ${err.message}<br>This usually means there's a typo in your chart specification. See the javascript console for the full traceback.`));\n",
              "    }\n",
              "\n",
              "    if(typeof define === \"function\" && define.amd) {\n",
              "      requirejs.config({paths});\n",
              "      require([\"vega-embed\"], displayChart, err => showError(`Error loading script: ${err.message}`));\n",
              "    } else if (typeof vegaEmbed === \"function\") {\n",
              "      displayChart(vegaEmbed);\n",
              "    } else {\n",
              "      loadScript(\"vega\")\n",
              "        .then(() => loadScript(\"vega-lite\"))\n",
              "        .then(() => loadScript(\"vega-embed\"))\n",
              "        .catch(showError)\n",
              "        .then(() => displayChart(vegaEmbed));\n",
              "    }\n",
              "  })({\"config\": {\"view\": {\"continuousWidth\": 400, \"continuousHeight\": 300}}, \"data\": {\"url\": \"https://cdn.jsdelivr.net/npm/vega-datasets@1/data/burtin.json\"}, \"mark\": {\"type\": \"circle\", \"size\": 80}, \"encoding\": {\"color\": {\"type\": \"ordinal\", \"field\": \"Bacteria\"}, \"x\": {\"type\": \"quantitative\", \"axis\": {\"tickCount\": 5}, \"field\": \"Neomycin\", \"scale\": {\"domain\": [0.001, 1000], \"type\": \"log\"}, \"sort\": \"descending\", \"title\": \"Neomycin MIC (\\u03bcg/ml, reverse log scale)\"}, \"y\": {\"type\": \"quantitative\", \"axis\": {\"tickCount\": 5}, \"field\": \"Penicillin\", \"scale\": {\"domain\": [0.001, 1000], \"type\": \"log\"}, \"sort\": \"descending\", \"title\": \"Penicillin MIC (\\u03bcg/ml, reverse log scale)\"}}, \"height\": 250, \"width\": 250, \"$schema\": \"https://vega.github.io/schema/vega-lite/v4.8.1.json\"}, {\"mode\": \"vega-lite\"});\n",
              "</script>"
            ],
            "text/plain": [
              "alt.Chart(...)"
            ]
          },
          "execution_count": 21,
          "metadata": {},
          "output_type": "execute_result"
        }
      ],
      "source": [
        "alt.Chart(antibiotics).mark_circle(size=80).encode(\n",
        "    alt.X('Neomycin:Q',\n",
        "          sort='descending',\n",
        "          scale=alt.Scale(type='log', domain=[0.001, 1000]),\n",
        "          axis=alt.Axis(tickCount=5),\n",
        "          title='Neomycin MIC (μg/ml, reverse log scale)'),\n",
        "    alt.Y('Penicillin:Q',\n",
        "          sort='descending',\n",
        "          scale=alt.Scale(type='log', domain=[0.001, 1000]),\n",
        "          axis=alt.Axis(tickCount=5),\n",
        "          title='Penicillin MIC (μg/ml, reverse log scale)'),\n",
        "    alt.Color('Bacteria:O')\n",
        ").properties(width=250, height=250)"
      ]
    },
    {
      "cell_type": "markdown",
      "metadata": {
        "id": "Me8FkMJlErIi"
      },
      "source": [
        "*Alguns desses tons de azul podem ser difíceis de distinguir.*\n",
        "\n",
        "Para cores mais diferenciadas, podemos experimentar alternativas para o esquema de cores `blue` padrão. O esquema `viridis` varia tanto o matiz quanto a luminância."
      ]
    },
    {
      "cell_type": "code",
      "execution_count": null,
      "metadata": {
        "colab": {
          "base_uri": "https://localhost:8080/",
          "height": 322
        },
        "id": "r7Jb5izEE1b4",
        "outputId": "3927106a-dd42-43c5-847a-4f030b467c4c"
      },
      "outputs": [
        {
          "data": {
            "text/html": [
              "\n",
              "<div id=\"altair-viz-91fa82ff61c247e3834cf6cb0605f760\"></div>\n",
              "<script type=\"text/javascript\">\n",
              "  (function(spec, embedOpt){\n",
              "    let outputDiv = document.currentScript.previousElementSibling;\n",
              "    if (outputDiv.id !== \"altair-viz-91fa82ff61c247e3834cf6cb0605f760\") {\n",
              "      outputDiv = document.getElementById(\"altair-viz-91fa82ff61c247e3834cf6cb0605f760\");\n",
              "    }\n",
              "    const paths = {\n",
              "      \"vega\": \"https://cdn.jsdelivr.net/npm//vega@5?noext\",\n",
              "      \"vega-lib\": \"https://cdn.jsdelivr.net/npm//vega-lib?noext\",\n",
              "      \"vega-lite\": \"https://cdn.jsdelivr.net/npm//vega-lite@4.8.1?noext\",\n",
              "      \"vega-embed\": \"https://cdn.jsdelivr.net/npm//vega-embed@6?noext\",\n",
              "    };\n",
              "\n",
              "    function loadScript(lib) {\n",
              "      return new Promise(function(resolve, reject) {\n",
              "        var s = document.createElement('script');\n",
              "        s.src = paths[lib];\n",
              "        s.async = true;\n",
              "        s.onload = () => resolve(paths[lib]);\n",
              "        s.onerror = () => reject(`Error loading script: ${paths[lib]}`);\n",
              "        document.getElementsByTagName(\"head\")[0].appendChild(s);\n",
              "      });\n",
              "    }\n",
              "\n",
              "    function showError(err) {\n",
              "      outputDiv.innerHTML = `<div class=\"error\" style=\"color:red;\">${err}</div>`;\n",
              "      throw err;\n",
              "    }\n",
              "\n",
              "    function displayChart(vegaEmbed) {\n",
              "      vegaEmbed(outputDiv, spec, embedOpt)\n",
              "        .catch(err => showError(`Javascript Error: ${err.message}<br>This usually means there's a typo in your chart specification. See the javascript console for the full traceback.`));\n",
              "    }\n",
              "\n",
              "    if(typeof define === \"function\" && define.amd) {\n",
              "      requirejs.config({paths});\n",
              "      require([\"vega-embed\"], displayChart, err => showError(`Error loading script: ${err.message}`));\n",
              "    } else if (typeof vegaEmbed === \"function\") {\n",
              "      displayChart(vegaEmbed);\n",
              "    } else {\n",
              "      loadScript(\"vega\")\n",
              "        .then(() => loadScript(\"vega-lite\"))\n",
              "        .then(() => loadScript(\"vega-embed\"))\n",
              "        .catch(showError)\n",
              "        .then(() => displayChart(vegaEmbed));\n",
              "    }\n",
              "  })({\"config\": {\"view\": {\"continuousWidth\": 400, \"continuousHeight\": 300}}, \"data\": {\"url\": \"https://cdn.jsdelivr.net/npm/vega-datasets@1/data/burtin.json\"}, \"mark\": {\"type\": \"circle\", \"size\": 80}, \"encoding\": {\"color\": {\"type\": \"ordinal\", \"field\": \"Bacteria\", \"scale\": {\"scheme\": \"viridis\"}}, \"x\": {\"type\": \"quantitative\", \"axis\": {\"tickCount\": 5}, \"field\": \"Neomycin\", \"scale\": {\"domain\": [0.001, 1000], \"type\": \"log\"}, \"sort\": \"descending\", \"title\": \"Neomycin MIC (\\u03bcg/ml, reverse log scale)\"}, \"y\": {\"type\": \"quantitative\", \"axis\": {\"tickCount\": 5}, \"field\": \"Penicillin\", \"scale\": {\"domain\": [0.001, 1000], \"type\": \"log\"}, \"sort\": \"descending\", \"title\": \"Penicillin MIC (\\u03bcg/ml, reverse log scale)\"}}, \"height\": 250, \"width\": 250, \"$schema\": \"https://vega.github.io/schema/vega-lite/v4.8.1.json\"}, {\"mode\": \"vega-lite\"});\n",
              "</script>"
            ],
            "text/plain": [
              "alt.Chart(...)"
            ]
          },
          "execution_count": 22,
          "metadata": {},
          "output_type": "execute_result"
        }
      ],
      "source": [
        "alt.Chart(antibiotics).mark_circle(size=80).encode(\n",
        "    alt.X('Neomycin:Q',\n",
        "          sort='descending',\n",
        "          scale=alt.Scale(type='log', domain=[0.001, 1000]),\n",
        "          axis=alt.Axis(tickCount=5),\n",
        "          title='Neomycin MIC (μg/ml, reverse log scale)'),\n",
        "    alt.Y('Penicillin:Q',\n",
        "          sort='descending',\n",
        "          scale=alt.Scale(type='log', domain=[0.001, 1000]),\n",
        "          axis=alt.Axis(tickCount=5),\n",
        "          title='Penicillin MIC (μg/ml, reverse log scale)'),\n",
        "    alt.Color('Bacteria:O',\n",
        "          scale=alt.Scale(scheme='viridis'))\n",
        ").properties(width=250, height=250)"
      ]
    },
    {
      "cell_type": "markdown",
      "metadata": {
        "id": "o98wtYo4cIAz"
      },
      "source": [
        "*Bacterias do mesmo gênero agora têm cores mais similares que antes, mas o gráfico segue confuso. Há muitas cores, são difíceis de procurar com precisão na legenda, e duas bactérias podem ter cores similares mas gêneros diferentes.*"
      ]
    },
    {
      "cell_type": "markdown",
      "metadata": {
        "id": "Hpjqbi4rAhst"
      },
      "source": [
        "### Cor por Gênero\n",
        "\n",
        "Vamos tentar colorir por gênero em vez de bactéria. Para isso, nós vamos adicionar uma transformação `calculate` que separa o nome da bactéria através dos caracteres de espaço e toma a primeira palavra do vetor resultante. Nós podemos então codificar o campo `Genus` resultante usando o esquema de cor `tableau20`.\n",
        "\n",
        "(Note que a base de dados dos antibióticos inclui um campo `Genus` pré-calculado, mas nós vamos ignorar isto aqui em favor de explorar as transformações de dados do Altair.)"
      ]
    },
    {
      "cell_type": "code",
      "execution_count": null,
      "metadata": {
        "colab": {
          "base_uri": "https://localhost:8080/",
          "height": 322
        },
        "id": "39g0fVG6cuTG",
        "outputId": "654d3638-bded-4bbc-c88b-2e52c88e541c"
      },
      "outputs": [
        {
          "data": {
            "text/html": [
              "\n",
              "<div id=\"altair-viz-d4a26478f5954cd194bc9c70c01d1d25\"></div>\n",
              "<script type=\"text/javascript\">\n",
              "  (function(spec, embedOpt){\n",
              "    let outputDiv = document.currentScript.previousElementSibling;\n",
              "    if (outputDiv.id !== \"altair-viz-d4a26478f5954cd194bc9c70c01d1d25\") {\n",
              "      outputDiv = document.getElementById(\"altair-viz-d4a26478f5954cd194bc9c70c01d1d25\");\n",
              "    }\n",
              "    const paths = {\n",
              "      \"vega\": \"https://cdn.jsdelivr.net/npm//vega@5?noext\",\n",
              "      \"vega-lib\": \"https://cdn.jsdelivr.net/npm//vega-lib?noext\",\n",
              "      \"vega-lite\": \"https://cdn.jsdelivr.net/npm//vega-lite@4.8.1?noext\",\n",
              "      \"vega-embed\": \"https://cdn.jsdelivr.net/npm//vega-embed@6?noext\",\n",
              "    };\n",
              "\n",
              "    function loadScript(lib) {\n",
              "      return new Promise(function(resolve, reject) {\n",
              "        var s = document.createElement('script');\n",
              "        s.src = paths[lib];\n",
              "        s.async = true;\n",
              "        s.onload = () => resolve(paths[lib]);\n",
              "        s.onerror = () => reject(`Error loading script: ${paths[lib]}`);\n",
              "        document.getElementsByTagName(\"head\")[0].appendChild(s);\n",
              "      });\n",
              "    }\n",
              "\n",
              "    function showError(err) {\n",
              "      outputDiv.innerHTML = `<div class=\"error\" style=\"color:red;\">${err}</div>`;\n",
              "      throw err;\n",
              "    }\n",
              "\n",
              "    function displayChart(vegaEmbed) {\n",
              "      vegaEmbed(outputDiv, spec, embedOpt)\n",
              "        .catch(err => showError(`Javascript Error: ${err.message}<br>This usually means there's a typo in your chart specification. See the javascript console for the full traceback.`));\n",
              "    }\n",
              "\n",
              "    if(typeof define === \"function\" && define.amd) {\n",
              "      requirejs.config({paths});\n",
              "      require([\"vega-embed\"], displayChart, err => showError(`Error loading script: ${err.message}`));\n",
              "    } else if (typeof vegaEmbed === \"function\") {\n",
              "      displayChart(vegaEmbed);\n",
              "    } else {\n",
              "      loadScript(\"vega\")\n",
              "        .then(() => loadScript(\"vega-lite\"))\n",
              "        .then(() => loadScript(\"vega-embed\"))\n",
              "        .catch(showError)\n",
              "        .then(() => displayChart(vegaEmbed));\n",
              "    }\n",
              "  })({\"config\": {\"view\": {\"continuousWidth\": 400, \"continuousHeight\": 300}}, \"data\": {\"url\": \"https://cdn.jsdelivr.net/npm/vega-datasets@1/data/burtin.json\"}, \"mark\": {\"type\": \"circle\", \"size\": 80}, \"encoding\": {\"color\": {\"type\": \"nominal\", \"field\": \"Genus\", \"scale\": {\"scheme\": \"tableau20\"}}, \"x\": {\"type\": \"quantitative\", \"axis\": {\"tickCount\": 5}, \"field\": \"Neomycin\", \"scale\": {\"domain\": [0.001, 1000], \"type\": \"log\"}, \"sort\": \"descending\", \"title\": \"Neomycin MIC (\\u03bcg/ml, reverse log scale)\"}, \"y\": {\"type\": \"quantitative\", \"axis\": {\"tickCount\": 5}, \"field\": \"Penicillin\", \"scale\": {\"domain\": [0.001, 1000], \"type\": \"log\"}, \"sort\": \"descending\", \"title\": \"Penicillin MIC (\\u03bcg/ml, reverse log scale)\"}}, \"height\": 250, \"transform\": [{\"calculate\": \"split(datum.Bacteria, \\\" \\\")[0]\", \"as\": \"Genus\"}], \"width\": 250, \"$schema\": \"https://vega.github.io/schema/vega-lite/v4.8.1.json\"}, {\"mode\": \"vega-lite\"});\n",
              "</script>"
            ],
            "text/plain": [
              "alt.Chart(...)"
            ]
          },
          "execution_count": 23,
          "metadata": {},
          "output_type": "execute_result"
        }
      ],
      "source": [
        "alt.Chart(antibiotics).mark_circle(size=80).transform_calculate(\n",
        "    Genus='split(datum.Bacteria, \" \")[0]'\n",
        ").encode(\n",
        "    alt.X('Neomycin:Q',\n",
        "          sort='descending',\n",
        "          scale=alt.Scale(type='log', domain=[0.001, 1000]),\n",
        "          axis=alt.Axis(tickCount=5),\n",
        "          title='Neomycin MIC (μg/ml, reverse log scale)'),\n",
        "    alt.Y('Penicillin:Q',\n",
        "          sort='descending',\n",
        "          scale=alt.Scale(type='log', domain=[0.001, 1000]),\n",
        "          axis=alt.Axis(tickCount=5),\n",
        "          title='Penicillin MIC (μg/ml, reverse log scale)'),\n",
        "    alt.Color('Genus:N',\n",
        "          scale=alt.Scale(scheme='tableau20'))\n",
        ").properties(width=250, height=250)"
      ]
    },
    {
      "cell_type": "markdown",
      "metadata": {
        "id": "UMH3wAeWdAXL"
      },
      "source": [
        "*Humm... Enquanto os dados são melhor segregados por gênero, essa cacofonia de cores não parece particularmente útil.*\n",
        "\n",
        "*Se olharmos cuidadosamente para alguns dos gráficos anteriores, podemos ver que apenas um punhado de bactérias tem o mesmo gênero compartilhado com outra bactéria: Salmonella, Staphylococcus, e Streptococcus. Para focar em nossa comparação, poderíamos adicionar cores apenas para esses valores de gêneros repetidos.*\n",
        "\n",
        "Vamos adicionar uma outra transformação `calculate` que toma um nome de gênero, o mantém se ele é um dos valores repetidos, e caso contrário, utiliza a cadeia de caracteres `\"Other\"` (\"Outro\").\n",
        "\n",
        "Além disso, podemos adicionar codificações personalizadas de cores usando vetores explícitos de `domain` (domínio) e `range` (intervalo) para a codificação de cores `scale` (escala).\n"
      ]
    },
    {
      "cell_type": "code",
      "execution_count": null,
      "metadata": {
        "colab": {
          "base_uri": "https://localhost:8080/",
          "height": 322
        },
        "id": "Qmi_geBiPgvr",
        "outputId": "9e06d0a1-756a-4a46-cedf-e2be85e7b09d"
      },
      "outputs": [
        {
          "data": {
            "text/html": [
              "\n",
              "<div id=\"altair-viz-a1f8d83bf05942928e539e2bb797f765\"></div>\n",
              "<script type=\"text/javascript\">\n",
              "  (function(spec, embedOpt){\n",
              "    let outputDiv = document.currentScript.previousElementSibling;\n",
              "    if (outputDiv.id !== \"altair-viz-a1f8d83bf05942928e539e2bb797f765\") {\n",
              "      outputDiv = document.getElementById(\"altair-viz-a1f8d83bf05942928e539e2bb797f765\");\n",
              "    }\n",
              "    const paths = {\n",
              "      \"vega\": \"https://cdn.jsdelivr.net/npm//vega@5?noext\",\n",
              "      \"vega-lib\": \"https://cdn.jsdelivr.net/npm//vega-lib?noext\",\n",
              "      \"vega-lite\": \"https://cdn.jsdelivr.net/npm//vega-lite@4.8.1?noext\",\n",
              "      \"vega-embed\": \"https://cdn.jsdelivr.net/npm//vega-embed@6?noext\",\n",
              "    };\n",
              "\n",
              "    function loadScript(lib) {\n",
              "      return new Promise(function(resolve, reject) {\n",
              "        var s = document.createElement('script');\n",
              "        s.src = paths[lib];\n",
              "        s.async = true;\n",
              "        s.onload = () => resolve(paths[lib]);\n",
              "        s.onerror = () => reject(`Error loading script: ${paths[lib]}`);\n",
              "        document.getElementsByTagName(\"head\")[0].appendChild(s);\n",
              "      });\n",
              "    }\n",
              "\n",
              "    function showError(err) {\n",
              "      outputDiv.innerHTML = `<div class=\"error\" style=\"color:red;\">${err}</div>`;\n",
              "      throw err;\n",
              "    }\n",
              "\n",
              "    function displayChart(vegaEmbed) {\n",
              "      vegaEmbed(outputDiv, spec, embedOpt)\n",
              "        .catch(err => showError(`Javascript Error: ${err.message}<br>This usually means there's a typo in your chart specification. See the javascript console for the full traceback.`));\n",
              "    }\n",
              "\n",
              "    if(typeof define === \"function\" && define.amd) {\n",
              "      requirejs.config({paths});\n",
              "      require([\"vega-embed\"], displayChart, err => showError(`Error loading script: ${err.message}`));\n",
              "    } else if (typeof vegaEmbed === \"function\") {\n",
              "      displayChart(vegaEmbed);\n",
              "    } else {\n",
              "      loadScript(\"vega\")\n",
              "        .then(() => loadScript(\"vega-lite\"))\n",
              "        .then(() => loadScript(\"vega-embed\"))\n",
              "        .catch(showError)\n",
              "        .then(() => displayChart(vegaEmbed));\n",
              "    }\n",
              "  })({\"config\": {\"view\": {\"continuousWidth\": 400, \"continuousHeight\": 300}}, \"data\": {\"url\": \"https://cdn.jsdelivr.net/npm/vega-datasets@1/data/burtin.json\"}, \"mark\": {\"type\": \"circle\", \"size\": 80}, \"encoding\": {\"color\": {\"type\": \"nominal\", \"field\": \"Genus\", \"scale\": {\"domain\": [\"Salmonella\", \"Staphylococcus\", \"Streptococcus\", \"Other\"], \"range\": [\"rgb(76,120,168)\", \"rgb(84,162,75)\", \"rgb(228,87,86)\", \"rgb(121,112,110)\"]}}, \"x\": {\"type\": \"quantitative\", \"axis\": {\"tickCount\": 5}, \"field\": \"Neomycin\", \"scale\": {\"domain\": [0.001, 1000], \"type\": \"log\"}, \"sort\": \"descending\", \"title\": \"Neomycin MIC (\\u03bcg/ml, reverse log scale)\"}, \"y\": {\"type\": \"quantitative\", \"axis\": {\"tickCount\": 5}, \"field\": \"Penicillin\", \"scale\": {\"domain\": [0.001, 1000], \"type\": \"log\"}, \"sort\": \"descending\", \"title\": \"Penicillin MIC (\\u03bcg/ml, reverse log scale)\"}}, \"height\": 250, \"transform\": [{\"calculate\": \"split(datum.Bacteria, \\\" \\\")[0]\", \"as\": \"Split\"}, {\"calculate\": \"indexof([\\\"Salmonella\\\", \\\"Staphylococcus\\\", \\\"Streptococcus\\\"], datum.Split) >= 0 ? datum.Split : \\\"Other\\\"\", \"as\": \"Genus\"}], \"width\": 250, \"$schema\": \"https://vega.github.io/schema/vega-lite/v4.8.1.json\"}, {\"mode\": \"vega-lite\"});\n",
              "</script>"
            ],
            "text/plain": [
              "alt.Chart(...)"
            ]
          },
          "execution_count": 24,
          "metadata": {},
          "output_type": "execute_result"
        }
      ],
      "source": [
        "alt.Chart(antibiotics).mark_circle(size=80).transform_calculate(\n",
        "  Split='split(datum.Bacteria, \" \")[0]'\n",
        ").transform_calculate(\n",
        "  Genus='indexof([\"Salmonella\", \"Staphylococcus\", \"Streptococcus\"], datum.Split) >= 0 ? datum.Split : \"Other\"'\n",
        ").encode(\n",
        "    alt.X('Neomycin:Q',\n",
        "          sort='descending',\n",
        "          scale=alt.Scale(type='log', domain=[0.001, 1000]),\n",
        "          axis=alt.Axis(tickCount=5),\n",
        "          title='Neomycin MIC (μg/ml, reverse log scale)'),\n",
        "    alt.Y('Penicillin:Q',\n",
        "          sort='descending',\n",
        "          scale=alt.Scale(type='log', domain=[0.001, 1000]),\n",
        "          axis=alt.Axis(tickCount=5),\n",
        "          title='Penicillin MIC (μg/ml, reverse log scale)'),\n",
        "    alt.Color('Genus:N',\n",
        "          scale=alt.Scale(\n",
        "            domain=['Salmonella', 'Staphylococcus', 'Streptococcus', 'Other'],\n",
        "            range=['rgb(76,120,168)', 'rgb(84,162,75)', 'rgb(228,87,86)', 'rgb(121,112,110)']\n",
        "          ))\n",
        ").properties(width=250, height=250)"
      ]
    },
    {
      "cell_type": "markdown",
      "metadata": {
        "id": "QQAuRPEDeRjU"
      },
      "source": [
        "*Nós agora temos um gráfico muito mais revelador, tornado possível pela personalização dos eixos e legenda. Tire um momento para examinar o gráfico acima. Nota algum agrupamento surpreendente?*\n",
        "\n",
        "*A região superior-esquerda contém um agrupamento de bactérias Streptococcus vermelhas, mas com uma outra cinza bactéria ao lado delas. Enquanto isso, em direção ao centro-direita nós vemos uma outra Streptococcus vermelha posicionada longe de suas \"primas\". Poderíamos esperar que bactérias do mesmo gênero (e portanto, presumivelmente mais geneticamente similares) fossem agrupadas mais próximas?*\n",
        "\n",
        "Acontece que o conjunto de dados subjacente na verdade contém erros. O conjunto de dados reflete a designição de espécies usada no início dos anos 1950. No entanto, o consenso científico foi derrubado desde então. Aquele ponto cinza na esquerda-superior? Agora é considerado uma Streptococcus! Aquele ponto vermelho em direção ao centro-direita? Não é mais considerado uma Streptococcus!\n",
        "\n",
        "É claro, por conta própria, este conjunto de dados não justifica totalmente essas reclassificações. No entanto, os dados contêm pistas biológicas valiosas que passaram despercebidas durante décadas! A visualização, quando usada por um observador devidamente qualificado e curioso, pode ser uma ferramenta poderosa para descoberta.\n",
        "\n",
        "Este exemplo também reforça uma lição importante: ***seja sempre cético em relação aos seus dados!***"
      ]
    },
    {
      "cell_type": "markdown",
      "metadata": {
        "id": "-smGRVYDDjQZ"
      },
      "source": [
        "### 4.3.4 Resistência antibiótica em cores\n",
        "\n",
        "Podemos também usar o canal `color` (cor) para codificar valores quantitativos. No entanto, tenha em mente que a cor normalmente não mostra quantidades de forma tão eficaz quanto codificações de posição ou tamanho!\n",
        "\n",
        "Abaixo está um mapa de calor básico dos valores de CIM de penicilina para cada bactéria. Vamos utilizar a marca `rect`(retângulo) e ordenar as bactérias em ordem decrescente de valores em CIM (da mais resistente para a menos resistente)."
      ]
    },
    {
      "cell_type": "code",
      "execution_count": null,
      "metadata": {
        "colab": {
          "base_uri": "https://localhost:8080/",
          "height": 367
        },
        "id": "j2Ws9wfPOA2G",
        "outputId": "0a92631d-1f68-4840-d5cd-26399f559aba"
      },
      "outputs": [
        {
          "data": {
            "text/html": [
              "\n",
              "<div id=\"altair-viz-3c5bc5598812484ba7bf18f15684afe4\"></div>\n",
              "<script type=\"text/javascript\">\n",
              "  (function(spec, embedOpt){\n",
              "    let outputDiv = document.currentScript.previousElementSibling;\n",
              "    if (outputDiv.id !== \"altair-viz-3c5bc5598812484ba7bf18f15684afe4\") {\n",
              "      outputDiv = document.getElementById(\"altair-viz-3c5bc5598812484ba7bf18f15684afe4\");\n",
              "    }\n",
              "    const paths = {\n",
              "      \"vega\": \"https://cdn.jsdelivr.net/npm//vega@5?noext\",\n",
              "      \"vega-lib\": \"https://cdn.jsdelivr.net/npm//vega-lib?noext\",\n",
              "      \"vega-lite\": \"https://cdn.jsdelivr.net/npm//vega-lite@4.8.1?noext\",\n",
              "      \"vega-embed\": \"https://cdn.jsdelivr.net/npm//vega-embed@6?noext\",\n",
              "    };\n",
              "\n",
              "    function loadScript(lib) {\n",
              "      return new Promise(function(resolve, reject) {\n",
              "        var s = document.createElement('script');\n",
              "        s.src = paths[lib];\n",
              "        s.async = true;\n",
              "        s.onload = () => resolve(paths[lib]);\n",
              "        s.onerror = () => reject(`Error loading script: ${paths[lib]}`);\n",
              "        document.getElementsByTagName(\"head\")[0].appendChild(s);\n",
              "      });\n",
              "    }\n",
              "\n",
              "    function showError(err) {\n",
              "      outputDiv.innerHTML = `<div class=\"error\" style=\"color:red;\">${err}</div>`;\n",
              "      throw err;\n",
              "    }\n",
              "\n",
              "    function displayChart(vegaEmbed) {\n",
              "      vegaEmbed(outputDiv, spec, embedOpt)\n",
              "        .catch(err => showError(`Javascript Error: ${err.message}<br>This usually means there's a typo in your chart specification. See the javascript console for the full traceback.`));\n",
              "    }\n",
              "\n",
              "    if(typeof define === \"function\" && define.amd) {\n",
              "      requirejs.config({paths});\n",
              "      require([\"vega-embed\"], displayChart, err => showError(`Error loading script: ${err.message}`));\n",
              "    } else if (typeof vegaEmbed === \"function\") {\n",
              "      displayChart(vegaEmbed);\n",
              "    } else {\n",
              "      loadScript(\"vega\")\n",
              "        .then(() => loadScript(\"vega-lite\"))\n",
              "        .then(() => loadScript(\"vega-embed\"))\n",
              "        .catch(showError)\n",
              "        .then(() => displayChart(vegaEmbed));\n",
              "    }\n",
              "  })({\"config\": {\"view\": {\"continuousWidth\": 400, \"continuousHeight\": 300}}, \"data\": {\"url\": \"https://cdn.jsdelivr.net/npm/vega-datasets@1/data/burtin.json\"}, \"mark\": \"rect\", \"encoding\": {\"color\": {\"type\": \"quantitative\", \"field\": \"Penicillin\"}, \"y\": {\"type\": \"nominal\", \"field\": \"Bacteria\", \"sort\": {\"field\": \"Penicillin\", \"op\": \"max\", \"order\": \"descending\"}}}, \"$schema\": \"https://vega.github.io/schema/vega-lite/v4.8.1.json\"}, {\"mode\": \"vega-lite\"});\n",
              "</script>"
            ],
            "text/plain": [
              "alt.Chart(...)"
            ]
          },
          "execution_count": 25,
          "metadata": {},
          "output_type": "execute_result"
        }
      ],
      "source": [
        "alt.Chart(antibiotics).mark_rect().encode(\n",
        "    alt.Y('Bacteria:N',\n",
        "      sort=alt.EncodingSortField(field='Penicillin', op='max', order='descending')\n",
        "    ),\n",
        "    alt.Color('Penicillin:Q')\n",
        ")"
      ]
    },
    {
      "cell_type": "markdown",
      "metadata": {
        "id": "ujSSUCV_G-Nh"
      },
      "source": [
        "Podemos melhorar ainda mais este gráfico combinando os recursos que vimos até então: uma escala transformada em logaritmo, uma mudança na orientação do eixo, um esquema de cores personalizado (`plasma`), ajuste da contagem de marcas e texto personalizado no título. Também vamos utilizar opções de configuração para ajustar a posição do título do eixo e o alinhamento do título da legenda."
      ]
    },
    {
      "cell_type": "code",
      "execution_count": null,
      "metadata": {
        "colab": {
          "base_uri": "https://localhost:8080/",
          "height": 367
        },
        "id": "yVcBGyDoOA2G",
        "outputId": "96210f62-39b2-4e61-a528-cd6f8b552f77"
      },
      "outputs": [
        {
          "data": {
            "text/html": [
              "\n",
              "<div id=\"altair-viz-e976a2a226e84fc6ad06e7cc853c8223\"></div>\n",
              "<script type=\"text/javascript\">\n",
              "  (function(spec, embedOpt){\n",
              "    let outputDiv = document.currentScript.previousElementSibling;\n",
              "    if (outputDiv.id !== \"altair-viz-e976a2a226e84fc6ad06e7cc853c8223\") {\n",
              "      outputDiv = document.getElementById(\"altair-viz-e976a2a226e84fc6ad06e7cc853c8223\");\n",
              "    }\n",
              "    const paths = {\n",
              "      \"vega\": \"https://cdn.jsdelivr.net/npm//vega@5?noext\",\n",
              "      \"vega-lib\": \"https://cdn.jsdelivr.net/npm//vega-lib?noext\",\n",
              "      \"vega-lite\": \"https://cdn.jsdelivr.net/npm//vega-lite@4.8.1?noext\",\n",
              "      \"vega-embed\": \"https://cdn.jsdelivr.net/npm//vega-embed@6?noext\",\n",
              "    };\n",
              "\n",
              "    function loadScript(lib) {\n",
              "      return new Promise(function(resolve, reject) {\n",
              "        var s = document.createElement('script');\n",
              "        s.src = paths[lib];\n",
              "        s.async = true;\n",
              "        s.onload = () => resolve(paths[lib]);\n",
              "        s.onerror = () => reject(`Error loading script: ${paths[lib]}`);\n",
              "        document.getElementsByTagName(\"head\")[0].appendChild(s);\n",
              "      });\n",
              "    }\n",
              "\n",
              "    function showError(err) {\n",
              "      outputDiv.innerHTML = `<div class=\"error\" style=\"color:red;\">${err}</div>`;\n",
              "      throw err;\n",
              "    }\n",
              "\n",
              "    function displayChart(vegaEmbed) {\n",
              "      vegaEmbed(outputDiv, spec, embedOpt)\n",
              "        .catch(err => showError(`Javascript Error: ${err.message}<br>This usually means there's a typo in your chart specification. See the javascript console for the full traceback.`));\n",
              "    }\n",
              "\n",
              "    if(typeof define === \"function\" && define.amd) {\n",
              "      requirejs.config({paths});\n",
              "      require([\"vega-embed\"], displayChart, err => showError(`Error loading script: ${err.message}`));\n",
              "    } else if (typeof vegaEmbed === \"function\") {\n",
              "      displayChart(vegaEmbed);\n",
              "    } else {\n",
              "      loadScript(\"vega\")\n",
              "        .then(() => loadScript(\"vega-lite\"))\n",
              "        .then(() => loadScript(\"vega-embed\"))\n",
              "        .catch(showError)\n",
              "        .then(() => displayChart(vegaEmbed));\n",
              "    }\n",
              "  })({\"config\": {\"view\": {\"continuousWidth\": 400, \"continuousHeight\": 300}}, \"data\": {\"url\": \"https://cdn.jsdelivr.net/npm/vega-datasets@1/data/burtin.json\"}, \"mark\": \"rect\", \"encoding\": {\"color\": {\"type\": \"quantitative\", \"field\": \"Penicillin\", \"legend\": {\"tickCount\": 5, \"titleOrient\": \"right\"}, \"scale\": {\"nice\": true, \"scheme\": \"plasma\", \"type\": \"log\"}, \"title\": \"Penicillin MIC (\\u03bcg/ml)\"}, \"y\": {\"type\": \"nominal\", \"axis\": {\"orient\": \"right\", \"titleAlign\": \"left\", \"titleAngle\": 0, \"titleX\": 7, \"titleY\": -2}, \"field\": \"Bacteria\", \"sort\": {\"field\": \"Penicillin\", \"op\": \"max\", \"order\": \"descending\"}}}, \"$schema\": \"https://vega.github.io/schema/vega-lite/v4.8.1.json\"}, {\"mode\": \"vega-lite\"});\n",
              "</script>"
            ],
            "text/plain": [
              "alt.Chart(...)"
            ]
          },
          "execution_count": 26,
          "metadata": {},
          "output_type": "execute_result"
        }
      ],
      "source": [
        "alt.Chart(antibiotics).mark_rect().encode(\n",
        "    alt.Y('Bacteria:N',\n",
        "      sort=alt.EncodingSortField(field='Penicillin', op='max', order='descending'),\n",
        "      axis=alt.Axis(\n",
        "        orient='right',     # orienta o eixo para o lado direito no gráfico\n",
        "        titleX=7,           # define a posição de x para 7 pixels à direita do gráfico\n",
        "        titleY=-2,          # define a posição de y para 2 pixels acima do gráfico\n",
        "        titleAlign='left',  # alinha o texto à esquerda\n",
        "        titleAngle=0        # desfaz a orientação padrão do título\n",
        "      )\n",
        "    ),\n",
        "    alt.Color('Penicillin:Q',\n",
        "      scale=alt.Scale(type='log', scheme='plasma', nice=True),\n",
        "      legend=alt.Legend(titleOrient='right', tickCount=5),\n",
        "      title='Penicillin MIC (μg/ml)'\n",
        "    )\n",
        ")"
      ]
    },
    {
      "cell_type": "markdown",
      "metadata": {
        "id": "YAxLggimJMKZ"
      },
      "source": [
        "Ou podemos simplesmente remover o título do eixo e usar a propriedade `title` para adicionar um título para o gŕafico inteiro:"
      ]
    },
    {
      "cell_type": "code",
      "execution_count": null,
      "metadata": {
        "id": "TFXyC6LyOA2H",
        "outputId": "7fccb7ab-9f02-4c7b-9d03-6bd241c95cb1"
      },
      "outputs": [
        {
          "data": {
            "text/html": [
              "\n",
              "<div id=\"altair-viz-133dc02cb5e04596aeff0f24d36148d5\"></div>\n",
              "<script type=\"text/javascript\">\n",
              "  (function(spec, embedOpt){\n",
              "    let outputDiv = document.currentScript.previousElementSibling;\n",
              "    if (outputDiv.id !== \"altair-viz-133dc02cb5e04596aeff0f24d36148d5\") {\n",
              "      outputDiv = document.getElementById(\"altair-viz-133dc02cb5e04596aeff0f24d36148d5\");\n",
              "    }\n",
              "    const paths = {\n",
              "      \"vega\": \"https://cdn.jsdelivr.net/npm//vega@5?noext\",\n",
              "      \"vega-lib\": \"https://cdn.jsdelivr.net/npm//vega-lib?noext\",\n",
              "      \"vega-lite\": \"https://cdn.jsdelivr.net/npm//vega-lite@4.8.1?noext\",\n",
              "      \"vega-embed\": \"https://cdn.jsdelivr.net/npm//vega-embed@6?noext\",\n",
              "    };\n",
              "\n",
              "    function loadScript(lib) {\n",
              "      return new Promise(function(resolve, reject) {\n",
              "        var s = document.createElement('script');\n",
              "        s.src = paths[lib];\n",
              "        s.async = true;\n",
              "        s.onload = () => resolve(paths[lib]);\n",
              "        s.onerror = () => reject(`Error loading script: ${paths[lib]}`);\n",
              "        document.getElementsByTagName(\"head\")[0].appendChild(s);\n",
              "      });\n",
              "    }\n",
              "\n",
              "    function showError(err) {\n",
              "      outputDiv.innerHTML = `<div class=\"error\" style=\"color:red;\">${err}</div>`;\n",
              "      throw err;\n",
              "    }\n",
              "\n",
              "    function displayChart(vegaEmbed) {\n",
              "      vegaEmbed(outputDiv, spec, embedOpt)\n",
              "        .catch(err => showError(`Javascript Error: ${err.message}<br>This usually means there's a typo in your chart specification. See the javascript console for the full traceback.`));\n",
              "    }\n",
              "\n",
              "    if(typeof define === \"function\" && define.amd) {\n",
              "      requirejs.config({paths});\n",
              "      require([\"vega-embed\"], displayChart, err => showError(`Error loading script: ${err.message}`));\n",
              "    } else if (typeof vegaEmbed === \"function\") {\n",
              "      displayChart(vegaEmbed);\n",
              "    } else {\n",
              "      loadScript(\"vega\")\n",
              "        .then(() => loadScript(\"vega-lite\"))\n",
              "        .then(() => loadScript(\"vega-embed\"))\n",
              "        .catch(showError)\n",
              "        .then(() => displayChart(vegaEmbed));\n",
              "    }\n",
              "  })({\"config\": {\"view\": {\"continuousWidth\": 400, \"continuousHeight\": 300}, \"title\": {\"anchor\": \"start\", \"offset\": 5}}, \"data\": {\"url\": \"https://cdn.jsdelivr.net/npm/vega-datasets@1/data/burtin.json\"}, \"mark\": \"rect\", \"encoding\": {\"color\": {\"type\": \"quantitative\", \"field\": \"Penicillin\", \"legend\": {\"tickCount\": 5, \"titleOrient\": \"right\"}, \"scale\": {\"nice\": true, \"scheme\": \"plasma\", \"type\": \"log\"}, \"title\": \"Penicillin MIC (\\u03bcg/ml)\"}, \"y\": {\"type\": \"nominal\", \"axis\": {\"orient\": \"right\", \"title\": null}, \"field\": \"Bacteria\", \"sort\": {\"field\": \"Penicillin\", \"op\": \"max\", \"order\": \"descending\"}}}, \"title\": \"Penicillin Resistance of Bacterial Strains\", \"$schema\": \"https://vega.github.io/schema/vega-lite/v4.8.1.json\"}, {\"mode\": \"vega-lite\"});\n",
              "</script>"
            ],
            "text/plain": [
              "alt.Chart(...)"
            ]
          },
          "execution_count": 27,
          "metadata": {},
          "output_type": "execute_result"
        }
      ],
      "source": [
        "alt.Chart(antibiotics, title='Penicillin Resistance of Bacterial Strains').mark_rect().encode(\n",
        "    alt.Y('Bacteria:N',\n",
        "      sort=alt.EncodingSortField(field='Penicillin', op='max', order='descending'),\n",
        "      axis=alt.Axis(orient='right', title=None)\n",
        "    ),\n",
        "    alt.Color('Penicillin:Q',\n",
        "      scale=alt.Scale(type='log', scheme='plasma', nice=True),\n",
        "      legend=alt.Legend(titleOrient='right', tickCount=5),\n",
        "      title='Penicillin MIC (μg/ml)'\n",
        "    )\n",
        ").configure_title(\n",
        "  anchor='start', # ancora e alinha o título à esquerda\n",
        "  offset=5        # define o espaçamento do título no gráfico"
      ]
    },
    {
      "cell_type": "markdown",
      "metadata": {
        "id": "tIDYaiX3JxeD"
      },
      "source": [
        "### 4.4 Sumário\n",
        "\n",
        "Juntando tudo o que aprendemos nesses capítulos sobre codificações, transformação de dados e customização, você está apto a realizar uma grande variedade de gráficos estatísticos. Agora você pode usar o Altair no dia a dia para explorar e comunicar dados!\n",
        "\n",
        "Interessado em aprender mais sobre este assunto?\n",
        "\n",
        "\n",
        "*   Comece pela [documentação de Customização de Visualizações do Altair](https://altair-viz.github.io/user_guide/customization.html).\n",
        "*   Para uma discussão complementar sobre mapeamento de escala, veja [\"Introducing d3-scale\"](https://medium.com/@mbostock/introducing-d3-scale-61980c51545f) (em português, \"Introduzindo a escala d3\").\n",
        "*   Para uma exploração mais detalhada de todas as formas como os eixos e as legendas podem ser customizadas com a biblioteca Vega (que é a base do Altair e do Vega-Lite), veja [\"A Guide to Guides: Axes & Legends in Vega\"](https://observablehq.com/@vega/a-guide-to-guides-axes-legends-in-vega) (em português, \"Um guia para guias: eixos e legendas em Vega\").\n",
        "*   Para uma fascinante história sobre o dataset de antibióticos, veja [\"That's Funny...\" de Wainer e Lysen](https://www.americanscientist.org/article/thats-funny) (em português, \"É Engraçado...\") no *American Scientist*."
      ]
    }
  ],
  "metadata": {
    "colab": {
      "provenance": []
    },
    "kernelspec": {
      "display_name": "Python 3",
      "language": "python",
      "name": "python3"
    },
    "language_info": {
      "codemirror_mode": {
        "name": "ipython",
        "version": 3
      },
      "file_extension": ".py",
      "mimetype": "text/x-python",
      "name": "python",
      "nbconvert_exporter": "python",
      "pygments_lexer": "ipython3",
      "version": "3.7.9"
    }
  },
  "nbformat": 4,
  "nbformat_minor": 0
}
